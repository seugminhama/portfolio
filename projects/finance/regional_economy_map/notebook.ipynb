{
  "cells": [
    {
      "cell_type": "markdown",
      "metadata": {
        "id": "view-in-github",
        "colab_type": "text"
      },
      "source": [
        "<a href=\"https://colab.research.google.com/github/seungminhama/portfolio/blob/main/projects/finance/regional_economy_map/notebook.ipynb\" target=\"_parent\"><img src=\"https://colab.research.google.com/assets/colab-badge.svg\" alt=\"Open In Colab\"/></a>"
      ]
    },
    {
      "cell_type": "markdown",
      "metadata": {
        "id": "UKmNE6wRwv4b"
      },
      "source": [
        "# 환경설정 및 데이터 로드"
      ]
    },
    {
      "cell_type": "code",
      "source": [
        "!pip install tqdm"
      ],
      "metadata": {
        "colab": {
          "base_uri": "https://localhost:8080/"
        },
        "id": "HaBXue8vA8hw",
        "outputId": "86599446-c0ba-4a6b-cc8e-13ede54aef4a"
      },
      "execution_count": null,
      "outputs": [
        {
          "output_type": "stream",
          "name": "stdout",
          "text": [
            "Requirement already satisfied: tqdm in /usr/local/lib/python3.12/dist-packages (4.67.1)\n"
          ]
        }
      ]
    },
    {
      "cell_type": "code",
      "execution_count": null,
      "metadata": {
        "id": "zOrQBt3ews9f"
      },
      "outputs": [],
      "source": [
        "# 필요한 라이브러리 임포트\n",
        "import os, re, glob, io, zipfile, warnings\n",
        "import math, time, requests\n",
        "import folium, json\n",
        "import geopandas as gpd\n",
        "import numpy as np\n",
        "import pandas as pd\n",
        "from sklearn.preprocessing import MinMaxScaler\n",
        "from sklearn.cluster import KMeans\n",
        "from google.colab import drive\n",
        "import matplotlib.pyplot as plt\n",
        "import seaborn as sns\n",
        "import geopandas as gpd\n",
        "from shapely.geometry import Point\n",
        "from matplotlib.colors import ListedColormap\n",
        "import statsmodels.api as sm\n",
        "from google.colab import files\n",
        "from contextlib import contextmanager\n",
        "from branca.colormap import linear\n",
        "from folium import FeatureGroup\n",
        "from folium.plugins import MarkerCluster, MeasureControl\n",
        "from shapely.geometry import Polygon\n",
        "from tqdm.auto import tqdm"
      ]
    },
    {
      "cell_type": "code",
      "execution_count": null,
      "metadata": {
        "colab": {
          "base_uri": "https://localhost:8080/"
        },
        "id": "frx9L_73wyvp",
        "outputId": "27021ead-890f-4089-c568-de218d4f33f2"
      },
      "outputs": [
        {
          "output_type": "stream",
          "name": "stdout",
          "text": [
            "Drive already mounted at /content/drive; to attempt to forcibly remount, call drive.mount(\"/content/drive\", force_remount=True).\n"
          ]
        }
      ],
      "source": [
        "# Google Drive 마운트\n",
        "drive.mount('/content/drive')\n",
        "\n",
        "# 경고 무시\n",
        "warnings.filterwarnings('ignore')"
      ]
    },
    {
      "cell_type": "code",
      "execution_count": null,
      "metadata": {
        "id": "GN1h0Gj6w3Bp"
      },
      "outputs": [],
      "source": [
        "# Google Drive 경로 설정\n",
        "data_path = '/content/drive/MyDrive/2025 천안 데이터 공모전/데이터'"
      ]
    },
    {
      "cell_type": "markdown",
      "metadata": {
        "id": "bdfhVJFvyDwy"
      },
      "source": [
        "# 데이터 정제"
      ]
    },
    {
      "cell_type": "markdown",
      "metadata": {
        "id": "pqLwhafMEcHc"
      },
      "source": [
        "## 기숙사"
      ]
    },
    {
      "cell_type": "code",
      "execution_count": null,
      "metadata": {
        "id": "PgBRGLiTnyC7"
      },
      "outputs": [],
      "source": [
        "path_dorm = \"/content/drive/MyDrive/데이터/충남_대학교_기숙사_2022_2024.csv\""
      ]
    },
    {
      "cell_type": "code",
      "execution_count": null,
      "metadata": {
        "id": "5nqe-e1CEZjv",
        "colab": {
          "base_uri": "https://localhost:8080/"
        },
        "outputId": "ceb6167a-1522-48c7-96a0-6c5cdf55f91e"
      },
      "outputs": [
        {
          "output_type": "stream",
          "name": "stdout",
          "text": [
            "(289, 33)\n",
            "Index(['기준연도', '학교종류', '설립구분', '지역', '상태', '학교', '재학생수(A)', '총 실수',\n",
            "       '수용가능인원(B)', '실제 수용 인원', 'Unnamed: 10', 'Unnamed: 11',\n",
            "       '기숙사수용률\\n(C=B/Ax100)', '기숙사 지원자 수(D)', 'Unnamed: 14', 'Unnamed: 15',\n",
            "       '입사 경쟁률\\n(E=D/B)', '의무식\\n여부', '구분', '건물명', '준공연도', '1인실', 'Unnamed: 22',\n",
            "       'Unnamed: 23', '2인실', 'Unnamed: 25', 'Unnamed: 26', '3인실',\n",
            "       'Unnamed: 28', 'Unnamed: 29', '4인실 이상', 'Unnamed: 31', 'Unnamed: 32'],\n",
            "      dtype='object')\n"
          ]
        }
      ],
      "source": [
        "dorm = pd.read_csv(path_dorm)\n",
        "print(dorm.shape)\n",
        "print(dorm.columns)"
      ]
    },
    {
      "cell_type": "code",
      "execution_count": null,
      "metadata": {
        "id": "fYHQ0NZyEv32",
        "colab": {
          "base_uri": "https://localhost:8080/"
        },
        "outputId": "2c47b72c-a140-4c17-83e0-c05c8d16893a"
      },
      "outputs": [
        {
          "output_type": "stream",
          "name": "stdout",
          "text": [
            "     기준연도   지역      학교 실제 수용 인원\n",
            "0     NaN  NaN     NaN     학위과정\n",
            "1     NaN  NaN     NaN      내국인\n",
            "2  2022.0   충남  건양대학교       210\n",
            "3     NaN   충남     NaN      130\n",
            "4     NaN   충남     NaN      340\n",
            "(289, 4)\n"
          ]
        }
      ],
      "source": [
        "# 필요한 칼럼만 남기기\n",
        "dorm_slim = dorm[['기준연도','지역','학교','실제 수용 인원']].copy()\n",
        "\n",
        "print(dorm_slim.head())\n",
        "print(dorm_slim.shape)"
      ]
    },
    {
      "cell_type": "code",
      "execution_count": null,
      "metadata": {
        "id": "Cpr2UCIdFQc7",
        "colab": {
          "base_uri": "https://localhost:8080/"
        },
        "outputId": "f83f5553-07bc-4dcd-c67c-01cb6d2cc967"
      },
      "outputs": [
        {
          "output_type": "stream",
          "name": "stdout",
          "text": [
            "(274, 4)\n",
            "       기준연도  지역        학교  실제 수용 인원\n",
            "2    2022.0  충남    건양대학교      210.0\n",
            "3       NaN  충남       NaN     130.0\n",
            "4       NaN  충남       NaN     340.0\n",
            "5       NaN  충남       NaN     237.0\n",
            "6       NaN  충남       NaN     112.0\n",
            "..      ...  ..       ...       ...\n",
            "101     NaN  충남       NaN     181.0\n",
            "102     NaN  충남  공주교육대학교      186.0\n",
            "103     NaN  충남       NaN     249.0\n",
            "104     NaN  충남       NaN     206.0\n",
            "105     NaN  충남  국립공주대학교      778.0\n",
            "\n",
            "[100 rows x 4 columns]\n"
          ]
        }
      ],
      "source": [
        "# 실제 수용 인원에 숫자 아닌 값은 NaN 처리\n",
        "dorm_slim['실제 수용 인원'] = pd.to_numeric(dorm_slim['실제 수용 인원'], errors='coerce')\n",
        "\n",
        "# NaN 값 제거\n",
        "dorm_clean = dorm_slim.dropna(subset=['실제 수용 인원']).copy()\n",
        "\n",
        "print(dorm_clean.shape)\n",
        "print(dorm_clean.head(100))"
      ]
    },
    {
      "cell_type": "code",
      "execution_count": null,
      "metadata": {
        "id": "m6BW7VU8GIlN",
        "colab": {
          "base_uri": "https://localhost:8080/"
        },
        "outputId": "bd728891-c72f-403a-8156-ad40049d1fe4"
      },
      "outputs": [
        {
          "output_type": "stream",
          "name": "stdout",
          "text": [
            "    기준연도  지역        학교  실제 수용 인원\n",
            "2   2022  충남    건양대학교      210.0\n",
            "3   2022  충남    건양대학교      130.0\n",
            "4   2022  충남    건양대학교      340.0\n",
            "5   2022  충남    건양대학교      237.0\n",
            "6   2022  충남    건양대학교      112.0\n",
            "7   2022  충남    건양대학교        0.0\n",
            "8   2022  충남  공주교육대학교      249.0\n",
            "9   2022  충남  공주교육대학교      197.0\n",
            "10  2022  충남  공주교육대학교      208.0\n",
            "11  2022  충남  국립공주대학교      156.0\n",
            "     기준연도  지역          학교  실제 수용 인원\n",
            "278  2024  충남  한국전통문화대학교       36.0\n",
            "279  2024  충남  한국전통문화대학교       98.0\n",
            "280  2024  충남  한국전통문화대학교      111.0\n",
            "281  2024  충남      한서대학교      963.0\n",
            "282  2024  충남      한서대학교      335.0\n",
            "283  2024  충남      한서대학교      497.0\n",
            "284  2024  충남      호서대학교      796.0\n",
            "286  2024  충남      호서대학교      458.0\n",
            "287  2024  충남      호서대학교       31.0\n",
            "288  2024  충남      호서대학교       77.0\n"
          ]
        }
      ],
      "source": [
        "# 기준연도, 학교 NaN 채우기\n",
        "dorm_clean[['기준연도','학교']] = dorm_clean[['기준연도','학교']].ffill()\n",
        "dorm_clean['기준연도'] = dorm_clean['기준연도'].astype('Int64')\n",
        "\n",
        "print(dorm_clean.head(10))\n",
        "print(dorm_clean.tail(10))"
      ]
    },
    {
      "cell_type": "code",
      "execution_count": null,
      "metadata": {
        "id": "T0Rj9FS0Je_L",
        "colab": {
          "base_uri": "https://localhost:8080/"
        },
        "outputId": "dcfaa089-1f4c-49a5-c9fc-6104f25b3a03"
      },
      "outputs": [
        {
          "output_type": "stream",
          "name": "stdout",
          "text": [
            "['나사렛대학교 ' '남서울대학교 ' '단국대학교 _제2캠퍼스' '백석대학교 ' '상명대학교 _제2캠퍼스' '한국기술교육대학교 '\n",
            " '호서대학교 ']\n",
            "    기준연도  지역       학교  실제 수용 인원\n",
            "24  2022  충남  나사렛대학교      292.0\n",
            "25  2022  충남  나사렛대학교      196.0\n",
            "26  2022  충남  나사렛대학교      358.0\n",
            "27  2022  충남  남서울대학교       12.0\n",
            "28  2022  충남  남서울대학교       27.0\n"
          ]
        }
      ],
      "source": [
        "# 천안 소재 대학 리스트\n",
        "cheonan_univ = [\n",
        "    \"단국대학교 _제2캠퍼스\",\"상명대학교 _제2캠퍼스\",\n",
        "    \"남서울대학교\",\"백석대학교\",\"호서대학교\",\n",
        "    \"한국기술교육대학교\",\"나사렛대학교\"\n",
        "]\n",
        "\n",
        "# 학교명에 해당 대학명이 포함된 행만 남기기\n",
        "mask = dorm_clean['학교'].astype(str).str.contains(\"|\".join(cheonan_univ), regex=True)\n",
        "dorm_cheonan = dorm_clean[mask].copy()\n",
        "\n",
        "print(dorm_cheonan['학교'].unique())\n",
        "print(dorm_cheonan.head())"
      ]
    },
    {
      "cell_type": "markdown",
      "metadata": {
        "id": "iY6UFiDyL48E"
      },
      "source": [
        "## 천안시 인구"
      ]
    },
    {
      "cell_type": "code",
      "execution_count": null,
      "metadata": {
        "id": "A2WM_yW5LvQ4"
      },
      "outputs": [],
      "source": [
        "path_pop = \"/content/drive/MyDrive/데이터/연령_및_성별_인구_–_읍면동_20250830034743.csv\""
      ]
    },
    {
      "cell_type": "code",
      "execution_count": null,
      "metadata": {
        "id": "_2460kGaMD-1",
        "colab": {
          "base_uri": "https://localhost:8080/"
        },
        "outputId": "4b725f33-ca9d-4448-c386-2a3194c6ec44"
      },
      "outputs": [
        {
          "output_type": "stream",
          "name": "stdout",
          "text": [
            "(7, 12)\n",
            "Index(['행정구역별(읍면동)', '연령별', '2015', '2016', '2017', '2018', '2019', '2020',\n",
            "       '2021', '2022', '2023', '2024'],\n",
            "      dtype='object')\n",
            "   행정구역별(읍면동)     연령별    2015    2016    2017    2018    2019    2020    2021  \\\n",
            "0  행정구역별(읍면동)     연령별  내국인(명)  내국인(명)  내국인(명)  내국인(명)  내국인(명)  내국인(명)  내국인(명)   \n",
            "1         천안시  20~24세   50197   51362   51889   51765   51911   49777   48599   \n",
            "2         천안시  25~29세   42390   42341   45341   46940   47784   50008   50124   \n",
            "3         동남구  20~24세   24130   24150   23950   23962   24377   22110   21065   \n",
            "4         동남구  25~29세   16520   16289   16781   17253   17633   17851   17616   \n",
            "5         서북구  20~24세   26067   27212   27939   27803   27534   27667   27534   \n",
            "6         서북구  25~29세   25870   26052   28560   29687   30151   32157   32508   \n",
            "\n",
            "     2022    2023    2024  \n",
            "0  내국인(명)  내국인(명)  내국인(명)  \n",
            "1   48263   45748   44987  \n",
            "2   48870   47742   46922  \n",
            "3   21586   20698   20476  \n",
            "4   17411   17333   17080  \n",
            "5   26677   25050   24511  \n",
            "6   31459   30409   29842  \n"
          ]
        }
      ],
      "source": [
        "pop = pd.read_csv(path_pop, encoding='cp949')\n",
        "print(pop.shape)\n",
        "print(pop.columns)\n",
        "print(pop.head(20))"
      ]
    },
    {
      "cell_type": "code",
      "execution_count": null,
      "metadata": {
        "id": "2RadHjGip_hY",
        "colab": {
          "base_uri": "https://localhost:8080/"
        },
        "outputId": "264dcd77-d80d-4058-edbb-c6dd77179189"
      },
      "outputs": [
        {
          "output_type": "stream",
          "name": "stdout",
          "text": [
            "   행정구역별(읍면동)     연령별     2015     2016     2017     2018     2019     2020  \\\n",
            "0  행정구역별(읍면동)     연령별   내국인(명)   내국인(명)   내국인(명)   내국인(명)   내국인(명)   내국인(명)   \n",
            "1          전국  20~24세  3385936  3400634  3355986  3290233  3203741  3193316   \n",
            "2          전국  25~29세  3027896  3068970  3164039  3259284  3343423  3423231   \n",
            "\n",
            "      2021     2022     2023     2024  \n",
            "0   내국인(명)   내국인(명)   내국인(명)   내국인(명)  \n",
            "1  3066118  2879013  2715480  2579629  \n",
            "2  3439492  3384426  3310331  3214861  \n"
          ]
        }
      ],
      "source": [
        "# 전체인구\n",
        "path_pop_all = \"/content/drive/MyDrive/데이터/연령_및_성별_인구_–_읍면동_20250828212700_전국.csv\"\n",
        "\n",
        "pop_all = pd.read_csv(path_pop_all, encoding=\"cp949\", dtype=str, low_memory=False)\n",
        "\n",
        "print(pop_all.head())"
      ]
    },
    {
      "cell_type": "markdown",
      "metadata": {
        "id": "GRRPSO7sROgZ"
      },
      "source": [
        "## 이동인구"
      ]
    },
    {
      "cell_type": "code",
      "execution_count": null,
      "metadata": {
        "id": "Zi21waq3Pgsp"
      },
      "outputs": [],
      "source": [
        "path_move_2015 = \"/content/drive/MyDrive/데이터/2015_인구관련연간자료_20250825_12667.csv\"\n",
        "path_move_2016 = \"/content/drive/MyDrive/데이터/2016_인구관련연간자료_20250825_12667.csv\"\n",
        "path_move_2017 = \"/content/drive/MyDrive/데이터/2017_인구관련연간자료_20250825_12667.csv\"\n",
        "path_move_2018 = \"/content/drive/MyDrive/데이터/2018_인구관련연간자료_20250825_12667.csv\"\n",
        "path_move_2019 = \"/content/drive/MyDrive/데이터/2019_인구관련연간자료_20250825_12667.csv\"\n",
        "path_move_2020 = \"/content/drive/MyDrive/데이터/2020_인구관련연간자료_20250825_60311.csv\"\n",
        "path_move_2021 = \"/content/drive/MyDrive/데이터/2021_인구관련연간자료_20250825_60311.csv\"\n",
        "path_move_2022 = \"/content/drive/MyDrive/데이터/2022_인구관련연간자료_20250825_60311.csv\"\n",
        "path_move_2023 = \"/content/drive/MyDrive/데이터/2023_인구관련연간자료_20250825_60311.csv\"\n",
        "path_move_2024 = \"/content/drive/MyDrive/데이터/2024_인구관련연간자료_20250825_60311.csv\""
      ]
    },
    {
      "cell_type": "code",
      "execution_count": null,
      "metadata": {
        "id": "mQ9GoeW4SC6x"
      },
      "outputs": [],
      "source": [
        "move_2015 = pd.read_csv(path_move_2015, header=None, dtype=str)\n",
        "move_2016 = pd.read_csv(path_move_2016, header=None, dtype=str)\n",
        "move_2017 = pd.read_csv(path_move_2017, header=None, dtype=str)\n",
        "move_2018 = pd.read_csv(path_move_2018, header=None, dtype=str)\n",
        "move_2019 = pd.read_csv(path_move_2019, header=None, dtype=str)\n",
        "move_2020 = pd.read_csv(path_move_2020, header=None, dtype=str)\n",
        "move_2021 = pd.read_csv(path_move_2021, header=None, dtype=str)\n",
        "move_2022 = pd.read_csv(path_move_2022, header=None, dtype=str)\n",
        "move_2023 = pd.read_csv(path_move_2023, header=None, dtype=str)\n",
        "move_2024 = pd.read_csv(path_move_2024, header=None, dtype=str)"
      ]
    },
    {
      "cell_type": "code",
      "execution_count": null,
      "metadata": {
        "id": "p5dwJsApSgRB"
      },
      "outputs": [],
      "source": [
        "# 뒤쪽 완전 빈 칼림이 있으면 제거\n",
        "move_2015 = move_2015.dropna(axis=1, how='all')"
      ]
    },
    {
      "cell_type": "code",
      "execution_count": null,
      "metadata": {
        "id": "-SM6XNzRS_tS",
        "colab": {
          "base_uri": "https://localhost:8080/"
        },
        "outputId": "f0573386-cc35-4431-aee9-53c621a49f90"
      },
      "outputs": [
        {
          "output_type": "stream",
          "name": "stdout",
          "text": [
            "  전입시도코드 전입시군구코드  전입연도  전입월 전출시도코드 전출시군구코드  전입자1_만연령  전입자1_성별코드  전입자2_만연령  \\\n",
            "0     11     110  2015    1     11     110       2.0        4.0       1.0   \n",
            "1     11     110  2015    1     11     110       6.0        3.0       NaN   \n",
            "2     11     110  2015    1     11     110       8.0        3.0       NaN   \n",
            "3     11     110  2015    1     11     110      10.0        4.0       8.0   \n",
            "4     11     110  2015    1     11     110      12.0        4.0       NaN   \n",
            "\n",
            "   전입자2_성별코드  전입자3_만연령  전입자3_성별코드  전입자4_만연령  전입자4_성별코드  \n",
            "0        3.0       NaN        NaN       NaN        NaN  \n",
            "1        NaN       NaN        NaN       NaN        NaN  \n",
            "2        NaN       NaN        NaN       NaN        NaN  \n",
            "3        3.0       NaN        NaN       NaN        NaN  \n",
            "4        NaN       NaN        NaN       NaN        NaN  \n"
          ]
        }
      ],
      "source": [
        "# 칼럼 수에 맞춰 이름 부여\n",
        "if move_2015.shape[1] < 14:\n",
        "  # 부족한 만큼 NaN열 추가\n",
        "  for i in range(14 - move_2015.shape[1]):\n",
        "    move_2015[move_2015.shape[1]] = pd.NA\n",
        "elif move_2015.shape[1] > 14:\n",
        "  move_2015 = move_2015.iloc[:, :14]\n",
        "\n",
        "# 칼럼 이름 고정\n",
        "names14 = [\n",
        "    '전입시도코드','전입시군구코드','전입연도','전입월',\n",
        "    '전출시도코드','전출시군구코드',\n",
        "    '전입자1_만연령','전입자1_성별코드',\n",
        "    '전입자2_만연령','전입자2_성별코드',\n",
        "    '전입자3_만연령','전입자3_성별코드',\n",
        "    '전입자4_만연령', '전입자4_성별코드'\n",
        "]\n",
        "move_2015.columns = names14\n",
        "\n",
        "# 코드형 변수 zero-padding 처리\n",
        "for c, width in [('전입시도코드',2), ('전출시도코드',2)]:\n",
        "    move_2015[c] = move_2015[c].astype(str).str.replace('.0','', regex=False).str.zfill(width)\n",
        "for c, width in [('전입시군구코드',3), ('전출시군구코드',3)]:\n",
        "    move_2015[c] = move_2015[c].astype(str).str.replace('.0','', regex=False).str.zfill(width)\\\n",
        "\n",
        "# 숫자형으로 바꿀 수 있는 칼럼 변환 (연도, 월, 연령, 성별)\n",
        "num_cols = [c for c in move_2015.columns if '연도' in c or '월' in c or '만연령' in c or '성별코드' in c]\n",
        "for c in num_cols:\n",
        "    move_2015[c] = pd.to_numeric(move_2015[c], errors='coerce')\n",
        "\n",
        "print(move_2015.head())"
      ]
    },
    {
      "cell_type": "code",
      "execution_count": null,
      "metadata": {
        "id": "LEo_mf9wexX0",
        "colab": {
          "base_uri": "https://localhost:8080/"
        },
        "outputId": "cf53a927-5806-4530-bbfb-6fa61badfa69"
      },
      "outputs": [
        {
          "output_type": "stream",
          "name": "stdout",
          "text": [
            "   전입시도코드  전입시군구코드  전입연도  전입월  전출시도코드  전출시군구코드  전입자1_만연령  전입자1_성별코드  전입자2_만연령  \\\n",
            "0      11      110  2015    1      11      110         2          4         1   \n",
            "1      11      110  2015    1      11      110         6          3      <NA>   \n",
            "2      11      110  2015    1      11      110         8          3      <NA>   \n",
            "3      11      110  2015    1      11      110        10          4         8   \n",
            "4      11      110  2015    1      11      110        12          4      <NA>   \n",
            "\n",
            "   전입자2_성별코드  전입자3_만연령  전입자3_성별코드  전입자4_만연령  전입자4_성별코드  \n",
            "0          3      <NA>       <NA>      <NA>       <NA>  \n",
            "1       <NA>      <NA>       <NA>      <NA>       <NA>  \n",
            "2       <NA>      <NA>       <NA>      <NA>       <NA>  \n",
            "3          3      <NA>       <NA>      <NA>       <NA>  \n",
            "4       <NA>      <NA>       <NA>      <NA>       <NA>  \n"
          ]
        }
      ],
      "source": [
        "# 정수로 보고 싶은 컬럼들\n",
        "int_cols = [\n",
        "    '전입시도코드','전입시군구코드','전입연도','전입월',\n",
        "    '전출시도코드','전출시군구코드',\n",
        "    '전입자1_만연령','전입자1_성별코드',\n",
        "    '전입자2_만연령','전입자2_성별코드',\n",
        "    '전입자3_만연령','전입자3_성별코드',\n",
        "    '전입자4_만연령', '전입자4_성별코드'\n",
        "]\n",
        "\n",
        "for c in int_cols:\n",
        "    move_2015[c] = pd.to_numeric(move_2015[c], errors='coerce').astype('Int64')\n",
        "    # <- pandas의 Nullable Int (결측 NaN도 표현 가능)\n",
        "\n",
        "print(move_2015.head())"
      ]
    },
    {
      "cell_type": "code",
      "execution_count": null,
      "metadata": {
        "id": "4Jh9tMeTXmOf",
        "colab": {
          "base_uri": "https://localhost:8080/"
        },
        "outputId": "099f19b3-8070-4484-85c6-03de443f078c"
      },
      "outputs": [
        {
          "output_type": "stream",
          "name": "stdout",
          "text": [
            "['전입자1_만연령', '전입자2_만연령', '전입자3_만연령', '전입자4_만연령']\n"
          ]
        }
      ],
      "source": [
        "age_cols = [c for c in move_2015.columns if '만연령' in c]\n",
        "print(age_cols)"
      ]
    },
    {
      "cell_type": "code",
      "execution_count": null,
      "metadata": {
        "id": "8rvy_M-IWA76",
        "colab": {
          "base_uri": "https://localhost:8080/"
        },
        "outputId": "472addac-bb6c-43c5-b8fb-603362668516"
      },
      "outputs": [
        {
          "output_type": "stream",
          "name": "stdout",
          "text": [
            "   전입자1_만연령  전입자2_만연령  전입자3_만연령  전입자4_만연령\n",
            "0        20        10      <NA>      <NA>\n",
            "1        60      <NA>      <NA>      <NA>\n",
            "2        80      <NA>      <NA>      <NA>\n",
            "3        10        80      <NA>      <NA>\n",
            "4        12      <NA>      <NA>      <NA>\n",
            "5        15        80        39      <NA>\n",
            "6        16        11        39      <NA>\n",
            "7        19      <NA>      <NA>      <NA>\n",
            "8        20      <NA>      <NA>      <NA>\n",
            "9        20      <NA>      <NA>      <NA>\n"
          ]
        }
      ],
      "source": [
        "for col in age_cols:\n",
        "    s = (move_2015[col]\n",
        "            .astype(str)                      # 문자열화(혼합형 대비)\n",
        "            .str.strip()\n",
        "            .str.replace(',', '', regex=False)\n",
        "            .str.replace('.0', '', regex=False))\n",
        "    s = pd.to_numeric(s, errors='coerce')     # ← 숫자로 강제 변환\n",
        "    s = s.where(s >= 10, s * 10)              # ← 한 자리면 ×10 보정\n",
        "    move_2015[col] = s.astype('Int64')        # ← .0 제거(결측 허용 정수)\n",
        "\n",
        "# 보정 결과 확인\n",
        "print(move_2015[age_cols].head(10))"
      ]
    },
    {
      "cell_type": "code",
      "execution_count": null,
      "metadata": {
        "id": "smmSjaz5iyRz",
        "colab": {
          "base_uri": "https://localhost:8080/"
        },
        "outputId": "7c9625eb-9b1d-4fec-c068-7720e47ade1b"
      },
      "outputs": [
        {
          "output_type": "stream",
          "name": "stdout",
          "text": [
            "    전입자1_만연령  전입자2_만연령  전입자3_만연령  전입자4_만연령\n",
            "0         20        10      <NA>      <NA>\n",
            "8         20      <NA>      <NA>      <NA>\n",
            "9         20      <NA>      <NA>      <NA>\n",
            "10        20      <NA>      <NA>      <NA>\n",
            "11        20      <NA>      <NA>      <NA>\n"
          ]
        }
      ],
      "source": [
        "mask = False\n",
        "for col in age_cols:\n",
        "    mask |= move_2015[col].between(20, 29, inclusive=\"both\")\n",
        "\n",
        "move_2015_youth = move_2015[mask].copy()\n",
        "print(move_2015_youth[age_cols].head())"
      ]
    },
    {
      "cell_type": "code",
      "execution_count": null,
      "metadata": {
        "id": "AFeVeWEWkSlG",
        "colab": {
          "base_uri": "https://localhost:8080/"
        },
        "outputId": "c692e4d8-01f2-422c-d60a-054fb5e013f5"
      },
      "outputs": [
        {
          "output_type": "stream",
          "name": "stdout",
          "text": [
            "    전입시도코드  전입시군구코드  전입연도  전입월  전출시도코드  전출시군구코드  전입자1_만연령  전입자2_만연령  전입자3_만연령  \\\n",
            "0       11      110  2015    1      11      110        20        10      <NA>   \n",
            "8       11      110  2015    1      11      110        20      <NA>      <NA>   \n",
            "9       11      110  2015    1      11      110        20      <NA>      <NA>   \n",
            "10      11      110  2015    1      11      110        20      <NA>      <NA>   \n",
            "11      11      110  2015    1      11      110        20      <NA>      <NA>   \n",
            "12      11      110  2015    1      11      110        21      <NA>      <NA>   \n",
            "13      11      110  2015    1      11      110        21      <NA>      <NA>   \n",
            "14      11      110  2015    1      11      110        21      <NA>      <NA>   \n",
            "15      11      110  2015    1      11      110        21      <NA>      <NA>   \n",
            "16      11      110  2015    1      11      110        21      <NA>      <NA>   \n",
            "17      11      110  2015    1      11      110        21      <NA>      <NA>   \n",
            "18      11      110  2015    1      11      110        22      <NA>      <NA>   \n",
            "19      11      110  2015    1      11      110        22        23      <NA>   \n",
            "20      11      110  2015    1      11      110        22        40      <NA>   \n",
            "21      11      110  2015    1      11      110        22      <NA>      <NA>   \n",
            "22      11      110  2015    1      11      110        23      <NA>      <NA>   \n",
            "23      11      110  2015    1      11      110        23      <NA>      <NA>   \n",
            "24      11      110  2015    1      11      110        23      <NA>      <NA>   \n",
            "25      11      110  2015    1      11      110        23      <NA>      <NA>   \n",
            "26      11      110  2015    1      11      110        23      <NA>      <NA>   \n",
            "\n",
            "    전입자4_만연령  \n",
            "0       <NA>  \n",
            "8       <NA>  \n",
            "9       <NA>  \n",
            "10      <NA>  \n",
            "11      <NA>  \n",
            "12      <NA>  \n",
            "13      <NA>  \n",
            "14      <NA>  \n",
            "15      <NA>  \n",
            "16      <NA>  \n",
            "17      <NA>  \n",
            "18      <NA>  \n",
            "19      <NA>  \n",
            "20      <NA>  \n",
            "21      <NA>  \n",
            "22      <NA>  \n",
            "23      <NA>  \n",
            "24      <NA>  \n",
            "25      <NA>  \n",
            "26      <NA>  \n"
          ]
        }
      ],
      "source": [
        "cols_to_show = [\n",
        "    '전입시도코드','전입시군구코드','전입연도','전입월',\n",
        "    '전출시도코드','전출시군구코드'\n",
        "] + age_cols\n",
        "\n",
        "print(move_2015_youth[cols_to_show].head(20))"
      ]
    },
    {
      "cell_type": "code",
      "execution_count": null,
      "metadata": {
        "id": "aOOfgqN9Xk9q",
        "colab": {
          "base_uri": "https://localhost:8080/"
        },
        "outputId": "f079e9fe-e12a-4ea2-d8af-c61fe879a9fe"
      },
      "outputs": [
        {
          "output_type": "stream",
          "name": "stdout",
          "text": [
            "    전입시도코드  전입시군구코드  전입연도  전입월  전출시도코드  전출시군구코드  전입자1_만연령  전입자1_성별코드  \\\n",
            "0       11      110  2015    1      11      110        20          4   \n",
            "8       11      110  2015    1      11      110        20          2   \n",
            "9       11      110  2015    1      11      110        20          2   \n",
            "10      11      110  2015    1      11      110        20          2   \n",
            "11      11      110  2015    1      11      110        20          2   \n",
            "\n",
            "    전입자2_만연령  전입자2_성별코드  \n",
            "0         10          3  \n",
            "8       <NA>       <NA>  \n",
            "9       <NA>       <NA>  \n",
            "10      <NA>       <NA>  \n",
            "11      <NA>       <NA>  \n"
          ]
        }
      ],
      "source": [
        "# 전입자3, 4 관련 칼럼\n",
        "cols_3_4 = [\n",
        "    '전입자3_만연령','전입자3_성별코드',\n",
        "    '전입자4_만연령','전입자4_성별코드'\n",
        "]\n",
        "\n",
        "# 전입자3, 4의 값이 NaN만 남기기\n",
        "move_2015_youth_nan = move_2015_youth[move_2015_youth[cols_3_4].isna().all(axis=1)].copy()\n",
        "\n",
        "# 전입자3, 4 열 지우기\n",
        "move_2015_drop = move_2015_youth_nan.drop(columns=cols_3_4)\n",
        "\n",
        "print(move_2015_drop.head())"
      ]
    },
    {
      "cell_type": "code",
      "execution_count": null,
      "metadata": {
        "id": "_yLxqoVHdsZ_",
        "colab": {
          "base_uri": "https://localhost:8080/"
        },
        "outputId": "ceeee286-dc33-412a-c330-592494028937"
      },
      "outputs": [
        {
          "output_type": "stream",
          "name": "stdout",
          "text": [
            "     전입시도코드  전입시군구코드  전입연도  전입월  전출시도코드  전출시군구코드  전입자1_만연령  전입자1_성별코드  \\\n",
            "373      11      110  2015    1      44      131        22          2   \n",
            "374      11      110  2015    1      44      131        27          2   \n",
            "375      11      110  2015    1      44      133        23          1   \n",
            "376      11      110  2015    1      44      133        24          2   \n",
            "854      11      110  2015    2      44      131        24          2   \n",
            "\n",
            "     전입자2_만연령  전입자2_성별코드  \n",
            "373      <NA>       <NA>  \n",
            "374      <NA>       <NA>  \n",
            "375      <NA>       <NA>  \n",
            "376      <NA>       <NA>  \n",
            "854      <NA>       <NA>  \n"
          ]
        }
      ],
      "source": [
        "# 천안 전입자\n",
        "df = move_2015_drop.reset_index(drop=True)  # 인덱스 정렬/초기화\n",
        "\n",
        "# 코드 비교는 문자열로 안전하게 (44 / 131 / 133)\n",
        "mask_in = (df['전입시도코드'].astype(str) == '44') & (\n",
        "    df['전입시군구코드'].astype(str).isin(['131','133'])\n",
        ")\n",
        "\n",
        "mask_out = (df['전출시도코드'].astype(str) == '44') & (\n",
        "    df['전출시군구코드'].astype(str).isin(['131','133'])\n",
        ")\n",
        "\n",
        "move_in_cheonan  = df.loc[mask_in].copy()\n",
        "move_out_cheonan = df.loc[mask_out].copy()\n",
        "move_cheonan     = df.loc[mask_in | mask_out].copy()\n",
        "\n",
        "print(move_cheonan.head())"
      ]
    },
    {
      "cell_type": "code",
      "execution_count": null,
      "metadata": {
        "id": "9zj4_87dnjIy"
      },
      "outputs": [],
      "source": [
        "NAMES14 = [\n",
        "    '전입시도코드','전입시군구코드','전입연도','전입월',\n",
        "    '전출시도코드','전출시군구코드',\n",
        "    '전입자1_만연령','전입자1_성별코드',\n",
        "    '전입자2_만연령','전입자2_성별코드',\n",
        "    '전입자3_만연령','전입자3_성별코드',\n",
        "    '전입자4_만연령','전입자4_성별코드'\n",
        "]\n",
        "AGE_COLS = ['전입자1_만연령','전입자2_만연령','전입자3_만연령','전입자4_만연령']\n",
        "COLS_3_4 = ['전입자3_만연령','전입자3_성별코드','전입자4_만연령','전입자4_성별코드']\n",
        "CHEONAN_GU = {'131','133'}\n",
        "\n",
        "def _zero_pad_series(s, width):\n",
        "    # 문자열화 최소화: NaN은 빈문자 처리 후 제로패딩\n",
        "    s = s.astype(object)\n",
        "    s = s.where(~s.isna(), '')              # NaN -> ''\n",
        "    s = s.astype(str).str.replace(r'\\.0$', '', regex=True)\n",
        "    return s.str.zfill(width)\n",
        "\n",
        "def preprocess_move_df(df: pd.DataFrame) -> pd.DataFrame:\n",
        "    # 0) 사본 한 번만\n",
        "    df = df.copy()\n",
        "\n",
        "    # 1) 항상 14개 컬럼으로 맞추기 (앞 14개 사용 + 부족분 NA 채움)\n",
        "    if df.shape[1] >= 14:\n",
        "        df = df.iloc[:, :14]\n",
        "    else:\n",
        "        df = pd.concat([df, pd.DataFrame(np.nan, index=df.index, columns=range(14 - df.shape[1]))], axis=1)\n",
        "    df.columns = NAMES14\n",
        "\n",
        "    # 2) 코드 제로패딩 (문자열 유지)\n",
        "    df['전입시도코드']  = _zero_pad_series(df['전입시도코드'], 2)\n",
        "    df['전출시도코드']  = _zero_pad_series(df['전출시도코드'], 2)\n",
        "    df['전입시군구코드'] = _zero_pad_series(df['전입시군구코드'], 3)\n",
        "    df['전출시군구코드'] = _zero_pad_series(df['전출시군구코드'], 3)\n",
        "\n",
        "    # 3) 숫자형 변환 (연도/월/연령/성별만)\n",
        "    num_cols = [c for c in NAMES14 if ('연도' in c or '월' in c or '만연령' in c or '성별코드' in c)]\n",
        "    df[num_cols] = df[num_cols].apply(pd.to_numeric, errors='coerce')\n",
        "\n",
        "    # 4) 나이 보정: 한 자리(예: 2 → 20)는 *10, 나머지는 그대로\n",
        "    ages = df[AGE_COLS].to_numpy(dtype='float64', copy=True)\n",
        "    small_mask = (ages >= 0) & (ages < 10)\n",
        "    ages[small_mask] *= 10\n",
        "    df[AGE_COLS] = ages\n",
        "\n",
        "    # 5) 20~29세 전입자 존재 행 필터 (배열 연산)\n",
        "    age_arr = df[AGE_COLS].to_numpy(dtype='float64', copy=False)\n",
        "    has_20s = np.any((age_arr >= 20) & (age_arr <= 29), axis=1)\n",
        "    df = df.loc[has_20s].copy()\n",
        "\n",
        "    # 6) 전입자3/4 값 있는 행 제외 후 해당 열 삭제\n",
        "    if set(COLS_3_4).issubset(df.columns):\n",
        "        only_na_34 = df[COLS_3_4].isna().all(axis=1)\n",
        "        df = df.loc[only_na_34].drop(columns=COLS_3_4)\n",
        "\n",
        "    # 7) 천안(충남-동남/서북) 관련 행만\n",
        "    mask_in  = (df['전입시도코드'] == '44') & (df['전입시군구코드'].isin(CHEONAN_GU))\n",
        "    mask_out = (df['전출시도코드'] == '44') & (df['전출시군구코드'].isin(CHEONAN_GU))\n",
        "    df = df.loc[mask_in | mask_out].reset_index(drop=True)\n",
        "\n",
        "    # 8) 경량 다운캐스트 (메모리 절약)\n",
        "    for c in ['전입연도','전입월']:\n",
        "        if c in df.columns:\n",
        "            df[c] = pd.to_numeric(df[c], downcast='integer')\n",
        "    for c in ['전입자1_성별코드','전입자2_성별코드']:\n",
        "        if c in df.columns:\n",
        "            df[c] = pd.to_numeric(df[c], downcast='integer')\n",
        "    for c in ['전입자1_만연령','전입자2_만연령']:\n",
        "        if c in df.columns:\n",
        "            df[c] = pd.to_numeric(df[c], downcast='integer')\n",
        "\n",
        "    return df"
      ]
    },
    {
      "cell_type": "code",
      "execution_count": null,
      "metadata": {
        "id": "Baurex0peJnl",
        "colab": {
          "base_uri": "https://localhost:8080/"
        },
        "outputId": "3a251dfb-a68c-469e-fff2-cf2f41008886"
      },
      "outputs": [
        {
          "output_type": "stream",
          "name": "stdout",
          "text": [
            "(373737, 10)\n",
            "  전입시도코드 전입시군구코드  전입연도  전입월 전출시도코드 전출시군구코드  전입자1_만연령  전입자1_성별코드  전입자2_만연령  \\\n",
            "0     11     110  2015    1     44     131        22          2       NaN   \n",
            "1     11     110  2015    1     44     131        27          2       NaN   \n",
            "2     11     110  2015    1     44     133        23          1       NaN   \n",
            "3     11     110  2015    1     44     133        24          2       NaN   \n",
            "4     11     110  2015    2     44     131        24          2       NaN   \n",
            "\n",
            "   전입자2_성별코드  \n",
            "0       <NA>  \n",
            "1       <NA>  \n",
            "2       <NA>  \n",
            "3       <NA>  \n",
            "4       <NA>  \n"
          ]
        }
      ],
      "source": [
        "# 연도별 원본 DataFrame 딕셔너리 (이미 불러온 상태)\n",
        "raw_dfs = {\n",
        "    2015: move_2015, 2016: move_2016, 2017: move_2017, 2018: move_2018, 2019: move_2019,\n",
        "    2020: move_2020, 2021: move_2021, 2022: move_2022, 2023: move_2023, 2024: move_2024\n",
        "}\n",
        "\n",
        "# 전처리 함수 적용\n",
        "processed = [preprocess_move_df(df) for df in raw_dfs.values()]\n",
        "\n",
        "# 합치기\n",
        "all_moves = pd.concat(processed, ignore_index=True)\n",
        "\n",
        "print(all_moves.shape)\n",
        "print(all_moves.head())"
      ]
    },
    {
      "cell_type": "code",
      "execution_count": null,
      "metadata": {
        "id": "I66IeVlPqv1i"
      },
      "outputs": [],
      "source": [
        "processed = []\n",
        "for year, df in raw_dfs.items():\n",
        "    tmp = preprocess_move_df(df)\n",
        "    tmp['파일연도'] = year   # 파일 이름상 연도\n",
        "    processed.append(tmp)\n",
        "\n",
        "all_moves = pd.concat(processed, ignore_index=True)"
      ]
    },
    {
      "cell_type": "markdown",
      "metadata": {
        "id": "EEGtfLb27XOD"
      },
      "source": [
        "## 소비"
      ]
    },
    {
      "cell_type": "code",
      "execution_count": null,
      "metadata": {
        "id": "9UmECLON7Xzc"
      },
      "outputs": [],
      "source": [
        "path_consume = \"/content/drive/MyDrive/데이터/소상공인시장진흥공단_충남_데이터정리.csv\""
      ]
    },
    {
      "cell_type": "code",
      "execution_count": null,
      "metadata": {
        "id": "UTUfRhJd71Me",
        "colab": {
          "base_uri": "https://localhost:8080/"
        },
        "outputId": "0f8d324f-4d6e-4fc1-9421-f87ad4b4e5c7"
      },
      "outputs": [
        {
          "output_type": "stream",
          "name": "stdout",
          "text": [
            "(121049, 39)\n",
            "Index(['상가업소번호', '상호명', '지점명', '상권업종대분류코드', '상권업종대분류명', '상권업종중분류코드',\n",
            "       '상권업종중분류명', '상권업종소분류코드', '상권업종소분류명', '표준산업분류코드', '표준산업분류명', '시도코드',\n",
            "       '시도명', '시군구코드', '시군구명', '행정동코드', '행정동명', '법정동코드', '법정동명', '지번코드',\n",
            "       '대지구분코드', '대지구분명', '지번본번지', '지번부번지', '지번주소', '도로명코드', '도로명', '건물본번지',\n",
            "       '건물부번지', '건물관리번호', '건물명', '도로명주소', '구우편번호', '신우편번호', '동정보', '층정보',\n",
            "       '호정보', '경도', '위도'],\n",
            "      dtype='object')\n",
            "                  상가업소번호        상호명  지점명 상권업종대분류코드 상권업종대분류명 상권업종중분류코드  \\\n",
            "0   MA010120220806289059      도미당약국  NaN        G2       소매      G215   \n",
            "1   MA010120220806289069     꽃지바다횟집  NaN        I2       음식      I201   \n",
            "2   MA010120220806288745    신바람할인매장  NaN        G2       소매      G222   \n",
            "3   MA010120220806290247      성도카센타  NaN        S2    수리·개인      S203   \n",
            "4   MA010120220806289855        A민박  NaN        I1       숙박      I101   \n",
            "5   MA010120220806290207       한진식당  NaN        I2       음식      I201   \n",
            "6   MA010120220806291625        울돌목  NaN        I2       음식      I201   \n",
            "7   MA010120220809686211        지니스  NaN        I2       음식      I212   \n",
            "8   MA010120220806291715       고목슈퍼  NaN        G2       소매      G204   \n",
            "9   MA010120220809678536       삼은기업  NaN        N1  시설관리·임대      N101   \n",
            "10  MA010120220809679967        페라리  NaN        R1   예술·스포츠      R104   \n",
            "11  MA010120220806290259       해변민박  NaN        I1       숙박      I101   \n",
            "12  MA010120220806290208      삼성이용원  NaN        S2    수리·개인      S207   \n",
            "13  MA0101202504A0013774   달달달아이스크림  NaN        G2       소매      G205   \n",
            "14  MA010120220806295880  뉴크린하우스세탁소  NaN        S2    수리·개인      S209   \n",
            "15  MA010120220806292580    팔봉산대성쉼터  NaN        I2       음식      I211   \n",
            "16  MA010120220806293772       국제유리  NaN        G2       소매      G212   \n",
            "17  MA010120220807383822       브렌우드  NaN        G2       소매      G209   \n",
            "18  MA010120220809690268       병천순대  NaN        I2       음식      I201   \n",
            "19  MA010120220808510981        갯마을  NaN        I2       음식      I211   \n",
            "\n",
            "       상권업종중분류명 상권업종소분류코드         상권업종소분류명 표준산업분류코드  ...        건물관리번호  \\\n",
            "0     의약·화장품 소매    G21501               약국   G47811  ...  4.421010e+24   \n",
            "1            한식    I20111               횟집   I56114  ...  4.482530e+24   \n",
            "2      중고 상품 소매    G22201        중고 상품 소매업   G47862  ...  4.421010e+24   \n",
            "3     자동차 수리·세차    S20301          자동차 정비소   S95212  ...  4.482530e+24   \n",
            "4         일반 숙박    I10103               펜션   I55104  ...  4.482530e+24   \n",
            "5            한식    I20101           백반/한정식   I56111  ...  4.421010e+24   \n",
            "6            한식    I20101           백반/한정식   I56111  ...  4.421010e+24   \n",
            "7         비알코올     I21201               카페   I56221  ...  4.482530e+24   \n",
            "8         종합 소매    G20404             슈퍼마켓   G47129  ...  4.421010e+24   \n",
            "9          시설관리    N10101  사업시설 유지·관리 서비스업   N74100  ...  4.413330e+24   \n",
            "10       유원지·오락    R10409        수상/해양 레저업   R91239  ...  4.477040e+24   \n",
            "11        일반 숙박    I10103               펜션   I55104  ...  4.482530e+24   \n",
            "12        이용·미용    S20701              미용실   S96111  ...  4.421010e+24   \n",
            "13       식료품 소매    G20509       반찬/식료품 소매업   G47219  ...  4.421010e+24   \n",
            "14           세탁    S20901              세탁소   S96912  ...  4.421010e+24   \n",
            "15           주점    I21104            요리 주점   I56111  ...  4.421030e+24   \n",
            "16   기타 생활용품 소매    G21202      주방/가정용품 소매업   G47592  ...  4.421030e+24   \n",
            "17  섬유·의복·신발 소매    G20905        기타 의류 소매업   G47419  ...  4.427040e+24   \n",
            "18           한식    I20102          국/탕/찌개류   I56111  ...  4.421010e+24   \n",
            "19           주점    I21104            요리 주점   I56219  ...  4.413110e+24   \n",
            "\n",
            "       건물명                      도로명주소   구우편번호  신우편번호  동정보  층정보  호정보  \\\n",
            "0      NaN           충청남도 서산시 안견로 185  356801  31992  NaN  NaN  NaN   \n",
            "1      NaN     충청남도 태안군 안면읍 꽃지해안로 284  357961  32166  NaN  NaN  NaN   \n",
            "2      NaN           충청남도 서산시 양열로 139  356110  32004  NaN  NaN  NaN   \n",
            "3      NaN       충청남도 태안군 근흥면 근흥로 738  357944  32129  NaN  NaN  NaN   \n",
            "4      NaN   충청남도 태안군 근흥면 신진부두길 128-3  357945  32132  NaN  NaN  NaN   \n",
            "5      NaN            충청남도 서산시 율지3로 9  356800  31992  NaN  NaN  NaN   \n",
            "6      NaN         충청남도 서산시 호수공원1로 16  356807  31995  NaN  NaN  NaN   \n",
            "7      NaN        충청남도 태안군 태안읍 동평로 91  357905  32140  NaN  NaN  NaN   \n",
            "8      NaN           충청남도 서산시 양유정5길 7  356805  31985  NaN  NaN  NaN   \n",
            "9     덕암빌딩  충청남도 천안시 서북구 직산읍 역전말1길 38  331816  31037  NaN  3.0  NaN   \n",
            "10     NaN         충청남도 서천군 서면 홍원길 85  325892  33603  NaN  NaN  NaN   \n",
            "11     NaN    충청남도 태안군 안면읍 방포항길 121-1  357961  32166  NaN  NaN  NaN   \n",
            "12     NaN         충청남도 서산시 남부순환로 762  356110  32008  NaN  NaN  NaN   \n",
            "13     NaN          충청남도 서산시 쌍연남2로 18  356800  31979  NaN  1.0  NaN   \n",
            "14  서서울아트빌           충청남도 서산시 학동6로 42  356802  31968  NaN  1.0  NaN   \n",
            "15     NaN       충청남도 서산시 팔봉면 어송4길 71  356984  31924  NaN  NaN  NaN   \n",
            "16     NaN    충청남도 서산시 인지면 서해로 3043-9  356883  32014  NaN  NaN  NaN   \n",
            "17     NaN   충청남도 당진시 신평면 서해안고속도로 276  343814  31750  NaN  NaN  NaN   \n",
            "18     NaN        충청남도 서산시 대사동5로 18-2  356802  31982  NaN  1.0  NaN   \n",
            "19     NaN         충청남도 천안시 동남구 문화로 9  330020  31128  NaN  1.0  NaN   \n",
            "\n",
            "            경도         위도  \n",
            "0   126.459580  36.781833  \n",
            "1   126.336728  36.493034  \n",
            "2   126.461663  36.761108  \n",
            "3   126.227198  36.712671  \n",
            "4   126.135524  36.682602  \n",
            "5   126.461078  36.779101  \n",
            "6   126.452395  36.771312  \n",
            "7   126.308324  36.754522  \n",
            "8   126.447795  36.780265  \n",
            "9   127.150255  36.876726  \n",
            "10  126.501491  36.155796  \n",
            "11  126.335717  36.505527  \n",
            "12  126.448799  36.744874  \n",
            "13  126.466529  36.781351  \n",
            "14  126.460113  36.790495  \n",
            "15  126.368702  36.793226  \n",
            "16  126.419388  36.768073  \n",
            "17  126.809532  36.940926  \n",
            "18  126.458135  36.784963  \n",
            "19  127.149667  36.811027  \n",
            "\n",
            "[20 rows x 39 columns]\n"
          ]
        }
      ],
      "source": [
        "consume = pd.read_csv(path_consume, encoding=\"cp949\")\n",
        "\n",
        "print(consume.shape)\n",
        "print(consume.columns)\n",
        "print(consume.head(20))"
      ]
    },
    {
      "cell_type": "code",
      "execution_count": null,
      "metadata": {
        "id": "7ZwnkSjK8BGu",
        "colab": {
          "base_uri": "https://localhost:8080/"
        },
        "outputId": "faa5ade5-2300-4ace-e19a-eba8c675a5c5"
      },
      "outputs": [
        {
          "output_type": "stream",
          "name": "stdout",
          "text": [
            "(35865, 39)\n",
            "                   상가업소번호        상호명  지점명 상권업종대분류코드 상권업종대분류명 상권업종중분류코드  \\\n",
            "9    MA010120220809678536       삼은기업  NaN        N1  시설관리·임대      N101   \n",
            "19   MA010120220808510981        갯마을  NaN        I2       음식      I211   \n",
            "102  MA010120220805106825      컴퓨터수리  NaN        S2    수리·개인      S201   \n",
            "128  MA010120220805107025  담은푸드고기특별시  NaN        I2       음식      I201   \n",
            "186  MA010120220807383959      라보우살롱  NaN        S2    수리·개인      S207   \n",
            "189  MA010120220808511961  라이프아트협동조합  NaN        N1  시설관리·임대      N108   \n",
            "228  MA010120220809691183    스튜디오비비드  NaN        M1    과학·기술      M113   \n",
            "231  MA010120220800142391        장어왕  NaN        I2       음식      I201   \n",
            "239  MA010120220807388786     개미인력개발  NaN        N1  시설관리·임대      N104   \n",
            "249  MA010120220807385544       데이가구  NaN        G2       소매      G211   \n",
            "\n",
            "      상권업종중분류명 상권업종소분류코드           상권업종소분류명 표준산업분류코드  ...        건물관리번호  \\\n",
            "9         시설관리    N10101    사업시설 유지·관리 서비스업   N74100  ...  4.413330e+24   \n",
            "19          주점    I21104              요리 주점   I56219  ...  4.413110e+24   \n",
            "102     컴퓨터 수리    S20101    컴퓨터/노트북/프린터 수리업   S95110  ...  4.413110e+24   \n",
            "128         한식    I20101             백반/한정식   I56111  ...  4.413130e+24   \n",
            "186      이용·미용    S20701                미용실   S96112  ...  4.413310e+24   \n",
            "189  기타 사업 서비스    N10802  전시/컨벤션/행사 대행 서비스업   N75992  ...  4.413310e+24   \n",
            "228      사진 촬영    M11301              사진촬영업   M73301  ...  4.413310e+24   \n",
            "231         한식    I20112           해산물 구이/찜   I56111  ...  4.413310e+24   \n",
            "239      고용 알선    N10402       임시/일용 인력 공급업   N75110  ...  4.413110e+24   \n",
            "249      가구 소매    G21101             가구 소매업   G47520  ...  4.413110e+24   \n",
            "\n",
            "        건물명                      도로명주소   구우편번호  신우편번호  동정보  층정보  호정보  \\\n",
            "9      덕암빌딩  충청남도 천안시 서북구 직산읍 역전말1길 38  331816  31037  NaN  3.0  NaN   \n",
            "19      NaN         충청남도 천안시 동남구 문화로 9  330020  31128  NaN  1.0  NaN   \n",
            "102    수평빌딩       충청남도 천안시 동남구 대흥로 321  330130  31121  NaN  NaN  NaN   \n",
            "128     NaN   충청남도 천안시 동남구 풍세면 풍세산단로 8  330912  31217  NaN  NaN  NaN   \n",
            "186     NaN      충청남도 천안시 서북구 불당32길 11  331230  31156  NaN  1.0  NaN   \n",
            "189   팰리스피아      충청남도 천안시 서북구 두정상가2길 9  331962  31106  NaN  NaN  NaN   \n",
            "228    세윤빌딩       충청남도 천안시 서북구 오성6길 52  331958  31090  NaN  3.0  NaN   \n",
            "231  엠엔에이빌딩       충청남도 천안시 서북구 봉정로 273  331978  31110  NaN  1.0  NaN   \n",
            "239     NaN       충청남도 천안시 동남구 대흥로 303  330130  31121  NaN  NaN  NaN   \n",
            "249     NaN      충청남도 천안시 동남구 통정12로 22  330940  31204  NaN  1.0  NaN   \n",
            "\n",
            "             경도         위도  \n",
            "9    127.150255  36.876726  \n",
            "19   127.149667  36.811027  \n",
            "102  127.150429  36.816505  \n",
            "128  127.105466  36.728064  \n",
            "186  127.104713  36.808444  \n",
            "189  127.139449  36.830954  \n",
            "228  127.133094  36.831646  \n",
            "231  127.144417  36.826398  \n",
            "239  127.149731  36.814911  \n",
            "249  127.130515  36.778294  \n",
            "\n",
            "[10 rows x 39 columns]\n",
            "시군구코드\n",
            "44133    21231\n",
            "44131    14634\n",
            "Name: count, dtype: int64\n",
            "시군구명\n",
            "천안시 서북구    21231\n",
            "천안시 동남구    14634\n",
            "Name: count, dtype: int64\n"
          ]
        }
      ],
      "source": [
        "# 천안시만 필터링\n",
        "# 필터 — 코드가 정수형이면 이렇게\n",
        "consume_cheonan = consume[\n",
        "    (consume['시도코드'] == 44) &\n",
        "    (consume['시군구코드'].isin([44131, 44133]))\n",
        "].copy()\n",
        "\n",
        "# 코드가 문자열일 수도 있으니 안전하게 하려면:\n",
        "# consume_cheonan = consume[\n",
        "#     (consume['시도코드'].astype(str).str.strip() == '44') &\n",
        "#     (consume['시군구코드'].astype(str).str.strip().isin(['44131','44133']))\n",
        "# ].copy()\n",
        "\n",
        "# (2) 전체 행/열 확인\n",
        "print(consume_cheonan.shape)      # 전체 행 수\n",
        "print(consume_cheonan.head(10))   # 앞 10행 (중복 제거 금지!)\n",
        "\n",
        "# (3) 분포 확인(참고)\n",
        "print(consume_cheonan['시군구코드'].value_counts())\n",
        "print(consume_cheonan['시군구명'].value_counts())"
      ]
    },
    {
      "cell_type": "markdown",
      "metadata": {
        "id": "80XcxHmREAa-"
      },
      "source": [
        "## 이동수단"
      ]
    },
    {
      "cell_type": "code",
      "execution_count": null,
      "metadata": {
        "id": "Ju84_gXu9n3e"
      },
      "outputs": [],
      "source": [
        "from math import radians, cos, sin, asin, sqrt\n",
        "import requests, time\n",
        "from urllib.parse import urlencode"
      ]
    },
    {
      "cell_type": "code",
      "execution_count": null,
      "metadata": {
        "id": "niFAZlhzc9kC"
      },
      "outputs": [],
      "source": [
        "path_under = \"/content/drive/MyDrive/데이터/충청남도 천안시_지하차도 현황_20240728.csv\"\n",
        "path_bus = \"/content/drive/MyDrive/데이터/충청남도 천안시_시내버스운수업체별노선현황_20240719.csv\"\n",
        "path_ped = \"/content/drive/MyDrive/데이터/충청남도 천안시_보행자전용도로 현황_20230828.csv\"\n",
        "path_road = \"/content/drive/MyDrive/데이터/충청남도 천안시_도로 현황_20230828.csv\"\n",
        "path_facilities = \"/content/drive/MyDrive/데이터/충청남도 천안시_교통시설 현황_20230828.csv\""
      ]
    },
    {
      "cell_type": "code",
      "execution_count": null,
      "metadata": {
        "id": "UCTmiuYWdQbz"
      },
      "outputs": [],
      "source": [
        "under = pd.read_csv(path_under, encoding=\"cp949\")\n",
        "bus = pd.read_csv(path_bus, encoding=\"cp949\")\n",
        "ped = pd.read_csv(path_ped, encoding=\"cp949\")\n",
        "road = pd.read_csv(path_road, encoding=\"cp949\")\n",
        "facilities = pd.read_csv(path_facilities, encoding=\"cp949\")"
      ]
    },
    {
      "cell_type": "code",
      "execution_count": null,
      "metadata": {
        "id": "CG2xOR_NdhOu",
        "colab": {
          "base_uri": "https://localhost:8080/"
        },
        "outputId": "7f1e015f-9109-4bf5-dfb2-373ffd1fd0bb"
      },
      "outputs": [
        {
          "output_type": "stream",
          "name": "stdout",
          "text": [
            "(24, 11)\n",
            "Index(['연번', '시설물명', '주소', '종별', '시설물종류', '준공연도', '연장(미터)', '폭(미터)', '차선',\n",
            "       '높이(미터)', '비고(경과년수)'],\n",
            "      dtype='object')\n",
            "   연번    시설물명                             주소  종별 시설물종류  준공연도  연장(미터)  폭(미터)  \\\n",
            "0   1   쌍용지하도     충청남도 천안시 서북구 쌍용동 1178번지 일원  3종   지하도  1990   219.0   18.1   \n",
            "1   2  성정지하차도  충청남도 천안시 서북구 성정동 609-199번지 일원  3종   지하도  1983    72.4    6.1   \n",
            "2   3  구상골지하도      충청남도 천안시 서북구 성정동 795번지 일원  3종   지하도  1993    25.0    6.0   \n",
            "3   4  미라골지하도      충청남도 천안시 서북구 쌍용동 998번지 일원  3종   지하도  1993    30.0    6.0   \n",
            "4   5   백석지하도      충청남도 천안시 서북구 성정동 940번지 일원  3종   지하도  1996    21.4    6.0   \n",
            "\n",
            "    차선  높이(미터)  비고(경과년수)  \n",
            "0  4.0     4.7        34  \n",
            "1  NaN     2.5        41  \n",
            "2  NaN     3.0        31  \n",
            "3  NaN     3.0        31  \n",
            "4  NaN     3.0        28  \n"
          ]
        }
      ],
      "source": [
        "print(under.shape)\n",
        "print(under.columns)\n",
        "print(under.head())"
      ]
    },
    {
      "cell_type": "code",
      "execution_count": null,
      "metadata": {
        "id": "tS3dc2_sdxgw",
        "colab": {
          "base_uri": "https://localhost:8080/"
        },
        "outputId": "cfce2476-c7ab-484a-ba0b-5ae731908cd4"
      },
      "outputs": [
        {
          "output_type": "stream",
          "name": "stdout",
          "text": [
            "(149, 7)\n",
            "Index(['연번', '노선번호', '운수업체명', '1회운행거리(km_편도기준)', '1일운행횟수(회_편도기준)', '비고',\n",
            "       '데이터기준일자'],\n",
            "      dtype='object')\n",
            "   연번  노선번호      운수업체명  1회운행거리(km_편도기준)  1일운행횟수(회_편도기준)   비고     데이터기준일자\n",
            "0   1     1  보성,삼안,새천안             21.3             103  NaN  2024-07-19\n",
            "1   2     2  보성,삼안,새천안             23.3              55   편도  2024-07-19\n",
            "2   3     3  보성,삼안,새천안             24.9              42   편도  2024-07-19\n",
            "3   4     5  보성,삼안,새천안             21.3              96  NaN  2024-07-19\n",
            "4   5     6  보성,삼안,새천안             22.0              47   편도  2024-07-19\n"
          ]
        }
      ],
      "source": [
        "print(bus.shape)\n",
        "print(bus.columns)\n",
        "print(bus.head())"
      ]
    },
    {
      "cell_type": "code",
      "execution_count": null,
      "metadata": {
        "id": "97tGSz5teCUf",
        "colab": {
          "base_uri": "https://localhost:8080/"
        },
        "outputId": "b4ab1527-c093-454c-817e-8824984e034b"
      },
      "outputs": [
        {
          "output_type": "stream",
          "name": "stdout",
          "text": [
            "(9, 4)\n",
            "Index(['현황도형 관리번호', '라벨명', '면적_도형', '길이_도형'], dtype='object')\n",
            "                  현황도형 관리번호      라벨명        면적_도형        길이_도형\n",
            "0  44130UQ161PS199604200001  보행자전용도로  2496.448840   929.293127\n",
            "1  44130UQ161PS200511300001  보행자전용도로  8115.005114  4804.421495\n",
            "2  44130UQ161PS200812010055  보행자전용도로   577.678693   584.225388\n",
            "3  44130UQ161PS201302120001  보행자전용도로  1017.296160  1018.008044\n",
            "4  44130UQ161PS201302210004  보행자전용도로  1976.623350   807.090973\n"
          ]
        }
      ],
      "source": [
        "print(ped.shape)\n",
        "print(ped.columns)\n",
        "print(ped.head())"
      ]
    },
    {
      "cell_type": "code",
      "execution_count": null,
      "metadata": {
        "id": "yXEVQtySeRZ_",
        "colab": {
          "base_uri": "https://localhost:8080/"
        },
        "outputId": "286df216-1e6a-4236-874e-53d972c70146"
      },
      "outputs": [
        {
          "output_type": "stream",
          "name": "stdout",
          "text": [
            "(3360, 4)\n",
            "Index(['현황도형 관리번호', '라벨명', '면적_도형', '길이_도형'], dtype='object')\n",
            "                  현황도형 관리번호   라벨명         면적_도형        길이_도형\n",
            "0  44130UQ151PS198706120134  중로2류  16010.823170  2150.773347\n",
            "1  44130UQ151PS199005090004  중로2류   1817.963367   322.501439\n",
            "2  44130UQ151PS199303060878  중로2류   2504.330546   381.979392\n",
            "3  44130UQ151PS200101180426  중로2류   6633.100789   915.902343\n",
            "4  44130UQ151PS200812011162  중로2류   1824.568938   257.065713\n"
          ]
        }
      ],
      "source": [
        "print(road.shape)\n",
        "print(road.columns)\n",
        "print(road.head())"
      ]
    },
    {
      "cell_type": "code",
      "execution_count": null,
      "metadata": {
        "id": "UI4KEWJVeY0x",
        "colab": {
          "base_uri": "https://localhost:8080/"
        },
        "outputId": "291a09ae-61be-4701-d36c-58f7f39e9d74"
      },
      "outputs": [
        {
          "output_type": "stream",
          "name": "stdout",
          "text": [
            "(155, 4)\n",
            "Index(['현황도형 관리번호', '라벨명', '면적_도형', '길이_도형'], dtype='object')\n",
            "                  현황도형 관리번호    라벨명        면적_도형       길이_도형\n",
            "0  44130UQ152PS199711200007  노외주차장  1500.042180  155.955516\n",
            "1  44130UQ152PS200002120002  노외주차장  1490.893627  169.014550\n",
            "2  44130UQ152PS200002120003  노외주차장  1754.043494  185.787167\n",
            "3  44130UQ152PS200002120004  노외주차장   824.525696  112.160168\n",
            "4  44130UQ152PS200002120001  노외주차장  1467.094056  164.608955\n"
          ]
        }
      ],
      "source": [
        "print(facilities.shape)\n",
        "print(facilities.columns)\n",
        "print(facilities.head())"
      ]
    },
    {
      "cell_type": "code",
      "execution_count": null,
      "metadata": {
        "id": "2psapb9Mjmqj"
      },
      "outputs": [],
      "source": [
        "APIKEY   = \"20250828161411g36ukorpo9ruqsavqljuj33mdg\"   # 공공키\n",
        "BASE_STOP  = \"https://stcis.go.kr/openapi/bussttn.json\"        # 정류장\n",
        "BASE_ROUTE = \"https://stcis.go.kr/openapi/busroute.json\"       # 노선\n",
        "\n",
        "# 행정코드: 충남/천안(동남/서북)\n",
        "SD_CODE   = \"44\"                       # 충청남도\n",
        "CITY_CODES = [\"44131\", \"44133\"]        # 천안 동남구, 서북구\n",
        "\n",
        "# (선택) OD 기간 설정 — 필요에 맞게 바꾸세요 (YYYYMMDD 또는 문서 형식)\n",
        "OD_START = \"20240701\"\n",
        "OD_END   = \"20240731\""
      ]
    },
    {
      "cell_type": "code",
      "execution_count": null,
      "metadata": {
        "id": "LYN_wxLOj_HZ"
      },
      "outputs": [],
      "source": [
        "# ===== 공통 유틸 =====\n",
        "def call_api(base_url: str, params: dict, timeout=30, retry=3, sleep=0.4):\n",
        "    # API 호출 공통 래퍼 (JSON 응답 가정, 실패 시 재시도)\n",
        "    p = dict(params)\n",
        "    p[\"apikey\"] = APIKEY\n",
        "    last = None\n",
        "    for i in range(retry):\n",
        "        try:\n",
        "            r = requests.get(base_url, params=p, timeout=timeout)\n",
        "            r.raise_for_status()\n",
        "            return r.json()\n",
        "        except Exception as e:\n",
        "            last = e\n",
        "            time.sleep(sleep * (i+1))\n",
        "    raise last\n",
        "\n",
        "def parse_items(js):\n",
        "    # 응답 JSON에서 리스트 꺼내기 — 흔한 키들을 자동 탐색\n",
        "    if js is None:\n",
        "        return []\n",
        "    if isinstance(js, list):\n",
        "        return js\n",
        "    if isinstance(js, dict):\n",
        "        for k in [\"list\", \"items\", \"data\", \"result\", \"body\", \"rows\"]:\n",
        "            if k in js:\n",
        "                v = js[k]\n",
        "                if isinstance(v, dict) and \"item\" in v:\n",
        "                    v = v[\"item\"]\n",
        "                if isinstance(v, list):\n",
        "                    return v\n",
        "                if isinstance(v, dict):\n",
        "                    return [v]\n",
        "        return [js]\n",
        "    return []\n",
        "\n",
        "def std_numeric(s):\n",
        "    return (s.astype(str)\n",
        "             .str.replace(\",\", \"\", regex=False)\n",
        "             .str.extract(r\"([-+]?\\d*\\.?\\d+)\", expand=False)\n",
        "             .astype(float))\n",
        "\n",
        "def soft_rename(df, mapping):\n",
        "    # mapping에 존재하는 컬럼만 rename\n",
        "    cols = {k:v for k,v in mapping.items() if k in df.columns}\n",
        "    return df.rename(columns=cols)"
      ]
    },
    {
      "cell_type": "code",
      "execution_count": null,
      "metadata": {
        "id": "WcoqG97ikHyX"
      },
      "outputs": [],
      "source": [
        "# ===== 수집 함수 =====\n",
        "def fetch_stops(sdCd, sggCd):\n",
        "    # 문서 기준: sdCd(시도), sggCd(시군구). 읍면동/ARS는 전체 수집이면 생략.\n",
        "    js = call_api(BASE_STOP, {\"sdCd\": sdCd, \"sggCd\": sggCd})\n",
        "    items = parse_items(js)\n",
        "    df = pd.json_normalize(items)\n",
        "    # 표준화 (응답 키 다양성 대비 후보를 넓게 잡음)\n",
        "    df = soft_rename(df, {\n",
        "        \"sttnId\":\"stop_id\", \"sttnid\":\"stop_id\", \"정류장ID\":\"stop_id\", \"stopId\":\"stop_id\",\n",
        "        \"sttnNm\":\"stop_name\",\"정류장명\":\"stop_name\",\"stopName\":\"stop_name\",\"stationNm\":\"stop_name\",\n",
        "        \"sttnArsno\":\"ars_id\",\"arsId\":\"ars_id\",\"ARS-ID\":\"ars_id\",\n",
        "        \"lat\":\"lat\",\"latitude\":\"lat\",\"gpsLati\":\"lat\",\"위도\":\"lat\",\"y\":\"lat\",\n",
        "        \"lon\":\"lon\",\"longitude\":\"lon\",\"gpsLong\":\"lon\",\"경도\":\"lon\",\"x\":\"lon\",\n",
        "        \"sdCd\":\"sdCd\",\"sggCd\":\"sggCd\",\"emdCd\":\"emdCd\"\n",
        "    })\n",
        "    # 숫자화(좌표가 온다면)\n",
        "    for c in [\"lat\",\"lon\"]:\n",
        "        if c in df.columns:\n",
        "            df[c] = pd.to_numeric(df[c], errors=\"coerce\")\n",
        "    # 소속 구 코드 보강\n",
        "    if \"sggCd\" not in df.columns:\n",
        "        df[\"sggCd\"] = sggCd\n",
        "    return df\n",
        "\n",
        "def fetch_routes(sdCd, sggCd):\n",
        "    js = call_api(BASE_ROUTE, {\"sdCd\": sdCd, \"sggCd\": sggCd})\n",
        "    items = parse_items(js)\n",
        "    df = pd.json_normalize(items)\n",
        "    df = soft_rename(df, {\n",
        "        \"routeId\":\"route_id\",\"노선ID\":\"route_id\",\"routeid\":\"route_id\",\"ROUTE_ID\":\"route_id\",\n",
        "        \"routeNo\":\"route_no\",\"노선번호\":\"route_no\",\"노선명\":\"route_no\",\"ROUTE_NO\":\"route_no\",\n",
        "        \"sdCd\":\"sdCd\",\"sggCd\":\"sggCd\"\n",
        "    })\n",
        "    if \"sggCd\" not in df.columns:\n",
        "        df[\"sggCd\"] = sggCd\n",
        "    return df"
      ]
    },
    {
      "cell_type": "code",
      "execution_count": null,
      "metadata": {
        "id": "kXIW34hxpTBb"
      },
      "outputs": [],
      "source": [
        "# ===== 실행: 수집 & 저장 =====\n",
        "# 정류장\n",
        "stops_list = []\n",
        "for g in CITY_CODES:\n",
        "    df = fetch_stops(SD_CODE, g)\n",
        "    stops_list.append(df)\n",
        "    time.sleep(0.2)\n",
        "\n",
        "stops = pd.concat(stops_list, ignore_index=True).drop_duplicates()\n",
        "# stop_id/ars_id 기준 중복제거 우선\n",
        "key_cols = [c for c in [\"stop_id\",\"ars_id\"] if c in stops.columns]\n",
        "if key_cols:\n",
        "    stops = stops.drop_duplicates(subset=key_cols)\n",
        "\n",
        "# 노선\n",
        "routes_list = []\n",
        "for g in CITY_CODES:\n",
        "    df = fetch_routes(SD_CODE, g)\n",
        "    routes_list.append(df)\n",
        "    time.sleep(0.2)\n",
        "routes = pd.concat(routes_list, ignore_index=True).drop_duplicates()\n",
        "if \"route_id\" in routes.columns:\n",
        "    routes = routes.drop_duplicates(subset=[\"route_id\"])"
      ]
    },
    {
      "cell_type": "code",
      "execution_count": null,
      "metadata": {
        "id": "iII9jhhfp2Po",
        "colab": {
          "base_uri": "https://localhost:8080/"
        },
        "outputId": "7fbc0811-7206-48e3-ff62-2c8feec0688e"
      },
      "outputs": [
        {
          "output_type": "stream",
          "name": "stdout",
          "text": [
            "▶ 정류장 정보\n",
            "shape: (1646, 7)\n",
            "columns: ['stop_id', 'bimsId', 'stop_name', 'ars_id', 'sdCd', 'sggCd', 'emdCd']\n",
            "   stop_id     bimsId  stop_name ars_id sdCd  sggCd       emdCd\n",
            "0  2920047  285000187       학계마을    187   44  44131  4413131026\n",
            "1  2921027  288000931       세교1리    931   44  44131  4413131025\n",
            "2  2921086  285000706    대림한숲아파트    706   44  44131  4413111800\n",
            "3  2921087  285000707    대림한숲아파트    707   44  44131  4413111800\n",
            "4  2921091  285002264    선영새마을금고   2264   44  44131  4413111400\n",
            "5  2921092  285002351  일봉동행정복지센터   2351   44  44131  4413111400\n",
            "6  2921097  285000709    대림한내아파트    709   44  44131  4413111800\n",
            "7  2921098  285000708    대림한내아파트    708   44  44131  4413111800\n",
            "8  2921099  285000901    공작아파트입구    901   44  44131  4413111300\n",
            "9  2921109  285000898      순천향병원    898   44  44131  4413111300\n"
          ]
        }
      ],
      "source": [
        "# 간단 점검\n",
        "print(\"▶ 정류장 정보\")\n",
        "print(\"shape:\", stops.shape)\n",
        "print(\"columns:\", list(stops.columns))\n",
        "print(stops.head(10))"
      ]
    },
    {
      "cell_type": "markdown",
      "metadata": {
        "id": "gOdpkUYjyqyZ"
      },
      "source": [
        "## 편의/문화시설"
      ]
    },
    {
      "cell_type": "code",
      "execution_count": null,
      "metadata": {
        "id": "dNAwZ9lvytNB"
      },
      "outputs": [],
      "source": [
        "path_admin = \"/content/drive/MyDrive/데이터/충청남도 천안시_행정기관정보_20230818.csv\"\n",
        "path_shelter = \"/content/drive/MyDrive/데이터/충청남도 천안시_야외 휴게쉼터(정자 등)_20240710.csv\"\n",
        "path_outdoor = \"/content/drive/MyDrive/데이터/충청남도 천안시_실외운동기구 현황_20240516.csv\"\n",
        "path_facility = \"/content/drive/MyDrive/데이터/천안도시공사_시설현황_20250701.csv\""
      ]
    },
    {
      "cell_type": "code",
      "execution_count": null,
      "metadata": {
        "id": "F0Eb1cebzfQK"
      },
      "outputs": [],
      "source": [
        "admin = pd.read_csv(path_admin, encoding=\"cp949\")\n",
        "shelter = pd.read_csv(path_shelter, encoding=\"cp949\")\n",
        "outdoor = pd.read_csv(path_outdoor, encoding=\"cp949\")\n",
        "facility = pd.read_csv(path_facility, encoding=\"utf-8\")"
      ]
    },
    {
      "cell_type": "code",
      "execution_count": null,
      "metadata": {
        "id": "eEY_-Nom1oM0",
        "colab": {
          "base_uri": "https://localhost:8080/"
        },
        "outputId": "d628e518-5d76-40c5-8529-d1f9bd36740a"
      },
      "outputs": [
        {
          "output_type": "stream",
          "name": "stdout",
          "text": [
            "(42, 5)\n",
            "Index(['연번', '기관명', '소재지도로명주소', '전화번호', '데이터기준일자'], dtype='object')\n",
            "   연번               기관명                    소재지도로명주소          전화번호     데이터기준일자\n",
            "0   1         충청남도 천안시청        충청남도 천안시 서북구 번영로 156       1422-36  2023-08-18\n",
            "1   2      충청남도 서북구 보건소        충청남도 천안시 서북구 번영로 156  041-521-2552  2023-08-18\n",
            "2   3      충청남도 동남구 보건소         충청남도 천안시 동남구 버들로 34  041-521-2651  2023-08-18\n",
            "3   4   충청남도 천안시 농업기술센터  충청남도 천안시 동남구 목천읍 목천안터1길 15  041-521-2962  2023-08-18\n",
            "4   5  충청남도 천안시 맑은물사업본부       충청남도 천안시 동남구 용곡2길 141  041-521-3111  2023-08-18\n"
          ]
        }
      ],
      "source": [
        "print(admin.shape)\n",
        "print(admin.columns)\n",
        "print(admin.head())"
      ]
    },
    {
      "cell_type": "code",
      "execution_count": null,
      "metadata": {
        "id": "zQKHJnJ51t-t",
        "colab": {
          "base_uri": "https://localhost:8080/"
        },
        "outputId": "e85c3c1e-0e89-4541-dab5-04471969d605"
      },
      "outputs": [
        {
          "output_type": "stream",
          "name": "stdout",
          "text": [
            "(378, 6)\n",
            "Index(['순번', '설치주소', '설치위치', '설치년도', '설치형상', '관리부서'], dtype='object')\n",
            "   순번                  설치주소              설치위치    설치년도     설치형상   관리부서\n",
            "0   1  충청남도 천안시 동남구 천안대로357     천안생활체육공원 산책로   2011.0      팔각정  체육진흥과\n",
            "1   2  충청남도 천안시 동남구 천안대로357     천안생활체육공원 야외무대  2011.0  막구조 파고라  체육진흥과\n",
            "2   3  충청남도 천안시 동남구 천안대로357  천안생활체육공원 인조잔디축구장  2012.0  막구조 파고라  체육진흥과\n",
            "3   4  충청남도 천안시 동남구 천안대로357    천안생활체육공원 다목적구장  2011.0  그늘막 파고라  체육진흥과\n",
            "4   5  충청남도 천안시 동남구 천안대로357    천안생활체육공원 X-게임장  2011.0  사각 파고라A  체육진흥과\n"
          ]
        }
      ],
      "source": [
        "print(shelter.shape)\n",
        "print(shelter.columns)\n",
        "print(shelter.head())"
      ]
    },
    {
      "cell_type": "code",
      "execution_count": null,
      "metadata": {
        "id": "d_QWwac01zik",
        "colab": {
          "base_uri": "https://localhost:8080/"
        },
        "outputId": "67306d9b-fb25-4538-88cd-4077d74c21bf"
      },
      "outputs": [
        {
          "output_type": "stream",
          "name": "stdout",
          "text": [
            "(272, 24)\n",
            "Index(['연번', '시설명', '소재지', '설치년도', '운동기구1', '운동기구1 개수', '운동기구2', '운동기구2 개수',\n",
            "       '운동기구3', '운동기구3 개수', '운동기구4', '운동기구4 개수', '운동기구5', '운동기구5 개수', '운동기구6',\n",
            "       '운동기구6 개수', '운동기구7', '운동기구7 개수', '운동기구8', '운동기구8 개수', '운동기구9',\n",
            "       '운동기구9 개수', '운동기구10', '운동기구10 개수'],\n",
            "      dtype='object')\n",
            "    연번   시설명            소재지     설치년도        운동기구1  운동기구1 개수        운동기구2  \\\n",
            "0  1.0  마을회관      목천읍 천정3길4  2014 이전         공중걷기         1  상체근육풀기+파도타기   \n",
            "1  2.0  마을회관    목천읍 천정2길 46  2014 이전  상체근육풀기+파도타기         1        허리돌리기   \n",
            "2  3.0  마을회관    목천읍 삼성3길 23     2010          달리기         1        허리돌리기   \n",
            "3  4.0  마을회관     목천읍 삼성1길 7     2017    공중걷기+파도타기         1        허리돌리기   \n",
            "4  5.0  마을회관  목천읍 교천3길 12-5  2014 이전     공중걷기+달리기         1        허리돌리기   \n",
            "\n",
            "   운동기구2 개수         운동기구3  운동기구3 개수  ...   운동기구6  운동기구6 개수 운동기구7  운동기구7 개수  \\\n",
            "0       1.0  등허리지압기+허리지압기       1.0  ...     NaN       NaN   NaN       NaN   \n",
            "1       1.0          공중걷기       1.0  ...     NaN       NaN   NaN       NaN   \n",
            "2       1.0           NaN       NaN  ...     NaN       NaN   NaN       NaN   \n",
            "3       1.0           달리기       1.0  ...  철봉+평행봉       1.0   NaN       NaN   \n",
            "4       1.0        어깨근육풀기       1.0  ...     NaN       NaN   NaN       NaN   \n",
            "\n",
            "  운동기구8  운동기구8 개수 운동기구9  운동기구9 개수 운동기구10  운동기구10 개수  \n",
            "0   NaN       NaN   NaN       NaN    NaN        NaN  \n",
            "1   NaN       NaN   NaN       NaN    NaN        NaN  \n",
            "2   NaN       NaN   NaN       NaN    NaN        NaN  \n",
            "3   NaN       NaN   NaN       NaN    NaN        NaN  \n",
            "4   NaN       NaN   NaN       NaN    NaN        NaN  \n",
            "\n",
            "[5 rows x 24 columns]\n"
          ]
        }
      ],
      "source": [
        "print(outdoor.shape)\n",
        "print(outdoor.columns)\n",
        "print(outdoor.head())"
      ]
    },
    {
      "cell_type": "code",
      "execution_count": null,
      "metadata": {
        "id": "-eaBKXlB2LWn",
        "colab": {
          "base_uri": "https://localhost:8080/"
        },
        "outputId": "12fd3cdd-64eb-457d-c16f-74fe0053b5af"
      },
      "outputs": [
        {
          "output_type": "stream",
          "name": "stdout",
          "text": [
            "(18, 4)\n",
            "Index(['명칭', '주소', '주요시설', '문의처'], dtype='object')\n",
            "           명칭                               주소  \\\n",
            "0     천안종합운동장      천안시 서북구 번영로 208(백석동, 종합운동장)   \n",
            "1      한들문화센터  천안시 서북구 음봉로 861-50(백석동, 한들문화센터)   \n",
            "2      천안축구센터                천안시 서북구 축구센터로 150   \n",
            "3  천안시실내배드민턴장    천안시 동남구 천안대로 357(청당동 실내배드민턴장)   \n",
            "4   천안생활체육야구장                 천안시 동남구 천안대로 320   \n",
            "\n",
            "                                              주요시설           문의처  \n",
            "0  주경기장+보조경기장+국민체육센터+유관순체육관+실내테니스장+실외테니스장+인라인스케이트장  041-529-5000  \n",
            "1                           수영장+목욕탕+헬스장+필라테스실+이벤트홀  041-529-5177  \n",
            "2                천연잔디구장+인조잔디구장+풋살구장+세미나실+운전면허학과시험장  041-529-5170  \n",
            "3                                 관중석+코트+샤워실+선수대기실  041-529-5115  \n",
            "4                               야구장+관리사무실+더그아웃+본부석  041-529-5119  \n"
          ]
        }
      ],
      "source": [
        "print(facility.shape)\n",
        "print(facility.columns)\n",
        "print(facility.head())"
      ]
    },
    {
      "cell_type": "markdown",
      "metadata": {
        "id": "HTWF5EtbNMOM"
      },
      "source": [
        "## 입주기업"
      ]
    },
    {
      "cell_type": "code",
      "execution_count": null,
      "metadata": {
        "id": "dbAeVcgPNNBN"
      },
      "outputs": [],
      "source": [
        "path_company = \"/content/drive/MyDrive/데이터/충청남도 천안시_산업단지 입주기업 현황_20250211.CSV\""
      ]
    },
    {
      "cell_type": "code",
      "execution_count": null,
      "metadata": {
        "id": "dlpdrutfNXbH"
      },
      "outputs": [],
      "source": [
        "company = pd.read_csv(path_company, encoding=\"cp949\")"
      ]
    },
    {
      "cell_type": "code",
      "execution_count": null,
      "metadata": {
        "id": "op9u3k2TNdWV",
        "colab": {
          "base_uri": "https://localhost:8080/"
        },
        "outputId": "6ec3b8fa-d9cf-4992-db32-a81f4b7263bb"
      },
      "outputs": [
        {
          "output_type": "stream",
          "name": "stdout",
          "text": [
            "(1452, 7)\n",
            "Index(['순번', '단지명', '회사명', '공장대표주소(도로명)', '공장대표주소(지번)', '업종명', '전화번호'], dtype='object')\n",
            "   순번           단지명             회사명  \\\n",
            "0   1  천안5산단외국인투자지역  (주)아마쎌지오스에어로젤스   \n",
            "1   2  천안5산단외국인투자지역       (주)엠에스씨테크   \n",
            "2   3  천안5산단외국인투자지역      (주)제이씨유코리아   \n",
            "3   4  천안5산단외국인투자지역      (주)코벤티아코리아   \n",
            "4   5  천안5산단외국인투자지역      (주)티지케이코리아   \n",
            "\n",
            "                                     공장대표주소(도로명)  \\\n",
            "0               충청남도 천안시 동남구 성남면 대화리 337번지 외 1필지   \n",
            "1                     충청남도 천안시 동남구 수신면 5산단4로 110   \n",
            "2                      충청남도 천안시 동남구 성남면 5산단1로 96   \n",
            "3                    충청남도 천안시 동남구 성남면 5산단3로 77-8   \n",
            "4  충청남도 천안시 동남구 성남면 5산단1로 136, (325,326번지) 외 1필지   \n",
            "\n",
            "                                     공장대표주소(지번)                          업종명  \\\n",
            "0              충청남도 천안시 동남구 성남면 대화리 337번지 외 1필지        그 외 기타 분류 안된 화학제품 제조업   \n",
            "1                    충청남도 천안시 동남구 수신면 신풍리 558번지                동주물 주조업 외 1 종   \n",
            "2                    충청남도 천안시 동남구 성남면 대화리 339번지  그 외 기타 분류 안된 화학제품 제조업 외 1 종   \n",
            "3                    충청남도 천안시 동남구 성남면 대화리 340번지      기타 기초 무기 화학물질 제조업 외 1 종   \n",
            "4  충청남도 천안시 동남구 성남면 대화리 325번지 (325,326번지) 외 1필지     그 외 자동차용 신품 부품 제조업 외 3 종   \n",
            "\n",
            "  전화번호  \n",
            "0  NaN  \n",
            "1  NaN  \n",
            "2  NaN  \n",
            "3  NaN  \n",
            "4  NaN  \n"
          ]
        }
      ],
      "source": [
        "print(company.shape)\n",
        "print(company.columns)\n",
        "print(company.head())"
      ]
    },
    {
      "cell_type": "code",
      "source": [
        "# 지오코딩\n",
        "print(\"입주기업 주소 -> 좌표 변환을 시작합니다. (약 2~3분 소요)\")\n",
        "from tqdm.auto import tqdm\n",
        "tqdm.pandas()\n",
        "\n",
        "# geocode_kakao 함수가 이전에 정의되었다고 가정합니다.\n",
        "company[['lon', 'lat']] = company['공장대표주소(도로명)'].progress_apply(\n",
        "    lambda x: pd.Series(geocode_kakao(x))\n",
        ")\n",
        "company_geocoded = company.dropna(subset=['lat', 'lon']).copy()\n",
        "\n",
        "print(f\"✅ 좌표 변환 완료! (총 {len(company)}개 중 {len(company_geocoded)}개 성공)\")"
      ],
      "metadata": {
        "colab": {
          "base_uri": "https://localhost:8080/",
          "height": 86,
          "referenced_widgets": [
            "f25d2948f4bf4045ae00a2275e0ba2fb",
            "a5403faee8e143f59470a9ccedb71c39",
            "59f3e785effa48eabc4a5413e6a78c7b",
            "f567e4b1f91e46ec95197c0ba07c208b",
            "712399f307844ac6b5342b12e340609b",
            "ca74e6b23c294600aa20942ac0bf271d",
            "05c35c5daabe4556a13ca28009d76347",
            "2d51566c18d04fb6abedb3c28d485eb6",
            "e086be530ba64f6c88a1fdf4abab85c4",
            "fee24eaa54f3478d9d8890f3ed84f6d6",
            "bc2f843c6c364a4c925402af77882195"
          ]
        },
        "id": "jCWXk7YjB6X3",
        "outputId": "5431c34f-1e00-4616-8e44-bc597e600e89"
      },
      "execution_count": null,
      "outputs": [
        {
          "output_type": "stream",
          "name": "stdout",
          "text": [
            "입주기업 주소 -> 좌표 변환을 시작합니다. (약 2~3분 소요)\n"
          ]
        },
        {
          "output_type": "display_data",
          "data": {
            "text/plain": [
              "  0%|          | 0/1452 [00:00<?, ?it/s]"
            ],
            "application/vnd.jupyter.widget-view+json": {
              "version_major": 2,
              "version_minor": 0,
              "model_id": "f25d2948f4bf4045ae00a2275e0ba2fb"
            }
          },
          "metadata": {}
        },
        {
          "output_type": "stream",
          "name": "stdout",
          "text": [
            "✅ 좌표 변환 완료! (총 1452개 중 1305개 성공)\n"
          ]
        }
      ]
    },
    {
      "cell_type": "markdown",
      "metadata": {
        "id": "6eWaDJyMS-9Z"
      },
      "source": [
        "# 변수 설계"
      ]
    },
    {
      "cell_type": "markdown",
      "metadata": {
        "id": "OX8tlkLJq1Af"
      },
      "source": [
        "## 인구 데이터 전처리 및 변수 생성"
      ]
    },
    {
      "cell_type": "code",
      "source": [
        "# ==============================================================================\n",
        "# 1. 인구 데이터 로드 및 클리닝\n",
        "# ==============================================================================\n",
        "# 천안시 청년 인구 데이터 로드\n",
        "# 첫 번째 데이터 행이 헤더이므로 skiprows=1을 사용합니다.\n",
        "path_pop_cheonan = \"/content/drive/MyDrive/데이터/연령_및_성별_인구_–_읍면동_20250830034743.csv\"\n",
        "pop_cheonan = pd.read_csv(path_pop_cheonan, encoding='cp949', skiprows=1)\n",
        "pop_cheonan = pop_cheonan.iloc[1:] # 불필요한 행 제거\n",
        "new_cols_cheonan = ['행정구역', '연령별'] + [str(y) for y in range(2015, 2025)]\n",
        "pop_cheonan.columns = new_cols_cheonan\n",
        "for col in new_cols_cheonan[2:]:\n",
        "    pop_cheonan[col] = pd.to_numeric(pop_cheonan[col], errors='coerce')\n",
        "\n",
        "\n",
        "# 전국 청년 인구 데이터 로드\n",
        "# 데이터가 3번째 행부터 시작하므로 skiprows=2를 사용합니다.\n",
        "path_pop_nationwide = \"/content/drive/MyDrive/데이터/연령_및_성별_인구_–_읍면동_20250828212700_전국.csv\"\n",
        "pop_nationwide = pd.read_csv(path_pop_nationwide, encoding='cp949', skiprows=2)\n",
        "new_cols_nationwide = ['행정구역', '연령별'] + [str(y) for y in range(2015, 2025)]\n",
        "pop_nationwide.columns = new_cols_nationwide\n",
        "for col in new_cols_nationwide[2:]:\n",
        "    pop_nationwide[col] = pd.to_numeric(pop_nationwide[col], errors='coerce')"
      ],
      "metadata": {
        "id": "A0qS_MyiC6x9"
      },
      "execution_count": null,
      "outputs": []
    },
    {
      "cell_type": "code",
      "source": [
        "# ==============================================================================\n",
        "# 2. 청년 인구 변수 생성\n",
        "# ==============================================================================\n",
        "# '동남구'와 '서북구'의 청년 인구(20-29세) 합산\n",
        "df_youth_gu = pop_cheonan[\n",
        "    pop_cheonan['행정구역'].isin(['동남구', '서북구']) & pop_cheonan['연령별'].isin(['20~24세', '25~29세'])\n",
        "].copy()\n",
        "df_youth_gu = df_youth_gu.groupby('행정구역').sum(numeric_only=True).T.rename_axis('연도')\n",
        "df_youth_gu.columns = [f'{col}_청년인구' for col in df_youth_gu.columns]\n",
        "df_youth_gu.reset_index(inplace=True)\n",
        "df_youth_gu['연도'] = df_youth_gu['연도'].astype(int)\n",
        "\n",
        "# '천안시' 청년 인구 계산 (동남구 + 서북구)\n",
        "df_youth_gu['천안시_청년인구'] = df_youth_gu['동남구_청년인구'] + df_youth_gu['서북구_청년인구']\n",
        "\n",
        "\n",
        "# 전국 청년 인구 합산\n",
        "df_youth_nationwide = pop_nationwide[\n",
        "    pop_nationwide['연령별'].isin(['20~24세', '25~29세'])\n",
        "].copy()\n",
        "df_youth_nationwide = df_youth_nationwide.sum(numeric_only=True).to_frame(name='전국_청년인구')\n",
        "df_youth_nationwide.reset_index(inplace=True)\n",
        "df_youth_nationwide.columns = ['연도', '전국_청년인구']\n",
        "df_youth_nationwide['연도'] = df_youth_nationwide['연도'].astype(int)"
      ],
      "metadata": {
        "id": "NWHCcPIcC5AF"
      },
      "execution_count": null,
      "outputs": []
    },
    {
      "cell_type": "code",
      "source": [
        "# ==============================================================================\n",
        "# 3. 전체 인구 변수 생성 및 비율 계산\n",
        "# ==============================================================================\n",
        "# 천안시 전체 인구 추출: 모든 연령대 데이터를 합산\n",
        "df_total_gu = pop_cheonan[\n",
        "    pop_cheonan['행정구역'].isin(['동남구', '서북구'])\n",
        "].copy()\n",
        "df_total_gu = df_total_gu.groupby('행정구역').sum(numeric_only=True).T.rename_axis('연도')\n",
        "df_total_gu.columns = [f'{col}_전체인구' for col in df_total_gu.columns]\n",
        "df_total_gu.reset_index(inplace=True)\n",
        "df_total_gu['연도'] = df_total_gu['연도'].astype(int)\n",
        "\n",
        "# '천안시' 전체 인구 계산 (동남구 + 서북구)\n",
        "df_total_gu['천안시_전체인구'] = df_total_gu['동남구_전체인구'] + df_total_gu['서북구_전체인구']\n",
        "\n",
        "# 전국 전체 인구 추출: 모든 연령대 데이터를 합산\n",
        "df_total_nationwide = pop_nationwide.sum(numeric_only=True).to_frame(name='전국_전체인구')\n",
        "df_total_nationwide.reset_index(inplace=True)\n",
        "df_total_nationwide.columns = ['연도', '전국_전체인구']\n",
        "df_total_nationwide['연도'] = df_total_nationwide['연도'].astype(int)"
      ],
      "metadata": {
        "id": "ngPYFzJ5DIeA"
      },
      "execution_count": null,
      "outputs": []
    },
    {
      "cell_type": "code",
      "source": [
        "# ==============================================================================\n",
        "# 4. 최종 데이터프레임 병합 및 청년 인구 비율 계산\n",
        "# ==============================================================================\n",
        "# 청년 인구 데이터와 전체 인구 데이터를 병합\n",
        "df_final = pd.merge(df_youth_gu, df_total_gu, on='연도')\n",
        "\n",
        "# 전국 청년 인구 데이터 병합\n",
        "df_final = pd.merge(df_final, df_youth_nationwide, on='연도')\n",
        "\n",
        "# 전국 전체 인구 데이터 병합\n",
        "df_final = pd.merge(df_final, df_total_nationwide, on='연도')\n",
        "\n",
        "# 인구 비율 계산\n",
        "df_final['천안시_청년비율'] = df_final['천안시_청년인구'] / df_final['전국_전체인구']\n",
        "df_final['동남구_청년비율'] = df_final['동남구_청년인구'] / df_final['전국_전체인구']\n",
        "df_final['서북구_청년비율'] = df_final['서북구_청년인구'] / df_final['전국_전체인구']\n",
        "\n",
        "# 칼럼 순서 재정의\n",
        "df_final = df_final[[\n",
        "    '연도', '천안시_청년인구', '천안시_청년비율',\n",
        "    '동남구_청년인구', '동남구_청년비율',\n",
        "    '서북구_청년인구', '서북구_청년비율',\n",
        "    '전국_청년인구', '전국_전체인구'\n",
        "]]\n",
        "\n",
        "print(\"--- 천안시 및 전국 청년 인구 지표 ---\")\n",
        "print(df_final.head())"
      ],
      "metadata": {
        "colab": {
          "base_uri": "https://localhost:8080/"
        },
        "id": "DUtJwh8sDMM1",
        "outputId": "66e67cdf-c2e8-43cd-d516-d13d81a4168d"
      },
      "execution_count": null,
      "outputs": [
        {
          "output_type": "stream",
          "name": "stdout",
          "text": [
            "--- 천안시 및 전국 청년 인구 지표 ---\n",
            "     연도  천안시_청년인구  천안시_청년비율  동남구_청년인구  동남구_청년비율  서북구_청년인구  서북구_청년비율  전국_청년인구  \\\n",
            "0  2015     92587  0.030578     40650  0.013425     51937  0.017153  3027896   \n",
            "1  2016     93703  0.030532     40439  0.013177     53264  0.017356  3068970   \n",
            "2  2017     97230  0.030730     40731  0.012873     56499  0.017857  3164039   \n",
            "3  2018     98705  0.030284     41215  0.012645     57490  0.017639  3259284   \n",
            "4  2019     99695  0.029818     42010  0.012565     57685  0.017253  3343423   \n",
            "\n",
            "   전국_전체인구  \n",
            "0  3027896  \n",
            "1  3068970  \n",
            "2  3164039  \n",
            "3  3259284  \n",
            "4  3343423  \n"
          ]
        }
      ]
    },
    {
      "cell_type": "markdown",
      "metadata": {
        "id": "mx7Ly85nrLge"
      },
      "source": [
        "## 상권 데이터 전처리 및 변수 생성"
      ]
    },
    {
      "cell_type": "code",
      "execution_count": null,
      "metadata": {
        "id": "aZ5NIemwrM3u"
      },
      "outputs": [],
      "source": [
        "# 1. 천안시 동남구/서북구만 필터링\n",
        "consume_cheonan = consume[consume['시군구코드'].isin([44131, 44133])].copy()\n",
        "# 시군구코드 -> 행정동명 매핑\n",
        "code_to_dong = {44131: '동남구', 44133: '서북구'}\n",
        "consume_cheonan['행정구명'] = consume_cheonan['시군구코드'].map(code_to_dong)"
      ]
    },
    {
      "cell_type": "code",
      "execution_count": null,
      "metadata": {
        "id": "15DVptqerWDx"
      },
      "outputs": [],
      "source": [
        "# 2. 업종 다양성 지수 (HHI 역수) 함수\n",
        "def calculate_hhi_inverse(df, col):\n",
        "    if df.empty:\n",
        "        return 0\n",
        "    counts = df[col].value_counts(normalize=True)\n",
        "    hhi = (counts ** 2).sum()\n",
        "    return 1 / hhi if hhi > 0 else 0"
      ]
    },
    {
      "cell_type": "code",
      "execution_count": null,
      "metadata": {
        "id": "prMG98LnrX0P"
      },
      "outputs": [],
      "source": [
        "# 3. 행정구별 업종 다양성 지수 계산\n",
        "diversity_gu = consume_cheonan.groupby('행정구명').apply(\n",
        "    calculate_hhi_inverse, '상권업종중분류명'\n",
        ").reset_index(name='업종다양성지수')\n",
        "\n",
        "youth_density_gu = consume_cheonan[consume_cheonan['상권업종대분류명'].isin(['음식', '숙박', '음료'])]\n",
        "youth_density_gu = youth_density_gu.groupby('행정구명').size().reset_index(name='청년친화업종수')\n",
        "\n",
        "biz_df_gu = pd.merge(diversity_gu, youth_density_gu, on='행정구명', how='left')\n",
        "biz_df_gu.fillna(0, inplace=True) # 결측값 0으로 채우기"
      ]
    },
    {
      "cell_type": "code",
      "execution_count": null,
      "metadata": {
        "id": "bEQtmt2srZnV"
      },
      "outputs": [],
      "source": [
        "# 4. 읍면동별 업종 지표 계산\n",
        "# 원본 데이터에 '행정동명' 칼럼이 있다고 가정합니다. 없다면 다른 칼럼명을 사용해야 합니다.\n",
        "consume_cheonan.rename(columns={'읍면동명': '행정동명'}, inplace=True)\n",
        "\n",
        "diversity_dong = consume_cheonan.groupby('행정동명').apply(\n",
        "    calculate_hhi_inverse, '상권업종중분류명'\n",
        ").reset_index(name='업종다양성지수')\n",
        "\n",
        "youth_density_dong = consume_cheonan[consume_cheonan['상권업종대분류명'].isin(['음식', '숙박', '음료'])]\n",
        "youth_density_dong = youth_density_dong.groupby('행정동명').size().reset_index(name='청년친화업종수')\n",
        "\n",
        "biz_df_dong = pd.merge(diversity_dong, youth_density_dong, on='행정동명', how='left')\n",
        "biz_df_dong.fillna(0, inplace=True)"
      ]
    },
    {
      "cell_type": "markdown",
      "metadata": {
        "id": "tP2yi0rIrdRX"
      },
      "source": [
        "## 교통/시설 데이터 전처리 및 변수 생성"
      ]
    },
    {
      "cell_type": "code",
      "execution_count": null,
      "metadata": {
        "id": "_LvFTRkQrfhW"
      },
      "outputs": [],
      "source": [
        "# 카카오 API(개인 API 발급 후 넣어야 됨.)\n",
        "API_KEY = \"372f670d9a0080e1106d8ac37afde6dc\"\n",
        "def geocode_kakao(address):\n",
        "    url = \"https://dapi.kakao.com/v2/local/search/address.json\"\n",
        "    headers = {\"Authorization\": f\"KakaoAK {API_KEY}\"}\n",
        "    try:\n",
        "        response = requests.get(url, headers=headers, params={\"query\": address})\n",
        "        response.raise_for_status()\n",
        "        doc = response.json().get('documents')\n",
        "        if doc and len(doc) > 0:\n",
        "            return float(doc[0].get('x')), float(doc[0].get('y'))\n",
        "    except Exception as e:\n",
        "        print(f\"Error geocoding '{address}': {e}\")\n",
        "    return None, None"
      ]
    },
    {
      "cell_type": "code",
      "source": [
        "# 1. 주소 칼럼을 '주소'로 통일\n",
        "if '소재지도로명주소' in admin.columns:\n",
        "    admin = admin.rename(columns={'소재지도로명주소': '주소'})\n",
        "else:\n",
        "    admin = pd.DataFrame(columns=['주소'])\n",
        "\n",
        "if '설치주소' in outdoor.columns:\n",
        "    outdoor = outdoor.rename(columns={'설치주소': '주소'})\n",
        "else:\n",
        "    outdoor = pd.DataFrame(columns=['주소'])\n",
        "\n",
        "if '소재지' in shelter.columns:\n",
        "    shelter = shelter.rename(columns={'소재지': '주소'})\n",
        "else:\n",
        "    shelter = pd.DataFrame(columns=['주소'])\n",
        "\n",
        "if '주소' not in facility.columns:\n",
        "    facility = pd.DataFrame(columns=['주소'])"
      ],
      "metadata": {
        "id": "HjlZwQ3ro3Ry"
      },
      "execution_count": null,
      "outputs": []
    },
    {
      "cell_type": "code",
      "source": [
        "# 2. 모든 시설물 데이터를 하나의 데이터프레임으로 결합\n",
        "all_facilities = pd.concat([admin[['주소']], outdoor[['주소']], shelter[['주소']], facility[['주소']]])\n",
        "all_facilities.dropna(subset=['주소'], inplace=True)\n",
        "all_facilities.drop_duplicates(inplace=True)"
      ],
      "metadata": {
        "id": "y9VjN0S5o5gj"
      },
      "execution_count": null,
      "outputs": []
    },
    {
      "cell_type": "code",
      "source": [
        "# 3. 주소에서 행정구역 및 읍면동명 추출\n",
        "all_facilities['행정구명'] = all_facilities['주소'].str.extract(r'(동남구|서북구)')\n",
        "# 수정: '숫자'와 '괄호'를 제외하고 '읍', '면', '동'으로 끝나는 단어만 추출\n",
        "all_facilities['행정동명'] = all_facilities['주소'].str.extract(r'([가-힣]+읍|[가-힣]+면|[가-힣]+동)')\n",
        "\n",
        "# 추출된 값이 없는 경우 제거\n",
        "facilities_with_district = all_facilities.dropna(subset=['행정구명']).copy()\n",
        "facilities_with_dong = all_facilities.dropna(subset=['행정동명']).copy()"
      ],
      "metadata": {
        "id": "9-hNBqd2o7aK"
      },
      "execution_count": null,
      "outputs": []
    },
    {
      "cell_type": "code",
      "source": [
        "# 4. 시설물 수 집계\n",
        "facilities_by_gu = facilities_with_district.groupby('행정구명').size().reset_index(name='여가 혹은 행정시설물수')\n",
        "facilities_by_dong = facilities_with_dong.groupby('행정동명').size().reset_index(name='여가 혹은 행정시설물수')\n",
        "\n",
        "print(\"--- 주소 기반 구별 시설물 집계 ---\")\n",
        "print(facilities_by_gu)\n",
        "print(\"\\n--- 주소 기반 읍면동별 시설물 집계 ---\")\n",
        "print(facilities_by_dong.head())"
      ],
      "metadata": {
        "colab": {
          "base_uri": "https://localhost:8080/"
        },
        "id": "PDQwDAuqo92f",
        "outputId": "14a441ed-a3c6-4788-8d73-9774a5914d13"
      },
      "execution_count": null,
      "outputs": [
        {
          "output_type": "stream",
          "name": "stdout",
          "text": [
            "--- 주소 기반 구별 시설물 집계 ---\n",
            "  행정구명  여가 혹은 행정시설물수\n",
            "0  동남구            32\n",
            "1  서북구            25\n",
            "\n",
            "--- 주소 기반 읍면동별 시설물 집계 ---\n",
            "  행정동명  여가 혹은 행정시설물수\n",
            "0  광덕면             2\n",
            "1  대흥동             1\n",
            "2   동면             1\n",
            "3  목천읍             3\n",
            "4  백석동             3\n"
          ]
        }
      ]
    },
    {
      "cell_type": "markdown",
      "source": [
        "## 캠퍼스/기숙사와 교통 강화 파생변수"
      ],
      "metadata": {
        "id": "wyS5LchS2kqf"
      }
    },
    {
      "cell_type": "code",
      "source": [
        "# 경계 파일\n",
        "path_dong = \"/content/drive/MyDrive/데이터/LSMD_ADM_SECT_UMD_충남/LSMD_ADM_SECT_UMD_44_202506.shp\"\n",
        "\n",
        "# 1) 읽기 + 좌표계\n",
        "dong_map = gpd.read_file(path_dong, encoding=\"cp949\").to_crs(4326)"
      ],
      "metadata": {
        "id": "NFO6VTmTXDTO"
      },
      "execution_count": null,
      "outputs": []
    },
    {
      "cell_type": "code",
      "source": [
        "# 2) 표준 컬럼 설정\n",
        "EMD_NAME_COL = \"EMD_NM\"   # 읍면동 이름\n",
        "# 핵심: 구 코드(동남/서북)는 EMD_CD 앞 5자리에서 만든다\n",
        "dong_map[\"SIG_FROM_EMD\"] = dong_map[\"EMD_CD\"].astype(str).str.slice(0, 5)\n",
        "SIG_CD_COL = \"SIG_FROM_EMD\"\n",
        "\n",
        "# 확인(참고)\n",
        "print(dong_map[[EMD_NAME_COL, \"EMD_CD\", \"COL_ADM_SE\", SIG_CD_COL]].head())\n",
        "print(\"COL_ADM_SE 분포:\", dong_map[\"COL_ADM_SE\"].astype(str).value_counts().head())\n",
        "print(\"SIG_FROM_EMD 분포:\", dong_map[SIG_CD_COL].value_counts().head())"
      ],
      "metadata": {
        "id": "5QPY-agE2kM-",
        "colab": {
          "base_uri": "https://localhost:8080/"
        },
        "outputId": "8f4a594b-d26d-4ae4-d559-dc98fde60ad9"
      },
      "execution_count": null,
      "outputs": [
        {
          "output_type": "stream",
          "name": "stdout",
          "text": [
            "  EMD_NM    EMD_CD COL_ADM_SE SIG_FROM_EMD\n",
            "0    원성동  44131107      44130        44131\n",
            "1    풍세면  44131310      44130        44131\n",
            "2    문화동  44131103      44130        44131\n",
            "3    용곡동  44131115      44130        44131\n",
            "4    불당동  44133108      44130        44133\n",
            "COL_ADM_SE 분포: COL_ADM_SE\n",
            "44130    43\n",
            "44150    37\n",
            "44200    30\n",
            "44230    24\n",
            "44210    24\n",
            "Name: count, dtype: int64\n",
            "SIG_FROM_EMD 분포: SIG_FROM_EMD\n",
            "44150    37\n",
            "44200    30\n",
            "44131    28\n",
            "44210    24\n",
            "44230    24\n",
            "Name: count, dtype: int64\n"
          ]
        }
      ]
    },
    {
      "cell_type": "code",
      "source": [
        "# 3) 천안(동남/서북)만 필터\n",
        "dong_map_cheon = dong_map[dong_map[SIG_CD_COL].isin([\"44131\",\"44133\"])].copy()\n",
        "print(\"[INFO] 천안 읍면동 수:\", len(dong_map_cheon))\n",
        "print(dong_map_cheon[[EMD_NAME_COL, SIG_CD_COL]].head())"
      ],
      "metadata": {
        "colab": {
          "base_uri": "https://localhost:8080/"
        },
        "id": "af7PsbRD3Vlo",
        "outputId": "b9cfaad9-01e0-4952-beec-52e724a2ffca"
      },
      "execution_count": null,
      "outputs": [
        {
          "output_type": "stream",
          "name": "stdout",
          "text": [
            "[INFO] 천안 읍면동 수: 43\n",
            "  EMD_NM SIG_FROM_EMD\n",
            "0    원성동        44131\n",
            "1    풍세면        44131\n",
            "2    문화동        44131\n",
            "3    용곡동        44131\n",
            "4    불당동        44133\n"
          ]
        }
      ]
    },
    {
      "cell_type": "code",
      "source": [
        "# -----------------------------\n",
        "# 0) 캠퍼스 좌표 생성 (geocode_kakao가 (x, y) = (경도, 위도) 튜플 반환한다고 가정)\n",
        "# -----------------------------\n",
        "univ_addresses = [\n",
        "    (\"단국대학교\", \"충남 천안시 동남구 단대로 119\"),\n",
        "    (\"상명대학교\", \"충남 천안시 동남구 상명대길 31\"),\n",
        "    (\"백석대학교\", \"충남 천안시 동남구 백석대학로 1-1\"),\n",
        "    (\"나사렛대학교\", \"충남 천안시 서북구 월봉로 48\"),\n",
        "    (\"남서울대학교\", \"충남 천안시 서북구 성환읍 대학로 91\"),\n",
        "    (\"호서대학교\", \"충남 천안시 동남구 호서대길 12\"),\n",
        "    (\"한국기술교육대학교\", \"충남 천안시 동남구 병천면 충절로 1600\"),\n",
        "    (\"한국기술교육대학교\", \"충남 천안시 서북구 과수원길 18\"),\n",
        "]\n",
        "\n",
        "rows = []\n",
        "for std_name, addr in univ_addresses:\n",
        "    x, y = geocode_kakao(addr)        # (lon, lat)\n",
        "    rows.append({\"학교_std\": std_name, \"addr\": addr, \"lat\": y, \"lon\": x})\n",
        "\n",
        "df_geo_ok = pd.DataFrame(rows).dropna(subset=[\"lat\",\"lon\"]).copy()\n",
        "df_geo_ok[\"lat\"] = pd.to_numeric(df_geo_ok[\"lat\"], errors=\"coerce\")\n",
        "df_geo_ok[\"lon\"] = pd.to_numeric(df_geo_ok[\"lon\"], errors=\"coerce\")\n",
        "df_geo_ok = df_geo_ok.dropna(subset=[\"lat\",\"lon\"]).copy()"
      ],
      "metadata": {
        "id": "Da2T1Elsa1qH"
      },
      "execution_count": null,
      "outputs": []
    },
    {
      "cell_type": "code",
      "source": [
        "# -----------------------------\n",
        "# 1) 캠퍼스 → 행정동 매핑 (학교_std로 유지)\n",
        "# -----------------------------\n",
        "campus_gdf = gpd.GeoDataFrame(\n",
        "    df_geo_ok,\n",
        "    geometry=gpd.points_from_xy(df_geo_ok[\"lon\"], df_geo_ok[\"lat\"]),\n",
        "    crs=\"EPSG:4326\"\n",
        ")\n",
        "\n",
        "campus_join = gpd.sjoin(\n",
        "    campus_gdf[[\"학교_std\",\"addr\",\"geometry\"]],\n",
        "    dong_map_cheon[[EMD_NAME_COL,\"geometry\"]].rename(columns={EMD_NAME_COL:\"행정동명\"}),\n",
        "    how=\"left\", predicate=\"within\"\n",
        ")[[\"학교_std\",\"addr\",\"행정동명\"]]\n",
        "\n",
        "print(\"[캠퍼스-동 매핑]\"); print(campus_join)"
      ],
      "metadata": {
        "colab": {
          "base_uri": "https://localhost:8080/"
        },
        "id": "8Ba6lu-UYav8",
        "outputId": "5bb78ba2-9b50-4479-9d8f-17ba72edaf08"
      },
      "execution_count": null,
      "outputs": [
        {
          "output_type": "stream",
          "name": "stdout",
          "text": [
            "[캠퍼스-동 매핑]\n",
            "      학교_std                     addr 행정동명\n",
            "0      단국대학교       충남 천안시 동남구 단대로 119  신부동\n",
            "1      상명대학교       충남 천안시 동남구 상명대길 31  안서동\n",
            "2      백석대학교     충남 천안시 동남구 백석대학로 1-1  안서동\n",
            "3     나사렛대학교        충남 천안시 서북구 월봉로 48  쌍용동\n",
            "4     남서울대학교    충남 천안시 서북구 성환읍 대학로 91  성환읍\n",
            "5      호서대학교       충남 천안시 동남구 호서대길 12  안서동\n",
            "6  한국기술교육대학교  충남 천안시 동남구 병천면 충절로 1600  병천면\n",
            "7  한국기술교육대학교       충남 천안시 서북구 과수원길 18  부대동\n"
          ]
        }
      ]
    },
    {
      "cell_type": "code",
      "source": [
        "# -----------------------------\n",
        "# 2) 기숙사: 학교명 표준화 후 동으로 집계\n",
        "# -----------------------------\n",
        "# (1) 학교명 정규화(공백/캠퍼스 꼬리표 제거 → 학교_std)\n",
        "import re\n",
        "\n",
        "dorm_x = dorm_clean.copy()\n",
        "dorm_x[\"학교_raw\"]  = dorm_x[\"학교\"].astype(str)\n",
        "dorm_x[\"학교_norm\"] = dorm_x[\"학교_raw\"].str.strip().str.replace(r\"\\s+\", \"\", regex=True)\n",
        "\n",
        "def to_std(s):\n",
        "    if s is None: return None\n",
        "    # 캠퍼스 꼬리표가 있어도 표준 대학명으로 매핑\n",
        "    patterns = [\n",
        "        (r'단국대학교.*', '단국대학교'),\n",
        "        (r'상명대학교.*', '상명대학교'),\n",
        "        (r'남서울대학교.*', '남서울대학교'),\n",
        "        (r'백석대학교.*', '백석대학교'),\n",
        "        (r'호서대학교.*', '호서대학교'),\n",
        "        (r'한국기술교육대학교.*', '한국기술교육대학교'),\n",
        "        (r'나사렛대학교.*', '나사렛대학교'),\n",
        "    ]\n",
        "    for pat, std in patterns:\n",
        "        if re.fullmatch(pat, s):\n",
        "            return std\n",
        "    return s\n",
        "\n",
        "dorm_x[\"학교_std\"] = dorm_x[\"학교_norm\"].apply(to_std)\n",
        "\n",
        "# (2) 천안 대상만 필터\n",
        "cheonan_std = {'단국대학교','상명대학교','남서울대학교','백석대학교','호서대학교','한국기술교육대학교','나사렛대학교'}\n",
        "dorm_cheonan_std = dorm_x[dorm_x[\"학교_std\"].isin(cheonan_std)].copy()\n",
        "\n",
        "# (3) 학교×연도 수용인원 합\n",
        "dorm_by_school = dorm_cheonan_std.groupby([\"기준연도\",\"학교_std\"], as_index=False)[\"실제 수용 인원\"].sum()\n",
        "\n",
        "# (4) 캠퍼스-동 매핑 붙이기(학교_std 기준!)\n",
        "dorm_with_dong = pd.merge(dorm_by_school, campus_join[[\"학교_std\",\"행정동명\"]], on=\"학교_std\", how=\"left\")\n",
        "\n",
        "# (5) 최신연도 대표값 → 동별 합\n",
        "if dorm_with_dong[\"기준연도\"].notna().any():\n",
        "    latest_year = dorm_with_dong[\"기준연도\"].max()\n",
        "    dorm_latest = (dorm_with_dong[dorm_with_dong[\"기준연도\"]==latest_year]\n",
        "                   .groupby(\"행정동명\", as_index=False)[\"실제 수용 인원\"].sum()\n",
        "                   .rename(columns={\"실제 수용 인원\":\"기숙사수용인원\"}))\n",
        "else:\n",
        "    dorm_latest = dorm_with_dong.groupby(\"행정동명\", as_index=False)[\"실제 수용 인원\"].sum() \\\n",
        "                                 .rename(columns={\"실제 수용 인원\":\"기숙사수용인원\"})\n",
        "\n",
        "dorm_latest[\"기숙사수용인원\"] = dorm_latest[\"기숙사수용인원\"].fillna(0)\n",
        "\n",
        "print(\"[기숙사-동 최신]\"); print(dorm_latest.head())"
      ],
      "metadata": {
        "colab": {
          "base_uri": "https://localhost:8080/"
        },
        "id": "bUZZZtDBYeYu",
        "outputId": "b5ad6f6d-08d1-4c64-8f61-cdb204425080"
      },
      "execution_count": null,
      "outputs": [
        {
          "output_type": "stream",
          "name": "stdout",
          "text": [
            "[기숙사-동 최신]\n",
            "  행정동명  기숙사수용인원\n",
            "0  병천면   2400.0\n",
            "1  부대동   2400.0\n",
            "2  성환읍   1126.0\n",
            "3  신부동   1966.0\n",
            "4  쌍용동    984.0\n"
          ]
        }
      ]
    },
    {
      "cell_type": "code",
      "source": [
        "# -----------------------------\n",
        "# 3) 상권: 동으로 점포수/다양성 집계\n",
        "# -----------------------------\n",
        "shops = consume_cheonan.copy()\n",
        "for c in [\"위도\",\"경도\"]:\n",
        "    shops[c] = pd.to_numeric(shops[c], errors=\"coerce\")\n",
        "shops = shops.dropna(subset=[\"위도\",\"경도\"]).copy()\n",
        "\n",
        "shops_gdf = gpd.GeoDataFrame(\n",
        "    shops,\n",
        "    geometry=gpd.points_from_xy(shops[\"경도\"], shops[\"위도\"]),\n",
        "    crs=\"EPSG:4326\"\n",
        ")\n",
        "\n",
        "shops_in_dong = gpd.sjoin(\n",
        "    shops_gdf[[\"상호명\",\"상권업종대분류명\",\"상권업종중분류명\",\"상권업종소분류명\",\"geometry\"]],\n",
        "    dong_map_cheon[[EMD_NAME_COL,\"geometry\"]].rename(columns={EMD_NAME_COL:\"행정동명\"}),\n",
        "    how=\"left\", predicate=\"within\"\n",
        ")\n",
        "\n",
        "shop_cnt = shops_in_dong.groupby(\"행정동명\").size().reset_index(name=\"점포수\")\n",
        "div_col = \"상권업종소분류명\" if \"상권업종소분류명\" in shops_in_dong.columns else (\n",
        "          \"상권업종중분류명\" if \"상권업종중분류명\" in shops_in_dong.columns else \"상권업종대분류명\")\n",
        "shop_div = shops_in_dong.groupby(\"행정동명\")[div_col].nunique().reset_index(name=\"업종다양성\")"
      ],
      "metadata": {
        "id": "myfuJ7_mibYN"
      },
      "execution_count": null,
      "outputs": []
    },
    {
      "cell_type": "code",
      "source": [
        "# -----------------------------\n",
        "# 4) 교통: 좌표 없으면 자동 생략(=NaN → 0으로 보정)\n",
        "# -----------------------------\n",
        "from sklearn.preprocessing import MinMaxScaler\n",
        "import numpy as np\n",
        "\n",
        "if {\"lat\",\"lon\"}.issubset(stops.columns):\n",
        "    stops2 = stops.dropna(subset=[\"lat\",\"lon\"]).copy()\n",
        "    stops2[\"lat\"] = pd.to_numeric(stops2[\"lat\"], errors=\"coerce\")\n",
        "    stops2[\"lon\"] = pd.to_numeric(stops2[\"lon\"], errors=\"coerce\")\n",
        "    stops2 = stops2.dropna(subset=[\"lat\",\"lon\"])\n",
        "\n",
        "    if not stops2.empty:\n",
        "        stops_gdf = gpd.GeoDataFrame(\n",
        "            stops2, geometry=gpd.points_from_xy(stops2[\"lon\"], stops2[\"lat\"]), crs=\"EPSG:4326\"\n",
        "        )\n",
        "        # 면적(km2)\n",
        "        dong_area = dong_map_cheon[[EMD_NAME_COL,\"geometry\"]].rename(columns={EMD_NAME_COL:\"행정동명\"})\n",
        "        dong_area_m = dong_area.to_crs(5179)\n",
        "        dong_area[\"면적_km2\"] = dong_area_m.area / 1e6\n",
        "\n",
        "        # 정류장 수/밀도\n",
        "        stops_in_dong = gpd.sjoin(\n",
        "            stops_gdf[[\"geometry\"]],\n",
        "            dong_map_cheon[[EMD_NAME_COL,\"geometry\"]].rename(columns={EMD_NAME_COL:\"행정동명\"}),\n",
        "            how=\"left\", predicate=\"within\"\n",
        "        )\n",
        "        stop_cnt = stops_in_dong.groupby(\"행정동명\").size().reset_index(name=\"정류장수\")\n",
        "        stop_density = dong_area.merge(stop_cnt, on=\"행정동명\", how=\"left\")\n",
        "        stop_density[\"정류장수\"] = stop_density[\"정류장수\"].fillna(0)\n",
        "        stop_density[\"정류장밀도\"] = stop_density[\"정류장수\"] / stop_density[\"면적_km2\"].replace(0, np.nan)\n",
        "\n",
        "        # 근접성(동 중심 → 최근접 정류장, 위경도 차 근사)\n",
        "        dong_cent = dong_map_cheon[[EMD_NAME_COL,\"geometry\"]].rename(columns={EMD_NAME_COL:\"행정동명\"}).copy()\n",
        "        dong_cent[\"centroid\"] = dong_cent.to_crs(5179).centroid.to_crs(4326)\n",
        "        stops_xy = stops_gdf[[\"lon\",\"lat\"]].to_numpy()\n",
        "\n",
        "        def _nearest_deg(row):\n",
        "            if len(stops_xy)==0: return np.nan\n",
        "            lon0, lat0 = row[\"centroid\"].x, row[\"centroid\"].y\n",
        "            d = np.sqrt((stops_xy[:,0]-lon0)**2 + (stops_xy[:,1]-lat0)**2)\n",
        "            return d.min()\n",
        "\n",
        "        dong_cent[\"최근접정류장_근사거리\"] = dong_cent.apply(_nearest_deg, axis=1)\n",
        "\n",
        "        # 교통접근성지수\n",
        "        tdf = stop_density.merge(dong_cent[[\"행정동명\",\"최근접정류장_근사거리\"]], on=\"행정동명\", how=\"left\")\n",
        "        sc1, sc2 = MinMaxScaler(), MinMaxScaler()\n",
        "        tdf[\"정류장밀도_norm\"] = sc1.fit_transform(tdf[[\"정류장밀도\"]].fillna(0))\n",
        "        tdf[\"근접성_norm\"]     = 1 - sc2.fit_transform(tdf[[\"최근접정류장_근사거리\"]])\n",
        "        tdf[\"교통접근성지수\"]   = 0.6*tdf[\"정류장밀도_norm\"] + 0.4*tdf[\"근접성_norm\"]\n",
        "        transport_idx = tdf[[\"행정동명\",\"교통접근성지수\"]]\n",
        "    else:\n",
        "        transport_idx = pd.DataFrame({\"행정동명\": dong_map_cheon[EMD_NAME_COL].unique(), \"교통접근성지수\": np.nan})\n",
        "else:\n",
        "    transport_idx = pd.DataFrame({\"행정동명\": dong_map_cheon[EMD_NAME_COL].unique(), \"교통접근성지수\": np.nan})"
      ],
      "metadata": {
        "id": "Rd7TvXjRigZH"
      },
      "execution_count": null,
      "outputs": []
    },
    {
      "cell_type": "markdown",
      "source": [
        "## 최종 데이터프레임"
      ],
      "metadata": {
        "id": "1T8tfmkynzNQ"
      }
    },
    {
      "cell_type": "code",
      "source": [
        "# -----------------------------\n",
        "# 0) 동 → 구 매핑 테이블 만들기\n",
        "# -----------------------------\n",
        "# dong_map_cheon: [EMD_NM(=EMD_NAME_COL), SIG_FROM_EMD] 보유\n",
        "dong_to_gu = dong_map_cheon[[EMD_NAME_COL, SIG_CD_COL]].copy()\n",
        "dong_to_gu[\"행정동명\"] = dong_to_gu[EMD_NAME_COL].astype(str)\n",
        "dong_to_gu[\"구코드\"] = dong_to_gu[SIG_CD_COL].astype(str)\n",
        "code2gu = {\"44131\": \"동남구\", \"44133\": \"서북구\"}\n",
        "dong_to_gu[\"행정구명\"] = dong_to_gu[\"구코드\"].map(code2gu)\n",
        "dong_to_gu = dong_to_gu[[\"행정동명\",\"행정구명\"]].dropna()\n",
        "\n",
        "# -------------------------------------------------\n",
        "# 1) 구(區) 단위 최종 DF: 기존 틀 + (동→구) 교통/기숙사 집계 추가\n",
        "# -------------------------------------------------\n",
        "# (1) 기존 인구 프레임을 long으로 (질문 코드 그대로)\n",
        "df_pop_long_gu = pd.DataFrame()\n",
        "for gu in [\"동남구\",\"서북구\"]:\n",
        "    tmp = df_final[[\"연도\", f\"{gu}_청년인구\", f\"{gu}_청년비율\"]].copy()\n",
        "    tmp = tmp.rename(columns={f\"{gu}_청년인구\":\"청년인구\", f\"{gu}_청년비율\":\"청년비율\"})\n",
        "    tmp[\"행정구명\"] = gu\n",
        "    df_pop_long_gu = pd.concat([df_pop_long_gu, tmp], ignore_index=True)\n",
        "\n",
        "# (2) 상권·시설(구) 붙이기 (질문 코드 그대로)\n",
        "df_final_long_gu = (df_pop_long_gu\n",
        "                    .merge(biz_df_gu,          on=\"행정구명\", how=\"left\")\n",
        "                    .merge(facilities_by_gu,   on=\"행정구명\", how=\"left\"))\n",
        "\n",
        "# (3) 시 단위(천안시)도 함께 붙이기 (질문 코드 그대로)\n",
        "df_final_gu_merged = df_final_long_gu.merge(\n",
        "    df_final[[\"연도\",\"천안시_청년인구\",\"천안시_청년비율\"]],\n",
        "    on=\"연도\", how=\"left\"\n",
        ")\n",
        "\n",
        "# (4) 동별 교통/기숙사 → 구별 집계\n",
        "#     - 교통접근성지수: 동 지수의 \"평균\" (대안: 면적/인구 가중 평균)\n",
        "#     - 기숙사수용인원: 동 합계\n",
        "# 준비: 동별 테이블 두 개를 구 명칭 부여\n",
        "transport_by_dong = transport_idx.copy()\n",
        "if \"행정동명\" not in transport_by_dong.columns:\n",
        "    transport_by_dong = transport_by_dong.rename(columns={\"동\":\"행정동명\"})\n",
        "transport_by_dong = transport_by_dong.merge(dong_to_gu, on=\"행정동명\", how=\"left\")\n",
        "\n",
        "dorm_by_dong = dorm_latest.copy()\n",
        "if \"행정동명\" not in dorm_by_dong.columns:\n",
        "    dorm_by_dong = dorm_by_dong.rename(columns={\"동\":\"행정동명\"})\n",
        "dorm_by_dong = dorm_by_dong.merge(dong_to_gu, on=\"행정동명\", how=\"left\")\n",
        "\n",
        "# 집계\n",
        "gu_transport = (transport_by_dong\n",
        "                .groupby(\"행정구명\", as_index=False)[\"교통접근성지수\"]\n",
        "                .mean())  # 평균\n",
        "\n",
        "gu_dorm = (dorm_by_dong\n",
        "           .groupby(\"행정구명\", as_index=False)[\"기숙사수용인원\"]\n",
        "           .sum())     # 합계\n",
        "\n",
        "# (5) 구 단위에 교통/기숙사 붙이기\n",
        "df_final_gu_merged = (df_final_gu_merged\n",
        "                      .merge(gu_transport, on=\"행정구명\", how=\"left\")\n",
        "                      .merge(gu_dorm,      on=\"행정구명\", how=\"left\"))\n",
        "\n",
        "# 결측 0 보정\n",
        "for c in [\"업종다양성지수\",\"청년친화업종수\",\"여가 혹은 행정시설물수\",\"교통접근성지수\",\"기숙사수용인원\"]:\n",
        "    if c in df_final_gu_merged.columns:\n",
        "        df_final_gu_merged[c] = pd.to_numeric(df_final_gu_merged[c], errors=\"coerce\").fillna(0)\n",
        "\n",
        "# (6) 구 단위 지수 산출 (정규화 + 가중합)\n",
        "cols_scale_gu = [\"업종다양성지수\",\"청년친화업종수\",\"여가 혹은 행정시설물수\",\"교통접근성지수\",\"기숙사수용인원\"]\n",
        "exist_cols_gu = [c for c in cols_scale_gu if c in df_final_gu_merged.columns]\n",
        "sc_gu = MinMaxScaler()\n",
        "scaled = sc_gu.fit_transform(df_final_gu_merged[exist_cols_gu])\n",
        "for i, c in enumerate(exist_cols_gu):\n",
        "    df_final_gu_merged[c + \"_norm\"] = scaled[:, i]\n",
        "\n",
        "# 가중치 예시(구 단위): 교통 0.4, 기숙사 0.3, 업다 0.2, 청친 0.05, 시설 0.05\n",
        "def _safe(col): return df_final_gu_merged.get(col, pd.Series(0, index=df_final_gu_merged.index))\n",
        "df_final_gu_merged[\"모빌리티지수_구\"] = (\n",
        "    0.4*_safe(\"교통접근성지수_norm\") +\n",
        "    0.3*_safe(\"기숙사수용인원_norm\") +\n",
        "    0.2*_safe(\"업종다양성지수_norm\") +\n",
        "    0.05*_safe(\"청년친화업종수_norm\") +\n",
        "    0.05*_safe(\"여가 혹은 행정시설물수_norm\")\n",
        ").round(3)\n",
        "\n",
        "# 등급(3분위)\n",
        "q1, q2 = df_final_gu_merged[\"모빌리티지수_구\"].quantile([0.33, 0.66])\n",
        "df_final_gu_merged[\"등급_구\"] = pd.cut(\n",
        "    df_final_gu_merged[\"모빌리티지수_구\"],\n",
        "    bins=[-1, q1, q2, 1.01],\n",
        "    labels=[\"주의\",\"보통\",\"우수\"]\n",
        ")\n",
        "\n",
        "print(\"\\n--- 구(區) 단위 최종 데이터프레임 ---\")\n",
        "print(df_final_gu_merged.head())"
      ],
      "metadata": {
        "colab": {
          "base_uri": "https://localhost:8080/"
        },
        "id": "1RxdBRgpjcIk",
        "outputId": "a818b323-a9cc-4744-aded-044d7c36c394"
      },
      "execution_count": null,
      "outputs": [
        {
          "output_type": "stream",
          "name": "stdout",
          "text": [
            "\n",
            "--- 구(區) 단위 최종 데이터프레임 ---\n",
            "     연도   청년인구      청년비율 행정구명    업종다양성지수  청년친화업종수  여가 혹은 행정시설물수  천안시_청년인구  \\\n",
            "0  2015  40650  0.013425  동남구  23.778435     4750            32     92587   \n",
            "1  2016  40439  0.013177  동남구  23.778435     4750            32     93703   \n",
            "2  2017  40731  0.012873  동남구  23.778435     4750            32     97230   \n",
            "3  2018  41215  0.012645  동남구  23.778435     4750            32     98705   \n",
            "4  2019  42010  0.012565  동남구  23.778435     4750            32     99695   \n",
            "\n",
            "   천안시_청년비율  교통접근성지수  기숙사수용인원  업종다양성지수_norm  청년친화업종수_norm  여가 혹은 행정시설물수_norm  \\\n",
            "0  0.030578      0.0   7657.0           1.0           0.0                1.0   \n",
            "1  0.030532      0.0   7657.0           1.0           0.0                1.0   \n",
            "2  0.030730      0.0   7657.0           1.0           0.0                1.0   \n",
            "3  0.030284      0.0   7657.0           1.0           0.0                1.0   \n",
            "4  0.029818      0.0   7657.0           1.0           0.0                1.0   \n",
            "\n",
            "   교통접근성지수_norm  기숙사수용인원_norm  모빌리티지수_구 등급_구  \n",
            "0           0.0           1.0      0.55   보통  \n",
            "1           0.0           1.0      0.55   보통  \n",
            "2           0.0           1.0      0.55   보통  \n",
            "3           0.0           1.0      0.55   보통  \n",
            "4           0.0           1.0      0.55   보통  \n"
          ]
        }
      ]
    },
    {
      "cell_type": "code",
      "source": [
        "# -------------------------------------------------\n",
        "# 2) 읍면동(洞) 단위 최종 DF: 기존 틀 + 교통/기숙사 붙이고 지수\n",
        "# -------------------------------------------------\n",
        "# (1) 기존 질문 코드(상권·시설 결합)\n",
        "df_final_eupmyeondong = pd.merge(biz_df_dong, facilities_by_dong, on='행정동명', how='outer')\n",
        "df_final_eupmyeondong.fillna(0, inplace=True)\n",
        "\n",
        "# (2) 교통/기숙사(동별) 붙이기\n",
        "df_final_eupmyeondong = (df_final_eupmyeondong\n",
        "                         .merge(transport_idx, on=\"행정동명\", how=\"left\")\n",
        "                         .merge(dorm_latest,   on=\"행정동명\", how=\"left\"))\n",
        "\n",
        "for c in [\"업종다양성지수\",\"청년친화업종수\",\"여가 혹은 행정시설물수\",\"교통접근성지수\",\"기숙사수용인원\"]:\n",
        "    if c in df_final_eupmyeondong.columns:\n",
        "        df_final_eupmyeondong[c] = pd.to_numeric(df_final_eupmyeondong[c], errors=\"coerce\").fillna(0)\n",
        "\n",
        "# (3) 동 단위 지수 산출 (정규화 + 가중합) — 동에서는 업다/시설 가중 조금 더 주는 버전\n",
        "cols_scale_dong = [\"업종다양성지수\",\"청년친화업종수\",\"여가 혹은 행정시설물수\",\"교통접근성지수\",\"기숙사수용인원\"]\n",
        "exist_cols_dong = [c for c in cols_scale_dong if c in df_final_eupmyeondong.columns]\n",
        "sc_d = MinMaxScaler()\n",
        "scaled_d = sc_d.fit_transform(df_final_eupmyeondong[exist_cols_dong])\n",
        "for i, c in enumerate(exist_cols_dong):\n",
        "    df_final_eupmyeondong[c + \"_norm\"] = scaled_d[:, i]\n",
        "\n",
        "# 가중치 예시(동 단위): 교통 0.4, 기숙사 0.3, 업다 0.2, 청친 0.05, 시설 0.05\n",
        "def _safe_d(col): return df_final_eupmyeondong.get(col, pd.Series(0, index=df_final_eupmyeondong.index))\n",
        "df_final_eupmyeondong[\"청년캠퍼스모빌리티지수\"] = (\n",
        "    0.4*_safe_d(\"교통접근성지수_norm\") +\n",
        "    0.3*_safe_d(\"기숙사수용인원_norm\") +\n",
        "    0.2*_safe_d(\"업종다양성지수_norm\") +\n",
        "    0.05*_safe_d(\"청년친화업종수_norm\") +\n",
        "    0.05*_safe_d(\"여가 혹은 행정시설물수_norm\")\n",
        ").round(3)\n",
        "\n",
        "q1d, q2d = df_final_eupmyeondong[\"청년캠퍼스모빌리티지수\"].quantile([0.33, 0.66])\n",
        "df_final_eupmyeondong[\"등급\"] = pd.cut(\n",
        "    df_final_eupmyeondong[\"청년캠퍼스모빌리티지수\"],\n",
        "    bins=[-1, q1d, q2d, 1.01],\n",
        "    labels=[\"주의\",\"보통\",\"우수\"]\n",
        ")\n",
        "\n",
        "print(\"\\n--- 읍면동(洞) 단위 최종 데이터프레임 ---\")\n",
        "print(df_final_eupmyeondong.head())\n",
        "print(df_final_eupmyeondong.columns)"
      ],
      "metadata": {
        "colab": {
          "base_uri": "https://localhost:8080/"
        },
        "id": "ZHXt_Xm4jdp-",
        "outputId": "8890da5a-c75f-44d7-b094-726d9455c21a"
      },
      "execution_count": null,
      "outputs": [
        {
          "output_type": "stream",
          "name": "stdout",
          "text": [
            "\n",
            "--- 읍면동(洞) 단위 최종 데이터프레임 ---\n",
            "  행정동명    업종다양성지수  청년친화업종수  여가 혹은 행정시설물수  교통접근성지수  기숙사수용인원  업종다양성지수_norm  \\\n",
            "0  광덕면  10.756801    131.0           2.0      0.0      0.0      0.401952   \n",
            "1  대흥동   0.000000      0.0           1.0      0.0      0.0      0.000000   \n",
            "2   동면  13.846154     24.0           1.0      0.0      0.0      0.517393   \n",
            "3  목천읍  16.655737    399.0           3.0      0.0      0.0      0.622379   \n",
            "4  문성동  26.761407    112.0           0.0      0.0      0.0      1.000000   \n",
            "\n",
            "   청년친화업종수_norm  여가 혹은 행정시설물수_norm  교통접근성지수_norm  기숙사수용인원_norm  청년캠퍼스모빌리티지수  \\\n",
            "0      0.122316           0.666667           0.0           0.0        0.120   \n",
            "1      0.000000           0.333333           0.0           0.0        0.017   \n",
            "2      0.022409           0.333333           0.0           0.0        0.121   \n",
            "3      0.372549           1.000000           0.0           0.0        0.193   \n",
            "4      0.104575           0.000000           0.0           0.0        0.205   \n",
            "\n",
            "   등급  \n",
            "0  주의  \n",
            "1  주의  \n",
            "2  주의  \n",
            "3  우수  \n",
            "4  우수  \n",
            "Index(['행정동명', '업종다양성지수', '청년친화업종수', '여가 혹은 행정시설물수', '교통접근성지수', '기숙사수용인원',\n",
            "       '업종다양성지수_norm', '청년친화업종수_norm', '여가 혹은 행정시설물수_norm', '교통접근성지수_norm',\n",
            "       '기숙사수용인원_norm', '청년캠퍼스모빌리티지수', '등급'],\n",
            "      dtype='object')\n"
          ]
        }
      ]
    },
    {
      "cell_type": "markdown",
      "metadata": {
        "id": "uZ3yS9jquuO9"
      },
      "source": [
        "# 모델링 및 지수 산출"
      ]
    },
    {
      "cell_type": "code",
      "source": [
        "# ==============================================================================\n",
        "# 1. 지수 산출을 위한 변수 준비 및 정규화\n",
        "# ==============================================================================\n",
        "# 각 구의 유일한 값을 추출하여 별도 데이터프레임으로 만듭니다.\n",
        "unique_gu_data = df_final_gu_merged[['행정구명', '업종다양성지수', '청년친화업종수', '여가 혹은 행정시설물수']].drop_duplicates()\n",
        "unique_gu_data = unique_gu_data.reset_index(drop=True)\n",
        "\n",
        "# Min-Max Scaler를 사용하여 변수들을 0~1 사이로 정규화합니다.\n",
        "scaler = MinMaxScaler()\n",
        "unique_gu_data[['업종다양성지수', '청년친화업종수', '여가 혹은 행정시설물수']] = scaler.fit_transform(unique_gu_data[['업종다양성지수', '청년친화업종수', '여가 혹은 행정시설물수']])\n",
        "\n",
        "print(\"--- 정규화된 구별 데이터 ---\")\n",
        "print(unique_gu_data.head())"
      ],
      "metadata": {
        "id": "jSrjBFzWpozY",
        "colab": {
          "base_uri": "https://localhost:8080/"
        },
        "outputId": "b4b013f9-c255-4798-aa14-510d5029ce7c"
      },
      "execution_count": null,
      "outputs": [
        {
          "output_type": "stream",
          "name": "stdout",
          "text": [
            "--- 정규화된 구별 데이터 ---\n",
            "  행정구명  업종다양성지수  청년친화업종수  여가 혹은 행정시설물수\n",
            "0  동남구      1.0      0.0           1.0\n",
            "1  서북구      0.0      1.0           0.0\n"
          ]
        }
      ]
    },
    {
      "cell_type": "code",
      "source": [
        "# ==============================================================================\n",
        "# 2. 청년생활권지수 산출 및 최종 데이터프레임 병합\n",
        "# ==============================================================================\n",
        "weights = {\n",
        "    '업종다양성지수': 0.3,\n",
        "    '청년친화업종수': 0.4,\n",
        "    '여가 혹은 행정시설물수': 0.3\n",
        "}\n",
        "\n",
        "# 정규화된 데이터에 가중치를 곱하여 '청년생활권지수'를 산출합니다.\n",
        "unique_gu_data['청년생활권지수'] = (\n",
        "    unique_gu_data['업종다양성지수'] * weights['업종다양성지수'] +\n",
        "    unique_gu_data['청년친화업종수'] * weights['청년친화업종수'] +\n",
        "    unique_gu_data['여가 혹은 행정시설물수'] * weights['여가 혹은 행정시설물수']\n",
        ")\n",
        "\n",
        "# 최종 데이터프레임에 지수 값을 병합합니다.\n",
        "df_final_result = pd.merge(\n",
        "    df_final_gu_merged,\n",
        "    unique_gu_data[['행정구명', '청년생활권지수']],\n",
        "    on='행정구명',\n",
        "    how='left'\n",
        ")\n",
        "\n",
        "# 최종 결과 확인\n",
        "print(\"\\n--- 최종 산출된 청년생활권지수 포함 데이터프레임 ---\")\n",
        "print(df_final_result.head())\n",
        "print(df_final_result.columns)"
      ],
      "metadata": {
        "id": "gkkDWyXnqXuO",
        "colab": {
          "base_uri": "https://localhost:8080/"
        },
        "outputId": "763e922e-bca0-47d9-8f83-a2850f9a2ae3"
      },
      "execution_count": null,
      "outputs": [
        {
          "output_type": "stream",
          "name": "stdout",
          "text": [
            "\n",
            "--- 최종 산출된 청년생활권지수 포함 데이터프레임 ---\n",
            "     연도   청년인구      청년비율 행정구명    업종다양성지수  청년친화업종수  여가 혹은 행정시설물수  천안시_청년인구  \\\n",
            "0  2015  40650  0.013425  동남구  23.778435     4750            32     92587   \n",
            "1  2016  40439  0.013177  동남구  23.778435     4750            32     93703   \n",
            "2  2017  40731  0.012873  동남구  23.778435     4750            32     97230   \n",
            "3  2018  41215  0.012645  동남구  23.778435     4750            32     98705   \n",
            "4  2019  42010  0.012565  동남구  23.778435     4750            32     99695   \n",
            "\n",
            "   천안시_청년비율  교통접근성지수  기숙사수용인원  업종다양성지수_norm  청년친화업종수_norm  여가 혹은 행정시설물수_norm  \\\n",
            "0  0.030578      0.0   7657.0           1.0           0.0                1.0   \n",
            "1  0.030532      0.0   7657.0           1.0           0.0                1.0   \n",
            "2  0.030730      0.0   7657.0           1.0           0.0                1.0   \n",
            "3  0.030284      0.0   7657.0           1.0           0.0                1.0   \n",
            "4  0.029818      0.0   7657.0           1.0           0.0                1.0   \n",
            "\n",
            "   교통접근성지수_norm  기숙사수용인원_norm  모빌리티지수_구 등급_구  청년생활권지수  \n",
            "0           0.0           1.0      0.55   보통      0.6  \n",
            "1           0.0           1.0      0.55   보통      0.6  \n",
            "2           0.0           1.0      0.55   보통      0.6  \n",
            "3           0.0           1.0      0.55   보통      0.6  \n",
            "4           0.0           1.0      0.55   보통      0.6  \n",
            "Index(['연도', '청년인구', '청년비율', '행정구명', '업종다양성지수', '청년친화업종수', '여가 혹은 행정시설물수',\n",
            "       '천안시_청년인구', '천안시_청년비율', '교통접근성지수', '기숙사수용인원', '업종다양성지수_norm',\n",
            "       '청년친화업종수_norm', '여가 혹은 행정시설물수_norm', '교통접근성지수_norm', '기숙사수용인원_norm',\n",
            "       '모빌리티지수_구', '등급_구', '청년생활권지수'],\n",
            "      dtype='object')\n"
          ]
        }
      ]
    },
    {
      "cell_type": "markdown",
      "source": [
        "# 예측지도"
      ],
      "metadata": {
        "id": "IX7GTXSwmHOK"
      }
    },
    {
      "cell_type": "code",
      "source": [
        "# =========================\n",
        "# 0) 준비: 입력 DF 검사/정리\n",
        "# =========================\n",
        "# df_final_eupmyeondong: ['행정동명','청년캠퍼스모빌리티지수','등급', (옵션:'업종다양성지수','청년친화업종수','시설물수','교통접근성지수','기숙사수용인원')]\n",
        "need_cols = {\"행정동명\",\"청년캠퍼스모빌리티지수\"}\n",
        "missing = need_cols - set(df_final_eupmyeondong.columns)\n",
        "if missing:\n",
        "    raise ValueError(f\"df_final_eupmyeondong에 필수 컬럼 없음: {missing}\")\n",
        "\n",
        "df_scores = df_final_eupmyeondong.copy()\n",
        "df_scores[\"행정동명\"] = df_scores[\"행정동명\"].astype(str).str.strip()\n",
        "if \"등급\" not in df_scores.columns:\n",
        "    # 등급 없으면 3분위로 생성\n",
        "    q1, q2 = df_scores[\"청년캠퍼스모빌리티지수\"].quantile([0.33, 0.66])\n",
        "    df_scores[\"등급\"] = pd.cut(\n",
        "        df_scores[\"청년캠퍼스모빌리티지수\"], bins=[-1, q1, q2, np.inf],\n",
        "        labels=[\"주의\",\"보통\",\"우수\"]\n",
        "    )\n",
        "\n",
        "# dong_map_cheon: 천안 읍/면/동 경계 (EPSG:4326), EMD_NAME_COL: 동명이 들어있는 컬럼명\n",
        "assert EMD_NAME_COL in dong_map_cheon.columns, f\"{EMD_NAME_COL} 컬럼이 dong_map_cheon에 필요합니다.\"\n",
        "dong_gdf = dong_map_cheon[[EMD_NAME_COL, \"geometry\"]].copy()\n",
        "dong_gdf[EMD_NAME_COL] = dong_gdf[EMD_NAME_COL].astype(str).str.strip()"
      ],
      "metadata": {
        "id": "HEzU1s7O10Df"
      },
      "execution_count": null,
      "outputs": []
    },
    {
      "cell_type": "code",
      "source": [
        "# =========================\n",
        "# 1) 동 중심점(센트로이드) 구하기\n",
        "# =========================\n",
        "# 투영계로 한번 바꿔서 센트로이드 구한 뒤 WGS84로 재투영(왜곡↓)\n",
        "dong_cent = dong_gdf.to_crs(5179).copy()\n",
        "dong_cent[\"centroid\"] = dong_cent.geometry.centroid\n",
        "dong_cent = dong_cent.set_geometry(\"centroid\").to_crs(4326)\n",
        "dong_cent[\"lat\"] = dong_cent.geometry.y\n",
        "dong_cent[\"lon\"] = dong_cent.geometry.x\n",
        "dong_cent = dong_cent[[EMD_NAME_COL, \"lat\", \"lon\"]].rename(columns={EMD_NAME_COL:\"행정동명\"})"
      ],
      "metadata": {
        "id": "XrpNWbXB10A2"
      },
      "execution_count": null,
      "outputs": []
    },
    {
      "cell_type": "code",
      "source": [
        "# =========================\n",
        "# 2) 점표시용 DF 결합\n",
        "# =========================\n",
        "pts = pd.merge(df_scores, dong_cent, on=\"행정동명\", how=\"left\")\n",
        "pts = pts.dropna(subset=[\"lat\",\"lon\"]).copy()\n",
        "\n",
        "# 반경 스케일(동적): 7~20px\n",
        "v = pts[\"청년캠퍼스모빌리티지수\"].astype(float)\n",
        "vmin = np.nanquantile(v, 0.05) if np.isfinite(v).all() else v.min()\n",
        "vmax = np.nanquantile(v, 0.95) if np.isfinite(v).all() else v.max()\n",
        "if not np.isfinite(vmin) or not np.isfinite(vmax) or vmin==vmax:\n",
        "    vmin, vmax = 0.0, 1.0\n",
        "size = 7 + ( (v.clip(vmin, vmax) - vmin) / (vmax - vmin + 1e-9) ) * (20-7)\n",
        "pts[\"marker_size\"] = size.round(1)\n",
        "\n",
        "# 등급 색상(불량-보통-우수)\n",
        "grade_color = {\"주의\":\"#f46d43\", \"보통\":\"#fee08b\", \"우수\":\"#1a9850\"}\n",
        "pts[\"color\"] = pts[\"등급\"].astype(str).map(grade_color).fillna(\"#999999\")"
      ],
      "metadata": {
        "id": "EcIzAfcT1z-P"
      },
      "execution_count": null,
      "outputs": []
    },
    {
      "cell_type": "code",
      "source": [
        "# =========================\n",
        "# 3) 지도 기본\n",
        "# =========================\n",
        "center = [36.815, 127.15]  # 천안 중심\n",
        "m = folium.Map(location=center, zoom_start=12, tiles=\"cartodbpositron\")\n",
        "\n",
        "# (보조) 얇은 경계선 레이어\n",
        "fg_border = folium.FeatureGroup(name=\"읍면동 경계선(보조)\", show=False)\n",
        "folium.GeoJson(\n",
        "    dong_gdf,\n",
        "    style_function=lambda x: {\"fill\": False, \"color\": \"#666\", \"weight\": 1, \"opacity\":0.6},\n",
        "    tooltip=folium.GeoJsonTooltip(fields=[EMD_NAME_COL], aliases=[\"행정동명\"])\n",
        ").add_to(fg_border)\n",
        "fg_border.add_to(m)\n",
        "\n",
        "# (핵심) 동 점(예측지수) 레이어\n",
        "fg_pts = folium.FeatureGroup(name=\"예측지수(동 중심 점)\", show=True)\n",
        "for _, r in pts.iterrows():\n",
        "    dong = r[\"행정동명\"]\n",
        "    score = float(r[\"청년캠퍼스모빌리티지수\"])\n",
        "    grade = str(r[\"등급\"])\n",
        "    color = r[\"color\"]\n",
        "    radius = float(r[\"marker_size\"])\n",
        "\n",
        "    # 보조지표가 있으면 팝업에 같이 노출\n",
        "    sub_items = []\n",
        "    for col_kor in [\"업종다양성지수\",\"청년친화업종수\",\"여가 혹은 행정시설물수\",\"교통접근성지수\",\"기숙사수용인원\"]:\n",
        "        if col_kor in pts.columns and pd.notna(r[col_kor]):\n",
        "            sub_items.append(f\"{col_kor}: {r[col_kor]}\")\n",
        "    extra = \"<br>\".join(sub_items)\n",
        "\n",
        "    html = f\"\"\"\n",
        "    <div style='font-size:13px;'>\n",
        "      <b>{dong}</b><br>\n",
        "      지수: <b>{score:.3f}</b> / 등급: <b>{grade}</b><br>\n",
        "      {extra}\n",
        "    </div>\n",
        "    \"\"\"\n",
        "    folium.CircleMarker(\n",
        "        location=[r[\"lat\"], r[\"lon\"]],\n",
        "        radius=radius,\n",
        "        color=color, fill=True, fill_opacity=0.75, weight=1,\n",
        "        popup=folium.Popup(html, max_width=280),\n",
        "        tooltip=f\"{dong} · {score:.3f} ({grade})\"\n",
        "    ).add_to(fg_pts)\n",
        "fg_pts.add_to(m)\n",
        "\n",
        "# =========================\n",
        "# (NEW) 연속형 Choropleth 레이어\n",
        "# =========================\n",
        "choro_base = dong_gdf.to_crs(4326).copy()\n",
        "choro_base[\"key\"] = choro_base[EMD_NAME_COL].astype(str)\n",
        "\n",
        "data_df = df_scores[[\"행정동명\", \"청년캠퍼스모빌리티지수\"]].copy()\n",
        "data_df[\"key\"] = data_df[\"행정동명\"].astype(str)\n",
        "\n",
        "folium.Choropleth(\n",
        "    geo_data=choro_base,\n",
        "    data=data_df,\n",
        "    columns=[\"key\", \"청년캠퍼스모빌리티지수\"],\n",
        "    key_on=\"feature.properties.key\",\n",
        "    fill_color=\"YlOrRd\",\n",
        "    fill_opacity=0.5,\n",
        "    line_opacity=0.1,\n",
        "    legend_name=\"청년캠퍼스모빌리티지수 (연속)\",\n",
        "    show=False,  # 기본은 꺼두고 필요할 때 켜기\n",
        "    name=\"연속 채색(참고)\"\n",
        ").add_to(m)\n",
        "\n",
        "# =========================\n",
        "# (NEW) 천안시 전체 외곽선 추가\n",
        "# =========================\n",
        "# 기존 읍면동 경계를 하나로 합쳐(dissolve) 천안시 전체 외곽선을 만듭니다.\n",
        "cheonan_border = dong_gdf.dissolve()\n",
        "\n",
        "# 두꺼운 외곽선을 별도의 GeoJson 레이어로 추가합니다.\n",
        "folium.GeoJson(\n",
        "    cheonan_border,\n",
        "    style_function=lambda x: {\n",
        "        \"fill\": False,          # 안쪽은 채우지 않음\n",
        "        \"color\": \"#111111\",     # 선 색상 (검정색에 가깝게)\n",
        "        \"weight\": 4             # 선 두께 (기존보다 두껍게)\n",
        "    },\n",
        "    name=\"천안시 외곽선\"\n",
        ").add_to(m)"
      ],
      "metadata": {
        "colab": {
          "base_uri": "https://localhost:8080/"
        },
        "id": "wRq4MH4-1z7o",
        "outputId": "464b0114-fcc3-4f5a-f27a-0b03de89d78c"
      },
      "execution_count": null,
      "outputs": [
        {
          "output_type": "execute_result",
          "data": {
            "text/plain": [
              "<folium.features.GeoJson at 0x7bbd27127c80>"
            ]
          },
          "metadata": {},
          "execution_count": 106
        }
      ]
    },
    {
      "cell_type": "code",
      "source": [
        "# =========================\n",
        "# 4) 보조 레이어들\n",
        "# =========================\n",
        "# 4-1) 캠퍼스\n",
        "if \"df_geo_ok\" in globals() and not df_geo_ok.empty:\n",
        "    fg_uni = folium.FeatureGroup(name=\"캠퍼스\", show=True)\n",
        "    for _, u in df_geo_ok.dropna(subset=[\"lat\",\"lon\"]).iterrows():\n",
        "        nm = str(u.get(\"학교_std\") or u.get(\"name\") or \"캠퍼스\")\n",
        "        folium.Marker(\n",
        "            [float(u[\"lat\"]), float(u[\"lon\"])],\n",
        "            icon=folium.Icon(color=\"blue\", icon=\"university\", prefix=\"fa\"),\n",
        "            tooltip=nm,\n",
        "            popup=nm\n",
        "        ).add_to(fg_uni)\n",
        "    fg_uni.add_to(m)\n",
        "\n",
        "# 4-2) 상권 점포 (최대 1000개 샘플)\n",
        "if \"consume_cheonan\" in globals() and not consume_cheonan.empty:\n",
        "    shops = consume_cheonan.copy()\n",
        "    for c in [\"위도\",\"경도\"]:\n",
        "        if c in shops.columns:\n",
        "            shops[c] = pd.to_numeric(shops[c], errors=\"coerce\")\n",
        "    shops = shops.dropna(subset=[\"위도\",\"경도\"])\n",
        "    if len(shops) > 1000:\n",
        "        shops = shops.sample(1000, random_state=42)\n",
        "    fg_shop = folium.FeatureGroup(name=f\"상권 점포(표본 {len(shops)}개)\", show=False)\n",
        "    for _, s in shops.iterrows():\n",
        "        folium.CircleMarker(\n",
        "            [s[\"위도\"], s[\"경도\"]],\n",
        "            radius=2.5, color=\"#ff8c00\", fill=True, fill_opacity=0.6,\n",
        "            tooltip=str(s.get(\"상호명\",\"점포\"))\n",
        "        ).add_to(fg_shop)\n",
        "    fg_shop.add_to(m)\n",
        "\n",
        "# 4-3) 입주기업\n",
        "if 'company_geocoded' in globals() and not company_geocoded.empty:\n",
        "    fg_comp = folium.FeatureGroup(name=f\"입주기업 ({len(company_geocoded)}개)\", show=False)\n",
        "\n",
        "    for _, row in company_geocoded.iterrows():\n",
        "        folium.CircleMarker(\n",
        "            location=[row['lat'], row['lon']],\n",
        "            radius=4,\n",
        "            color='#7e57c2', # 보라색\n",
        "            fill=True,\n",
        "            fill_opacity=0.7,\n",
        "            tooltip=f\"{row['회사명']} ({row['단지명']})\"\n",
        "        ).add_to(fg_comp)\n",
        "\n",
        "    fg_comp.add_to(m)"
      ],
      "metadata": {
        "id": "nalhSOo01z5C"
      },
      "execution_count": null,
      "outputs": []
    },
    {
      "cell_type": "code",
      "source": [
        "# =========================\n",
        "# 5) 상단 요약 박스 + 등급 범례\n",
        "# =========================\n",
        "mean_score = pts[\"청년캠퍼스모빌리티지수\"].mean()\n",
        "top5 = pts.sort_values(\"청년캠퍼스모빌리티지수\", ascending=False).head(5)[[\"행정동명\",\"청년캠퍼스모빌리티지수\"]]\n",
        "top_html = \"<br>\".join([f\"{i+1}. {r['행정동명']} ({r['청년캠퍼스모빌리티지수']:.2f})\" for i, r in top5.reset_index(drop=True).iterrows()])\n",
        "\n",
        "summary_html = f\"\"\"\n",
        "<div style=\"position: fixed; top: 10px; left: 10px; z-index: 9999;\n",
        "            background: rgba(255,255,255,0.95); padding: 10px 12px;\n",
        "            border: 1px solid #ccc; border-radius: 8px; font-size: 12px;\">\n",
        "  <b>천안시 예측지수 요약</b><br>\n",
        "  평균 지수: <b>{mean_score:.3f}</b><br>\n",
        "  상위 TOP5<br>{top_html}\n",
        "</div>\n",
        "\"\"\"\n",
        "legend_html = \"\"\"\n",
        "<div style=\"position: fixed; top: 450px; right: 10px; z-index: 9999;\n",
        "             background: rgba(255,255,255,0.95); padding: 10px 12px;\n",
        "             border: 1px solid #ccc; border-radius: 8px; font-size: 12px;\">\n",
        "  <b>등급(색상)</b><br>\n",
        "  <div><span style=\"display:inline-block;width:12px;height:12px;background:#f46d43;border:1px solid #999;margin-right:6px\"></span>주의</div>\n",
        "  <div><span style=\"display:inline-block;width:12px;height:12px;background:#fee08b;border:1px solid #999;margin-right:6px\"></span>보통</div>\n",
        "  <div><span style=\"display:inline-block;width:12px;height:12px;background:#1a9850;border:1px solid #999;margin-right:6px\"></span>우수</div>\n",
        "  <div style=\"margin-top:6px;color:#777;\">※ 원 크기 = 지수 크기</div>\n",
        "</div>\n",
        "\"\"\"\n",
        "m.get_root().html.add_child(folium.Element(summary_html))\n",
        "m.get_root().html.add_child(folium.Element(legend_html))"
      ],
      "metadata": {
        "colab": {
          "base_uri": "https://localhost:8080/"
        },
        "id": "cVKYvTBF2FOa",
        "outputId": "f9cac65b-da3c-4d28-fbe0-c1a1a6a2c833"
      },
      "execution_count": null,
      "outputs": [
        {
          "output_type": "execute_result",
          "data": {
            "text/plain": [
              "<branca.element.Element at 0x7bbd27127fb0>"
            ]
          },
          "metadata": {},
          "execution_count": 108
        }
      ]
    },
    {
      "cell_type": "code",
      "source": [
        "# =========================\n",
        "# 6) 저장\n",
        "# =========================\n",
        "folium.LayerControl(collapsed=False).add_to(m)\n",
        "out_name = \"천안_예측지도_동점_멀티레이어.html\"\n",
        "m.save(out_name)\n",
        "print(\"✅ 저장:\", out_name)"
      ],
      "metadata": {
        "colab": {
          "base_uri": "https://localhost:8080/"
        },
        "id": "_bLm_dGF2qWP",
        "outputId": "e1e0abee-8f75-48b1-cc6b-59562ac30eda"
      },
      "execution_count": null,
      "outputs": [
        {
          "output_type": "stream",
          "name": "stdout",
          "text": [
            "✅ 저장: 천안_예측지도_동점_멀티레이어.html\n"
          ]
        }
      ]
    },
    {
      "cell_type": "code",
      "source": [
        "# 생성된 HTML 파일명\n",
        "file_name = '천안_예측지도_동점_멀티레이어.html'\n",
        "\n",
        "# 파일을 다운로드합니다.\n",
        "files.download(file_name)\n",
        "\n",
        "print(f\"'{file_name}' 파일 다운로드가 시작되었습니다.\")"
      ],
      "metadata": {
        "id": "iXNJn9miu4hq",
        "colab": {
          "base_uri": "https://localhost:8080/",
          "height": 35
        },
        "outputId": "053c36ee-d5a1-4a16-c926-608dd82a6cad"
      },
      "execution_count": null,
      "outputs": [
        {
          "output_type": "display_data",
          "data": {
            "text/plain": [
              "<IPython.core.display.Javascript object>"
            ],
            "application/javascript": [
              "\n",
              "    async function download(id, filename, size) {\n",
              "      if (!google.colab.kernel.accessAllowed) {\n",
              "        return;\n",
              "      }\n",
              "      const div = document.createElement('div');\n",
              "      const label = document.createElement('label');\n",
              "      label.textContent = `Downloading \"${filename}\": `;\n",
              "      div.appendChild(label);\n",
              "      const progress = document.createElement('progress');\n",
              "      progress.max = size;\n",
              "      div.appendChild(progress);\n",
              "      document.body.appendChild(div);\n",
              "\n",
              "      const buffers = [];\n",
              "      let downloaded = 0;\n",
              "\n",
              "      const channel = await google.colab.kernel.comms.open(id);\n",
              "      // Send a message to notify the kernel that we're ready.\n",
              "      channel.send({})\n",
              "\n",
              "      for await (const message of channel.messages) {\n",
              "        // Send a message to notify the kernel that we're ready.\n",
              "        channel.send({})\n",
              "        if (message.buffers) {\n",
              "          for (const buffer of message.buffers) {\n",
              "            buffers.push(buffer);\n",
              "            downloaded += buffer.byteLength;\n",
              "            progress.value = downloaded;\n",
              "          }\n",
              "        }\n",
              "      }\n",
              "      const blob = new Blob(buffers, {type: 'application/binary'});\n",
              "      const a = document.createElement('a');\n",
              "      a.href = window.URL.createObjectURL(blob);\n",
              "      a.download = filename;\n",
              "      div.appendChild(a);\n",
              "      a.click();\n",
              "      div.remove();\n",
              "    }\n",
              "  "
            ]
          },
          "metadata": {}
        },
        {
          "output_type": "display_data",
          "data": {
            "text/plain": [
              "<IPython.core.display.Javascript object>"
            ],
            "application/javascript": [
              "download(\"download_a3ee9eaa-1ebf-4f91-b5b3-10b7d8373259\", \"\\ucc9c\\uc548_\\uc608\\uce21\\uc9c0\\ub3c4_\\ub3d9\\uc810_\\uba40\\ud2f0\\ub808\\uc774\\uc5b4.html\", 4317057)"
            ]
          },
          "metadata": {}
        },
        {
          "output_type": "stream",
          "name": "stdout",
          "text": [
            "'천안_예측지도_동점_멀티레이어.html' 파일 다운로드가 시작되었습니다.\n"
          ]
        }
      ]
    },
    {
      "cell_type": "code",
      "source": [],
      "metadata": {
        "id": "was8EL6-zbll"
      },
      "execution_count": null,
      "outputs": []
    }
  ],
  "metadata": {
    "colab": {
      "collapsed_sections": [
        "pqLwhafMEcHc",
        "iY6UFiDyL48E",
        "80XcxHmREAa-",
        "HTWF5EtbNMOM"
      ],
      "provenance": [],
      "include_colab_link": true
    },
    "kernelspec": {
      "display_name": "Python 3",
      "name": "python3"
    },
    "language_info": {
      "name": "python"
    },
    "widgets": {
      "application/vnd.jupyter.widget-state+json": {
        "f25d2948f4bf4045ae00a2275e0ba2fb": {
          "model_module": "@jupyter-widgets/controls",
          "model_name": "HBoxModel",
          "model_module_version": "1.5.0",
          "state": {
            "_dom_classes": [],
            "_model_module": "@jupyter-widgets/controls",
            "_model_module_version": "1.5.0",
            "_model_name": "HBoxModel",
            "_view_count": null,
            "_view_module": "@jupyter-widgets/controls",
            "_view_module_version": "1.5.0",
            "_view_name": "HBoxView",
            "box_style": "",
            "children": [
              "IPY_MODEL_a5403faee8e143f59470a9ccedb71c39",
              "IPY_MODEL_59f3e785effa48eabc4a5413e6a78c7b",
              "IPY_MODEL_f567e4b1f91e46ec95197c0ba07c208b"
            ],
            "layout": "IPY_MODEL_712399f307844ac6b5342b12e340609b"
          }
        },
        "a5403faee8e143f59470a9ccedb71c39": {
          "model_module": "@jupyter-widgets/controls",
          "model_name": "HTMLModel",
          "model_module_version": "1.5.0",
          "state": {
            "_dom_classes": [],
            "_model_module": "@jupyter-widgets/controls",
            "_model_module_version": "1.5.0",
            "_model_name": "HTMLModel",
            "_view_count": null,
            "_view_module": "@jupyter-widgets/controls",
            "_view_module_version": "1.5.0",
            "_view_name": "HTMLView",
            "description": "",
            "description_tooltip": null,
            "layout": "IPY_MODEL_ca74e6b23c294600aa20942ac0bf271d",
            "placeholder": "​",
            "style": "IPY_MODEL_05c35c5daabe4556a13ca28009d76347",
            "value": "100%"
          }
        },
        "59f3e785effa48eabc4a5413e6a78c7b": {
          "model_module": "@jupyter-widgets/controls",
          "model_name": "FloatProgressModel",
          "model_module_version": "1.5.0",
          "state": {
            "_dom_classes": [],
            "_model_module": "@jupyter-widgets/controls",
            "_model_module_version": "1.5.0",
            "_model_name": "FloatProgressModel",
            "_view_count": null,
            "_view_module": "@jupyter-widgets/controls",
            "_view_module_version": "1.5.0",
            "_view_name": "ProgressView",
            "bar_style": "success",
            "description": "",
            "description_tooltip": null,
            "layout": "IPY_MODEL_2d51566c18d04fb6abedb3c28d485eb6",
            "max": 1452,
            "min": 0,
            "orientation": "horizontal",
            "style": "IPY_MODEL_e086be530ba64f6c88a1fdf4abab85c4",
            "value": 1452
          }
        },
        "f567e4b1f91e46ec95197c0ba07c208b": {
          "model_module": "@jupyter-widgets/controls",
          "model_name": "HTMLModel",
          "model_module_version": "1.5.0",
          "state": {
            "_dom_classes": [],
            "_model_module": "@jupyter-widgets/controls",
            "_model_module_version": "1.5.0",
            "_model_name": "HTMLModel",
            "_view_count": null,
            "_view_module": "@jupyter-widgets/controls",
            "_view_module_version": "1.5.0",
            "_view_name": "HTMLView",
            "description": "",
            "description_tooltip": null,
            "layout": "IPY_MODEL_fee24eaa54f3478d9d8890f3ed84f6d6",
            "placeholder": "​",
            "style": "IPY_MODEL_bc2f843c6c364a4c925402af77882195",
            "value": " 1452/1452 [14:49&lt;00:00,  1.67it/s]"
          }
        },
        "712399f307844ac6b5342b12e340609b": {
          "model_module": "@jupyter-widgets/base",
          "model_name": "LayoutModel",
          "model_module_version": "1.2.0",
          "state": {
            "_model_module": "@jupyter-widgets/base",
            "_model_module_version": "1.2.0",
            "_model_name": "LayoutModel",
            "_view_count": null,
            "_view_module": "@jupyter-widgets/base",
            "_view_module_version": "1.2.0",
            "_view_name": "LayoutView",
            "align_content": null,
            "align_items": null,
            "align_self": null,
            "border": null,
            "bottom": null,
            "display": null,
            "flex": null,
            "flex_flow": null,
            "grid_area": null,
            "grid_auto_columns": null,
            "grid_auto_flow": null,
            "grid_auto_rows": null,
            "grid_column": null,
            "grid_gap": null,
            "grid_row": null,
            "grid_template_areas": null,
            "grid_template_columns": null,
            "grid_template_rows": null,
            "height": null,
            "justify_content": null,
            "justify_items": null,
            "left": null,
            "margin": null,
            "max_height": null,
            "max_width": null,
            "min_height": null,
            "min_width": null,
            "object_fit": null,
            "object_position": null,
            "order": null,
            "overflow": null,
            "overflow_x": null,
            "overflow_y": null,
            "padding": null,
            "right": null,
            "top": null,
            "visibility": null,
            "width": null
          }
        },
        "ca74e6b23c294600aa20942ac0bf271d": {
          "model_module": "@jupyter-widgets/base",
          "model_name": "LayoutModel",
          "model_module_version": "1.2.0",
          "state": {
            "_model_module": "@jupyter-widgets/base",
            "_model_module_version": "1.2.0",
            "_model_name": "LayoutModel",
            "_view_count": null,
            "_view_module": "@jupyter-widgets/base",
            "_view_module_version": "1.2.0",
            "_view_name": "LayoutView",
            "align_content": null,
            "align_items": null,
            "align_self": null,
            "border": null,
            "bottom": null,
            "display": null,
            "flex": null,
            "flex_flow": null,
            "grid_area": null,
            "grid_auto_columns": null,
            "grid_auto_flow": null,
            "grid_auto_rows": null,
            "grid_column": null,
            "grid_gap": null,
            "grid_row": null,
            "grid_template_areas": null,
            "grid_template_columns": null,
            "grid_template_rows": null,
            "height": null,
            "justify_content": null,
            "justify_items": null,
            "left": null,
            "margin": null,
            "max_height": null,
            "max_width": null,
            "min_height": null,
            "min_width": null,
            "object_fit": null,
            "object_position": null,
            "order": null,
            "overflow": null,
            "overflow_x": null,
            "overflow_y": null,
            "padding": null,
            "right": null,
            "top": null,
            "visibility": null,
            "width": null
          }
        },
        "05c35c5daabe4556a13ca28009d76347": {
          "model_module": "@jupyter-widgets/controls",
          "model_name": "DescriptionStyleModel",
          "model_module_version": "1.5.0",
          "state": {
            "_model_module": "@jupyter-widgets/controls",
            "_model_module_version": "1.5.0",
            "_model_name": "DescriptionStyleModel",
            "_view_count": null,
            "_view_module": "@jupyter-widgets/base",
            "_view_module_version": "1.2.0",
            "_view_name": "StyleView",
            "description_width": ""
          }
        },
        "2d51566c18d04fb6abedb3c28d485eb6": {
          "model_module": "@jupyter-widgets/base",
          "model_name": "LayoutModel",
          "model_module_version": "1.2.0",
          "state": {
            "_model_module": "@jupyter-widgets/base",
            "_model_module_version": "1.2.0",
            "_model_name": "LayoutModel",
            "_view_count": null,
            "_view_module": "@jupyter-widgets/base",
            "_view_module_version": "1.2.0",
            "_view_name": "LayoutView",
            "align_content": null,
            "align_items": null,
            "align_self": null,
            "border": null,
            "bottom": null,
            "display": null,
            "flex": null,
            "flex_flow": null,
            "grid_area": null,
            "grid_auto_columns": null,
            "grid_auto_flow": null,
            "grid_auto_rows": null,
            "grid_column": null,
            "grid_gap": null,
            "grid_row": null,
            "grid_template_areas": null,
            "grid_template_columns": null,
            "grid_template_rows": null,
            "height": null,
            "justify_content": null,
            "justify_items": null,
            "left": null,
            "margin": null,
            "max_height": null,
            "max_width": null,
            "min_height": null,
            "min_width": null,
            "object_fit": null,
            "object_position": null,
            "order": null,
            "overflow": null,
            "overflow_x": null,
            "overflow_y": null,
            "padding": null,
            "right": null,
            "top": null,
            "visibility": null,
            "width": null
          }
        },
        "e086be530ba64f6c88a1fdf4abab85c4": {
          "model_module": "@jupyter-widgets/controls",
          "model_name": "ProgressStyleModel",
          "model_module_version": "1.5.0",
          "state": {
            "_model_module": "@jupyter-widgets/controls",
            "_model_module_version": "1.5.0",
            "_model_name": "ProgressStyleModel",
            "_view_count": null,
            "_view_module": "@jupyter-widgets/base",
            "_view_module_version": "1.2.0",
            "_view_name": "StyleView",
            "bar_color": null,
            "description_width": ""
          }
        },
        "fee24eaa54f3478d9d8890f3ed84f6d6": {
          "model_module": "@jupyter-widgets/base",
          "model_name": "LayoutModel",
          "model_module_version": "1.2.0",
          "state": {
            "_model_module": "@jupyter-widgets/base",
            "_model_module_version": "1.2.0",
            "_model_name": "LayoutModel",
            "_view_count": null,
            "_view_module": "@jupyter-widgets/base",
            "_view_module_version": "1.2.0",
            "_view_name": "LayoutView",
            "align_content": null,
            "align_items": null,
            "align_self": null,
            "border": null,
            "bottom": null,
            "display": null,
            "flex": null,
            "flex_flow": null,
            "grid_area": null,
            "grid_auto_columns": null,
            "grid_auto_flow": null,
            "grid_auto_rows": null,
            "grid_column": null,
            "grid_gap": null,
            "grid_row": null,
            "grid_template_areas": null,
            "grid_template_columns": null,
            "grid_template_rows": null,
            "height": null,
            "justify_content": null,
            "justify_items": null,
            "left": null,
            "margin": null,
            "max_height": null,
            "max_width": null,
            "min_height": null,
            "min_width": null,
            "object_fit": null,
            "object_position": null,
            "order": null,
            "overflow": null,
            "overflow_x": null,
            "overflow_y": null,
            "padding": null,
            "right": null,
            "top": null,
            "visibility": null,
            "width": null
          }
        },
        "bc2f843c6c364a4c925402af77882195": {
          "model_module": "@jupyter-widgets/controls",
          "model_name": "DescriptionStyleModel",
          "model_module_version": "1.5.0",
          "state": {
            "_model_module": "@jupyter-widgets/controls",
            "_model_module_version": "1.5.0",
            "_model_name": "DescriptionStyleModel",
            "_view_count": null,
            "_view_module": "@jupyter-widgets/base",
            "_view_module_version": "1.2.0",
            "_view_name": "StyleView",
            "description_width": ""
          }
        }
      }
    }
  },
  "nbformat": 4,
  "nbformat_minor": 0
}
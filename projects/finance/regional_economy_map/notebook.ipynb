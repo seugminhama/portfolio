{
  "cells": [
    {
      "cell_type": "markdown",
      "metadata": {
        "id": "view-in-github",
        "colab_type": "text"
      },
      "source": [
        "<a href=\"https://colab.research.google.com/github/seungminhama/portfolio/blob/main/projects/finance/regional_economy_map/notebook.ipynb\" target=\"_parent\"><img src=\"https://colab.research.google.com/assets/colab-badge.svg\" alt=\"Open In Colab\"/></a>"
      ]
    },
    {
      "cell_type": "markdown",
      "metadata": {
        "id": "UKmNE6wRwv4b"
      },
      "source": [
        "# 환경설정 및 데이터 로드"
      ]
    },
    {
      "cell_type": "code",
      "source": [
        "!pip install tqdm"
      ],
      "metadata": {
        "id": "HaBXue8vA8hw"
      },
      "execution_count": null,
      "outputs": []
    },
    {
      "cell_type": "code",
      "execution_count": null,
      "metadata": {
        "id": "zOrQBt3ews9f"
      },
      "outputs": [],
      "source": [
        "# 필요한 라이브러리 임포트\n",
        "import os, re, glob, io, zipfile, warnings\n",
        "import math, time, requests\n",
        "import folium, json\n",
        "import geopandas as gpd\n",
        "import numpy as np\n",
        "import pandas as pd\n",
        "from sklearn.preprocessing import MinMaxScaler\n",
        "from sklearn.cluster import KMeans\n",
        "from google.colab import drive\n",
        "import matplotlib.pyplot as plt\n",
        "import seaborn as sns\n",
        "import geopandas as gpd\n",
        "from shapely.geometry import Point\n",
        "from matplotlib.colors import ListedColormap\n",
        "import statsmodels.api as sm\n",
        "from google.colab import files\n",
        "from contextlib import contextmanager\n",
        "from branca.colormap import linear\n",
        "from folium import FeatureGroup\n",
        "from folium.plugins import MarkerCluster, MeasureControl\n",
        "from shapely.geometry import Polygon\n",
        "from tqdm.auto import tqdm"
      ]
    },
    {
      "cell_type": "code",
      "execution_count": null,
      "metadata": {
        "id": "frx9L_73wyvp"
      },
      "outputs": [],
      "source": [
        "# Google Drive 마운트\n",
        "drive.mount('/content/drive')\n",
        "\n",
        "# 경고 무시\n",
        "warnings.filterwarnings('ignore')"
      ]
    },
    {
      "cell_type": "code",
      "execution_count": null,
      "metadata": {
        "id": "GN1h0Gj6w3Bp"
      },
      "outputs": [],
      "source": [
        "# Google Drive 경로 설정\n",
        "data_path = '/content/drive/MyDrive/2025 천안 데이터 공모전/데이터'"
      ]
    },
    {
      "cell_type": "markdown",
      "metadata": {
        "id": "bdfhVJFvyDwy"
      },
      "source": [
        "# 데이터 정제"
      ]
    },
    {
      "cell_type": "markdown",
      "metadata": {
        "id": "pqLwhafMEcHc"
      },
      "source": [
        "## 기숙사"
      ]
    },
    {
      "cell_type": "code",
      "execution_count": null,
      "metadata": {
        "id": "PgBRGLiTnyC7"
      },
      "outputs": [],
      "source": [
        "path_dorm = \"/content/drive/MyDrive/데이터/충남_대학교_기숙사_2022_2024.csv\""
      ]
    },
    {
      "cell_type": "code",
      "execution_count": null,
      "metadata": {
        "id": "5nqe-e1CEZjv"
      },
      "outputs": [],
      "source": [
        "dorm = pd.read_csv(path_dorm)\n",
        "print(dorm.shape)\n",
        "print(dorm.columns)"
      ]
    },
    {
      "cell_type": "code",
      "execution_count": null,
      "metadata": {
        "id": "fYHQ0NZyEv32"
      },
      "outputs": [],
      "source": [
        "# 필요한 칼럼만 남기기\n",
        "dorm_slim = dorm[['기준연도','지역','학교','실제 수용 인원']].copy()\n",
        "\n",
        "print(dorm_slim.head())\n",
        "print(dorm_slim.shape)"
      ]
    },
    {
      "cell_type": "code",
      "execution_count": null,
      "metadata": {
        "id": "Cpr2UCIdFQc7"
      },
      "outputs": [],
      "source": [
        "# 실제 수용 인원에 숫자 아닌 값은 NaN 처리\n",
        "dorm_slim['실제 수용 인원'] = pd.to_numeric(dorm_slim['실제 수용 인원'], errors='coerce')\n",
        "\n",
        "# NaN 값 제거\n",
        "dorm_clean = dorm_slim.dropna(subset=['실제 수용 인원']).copy()\n",
        "\n",
        "print(dorm_clean.shape)\n",
        "print(dorm_clean.head(100))"
      ]
    },
    {
      "cell_type": "code",
      "execution_count": null,
      "metadata": {
        "id": "m6BW7VU8GIlN"
      },
      "outputs": [],
      "source": [
        "# 기준연도, 학교 NaN 채우기\n",
        "dorm_clean[['기준연도','학교']] = dorm_clean[['기준연도','학교']].ffill()\n",
        "dorm_clean['기준연도'] = dorm_clean['기준연도'].astype('Int64')\n",
        "\n",
        "print(dorm_clean.head(10))\n",
        "print(dorm_clean.tail(10))"
      ]
    },
    {
      "cell_type": "code",
      "execution_count": null,
      "metadata": {
        "id": "T0Rj9FS0Je_L"
      },
      "outputs": [],
      "source": [
        "# 천안 소재 대학 리스트\n",
        "cheonan_univ = [\n",
        "    \"단국대학교 _제2캠퍼스\",\"상명대학교 _제2캠퍼스\",\n",
        "    \"남서울대학교\",\"백석대학교\",\"호서대학교\",\n",
        "    \"한국기술교육대학교\",\"나사렛대학교\"\n",
        "]\n",
        "\n",
        "# 학교명에 해당 대학명이 포함된 행만 남기기\n",
        "mask = dorm_clean['학교'].astype(str).str.contains(\"|\".join(cheonan_univ), regex=True)\n",
        "dorm_cheonan = dorm_clean[mask].copy()\n",
        "\n",
        "print(dorm_cheonan['학교'].unique())\n",
        "print(dorm_cheonan.head())"
      ]
    },
    {
      "cell_type": "markdown",
      "metadata": {
        "id": "iY6UFiDyL48E"
      },
      "source": [
        "## 천안시 인구"
      ]
    },
    {
      "cell_type": "code",
      "execution_count": null,
      "metadata": {
        "id": "A2WM_yW5LvQ4"
      },
      "outputs": [],
      "source": [
        "path_pop = \"/content/drive/MyDrive/데이터/연령_및_성별_인구_–_읍면동_20250830034743.csv\""
      ]
    },
    {
      "cell_type": "code",
      "execution_count": null,
      "metadata": {
        "id": "_2460kGaMD-1"
      },
      "outputs": [],
      "source": [
        "pop = pd.read_csv(path_pop, encoding='cp949')\n",
        "print(pop.shape)\n",
        "print(pop.columns)\n",
        "print(pop.head(20))"
      ]
    },
    {
      "cell_type": "code",
      "execution_count": null,
      "metadata": {
        "id": "2RadHjGip_hY"
      },
      "outputs": [],
      "source": [
        "# 전체인구\n",
        "path_pop_all = \"/content/drive/MyDrive/데이터/연령_및_성별_인구_–_읍면동_20250828212700_전국.csv\"\n",
        "\n",
        "pop_all = pd.read_csv(path_pop_all, encoding=\"cp949\", dtype=str, low_memory=False)\n",
        "\n",
        "print(pop_all.head())"
      ]
    },
    {
      "cell_type": "markdown",
      "metadata": {
        "id": "GRRPSO7sROgZ"
      },
      "source": [
        "## 이동인구"
      ]
    },
    {
      "cell_type": "code",
      "execution_count": null,
      "metadata": {
        "id": "Zi21waq3Pgsp"
      },
      "outputs": [],
      "source": [
        "path_move_2015 = \"/content/drive/MyDrive/데이터/2015_인구관련연간자료_20250825_12667.csv\"\n",
        "path_move_2016 = \"/content/drive/MyDrive/데이터/2016_인구관련연간자료_20250825_12667.csv\"\n",
        "path_move_2017 = \"/content/drive/MyDrive/데이터/2017_인구관련연간자료_20250825_12667.csv\"\n",
        "path_move_2018 = \"/content/drive/MyDrive/데이터/2018_인구관련연간자료_20250825_12667.csv\"\n",
        "path_move_2019 = \"/content/drive/MyDrive/데이터/2019_인구관련연간자료_20250825_12667.csv\"\n",
        "path_move_2020 = \"/content/drive/MyDrive/데이터/2020_인구관련연간자료_20250825_60311.csv\"\n",
        "path_move_2021 = \"/content/drive/MyDrive/데이터/2021_인구관련연간자료_20250825_60311.csv\"\n",
        "path_move_2022 = \"/content/drive/MyDrive/데이터/2022_인구관련연간자료_20250825_60311.csv\"\n",
        "path_move_2023 = \"/content/drive/MyDrive/데이터/2023_인구관련연간자료_20250825_60311.csv\"\n",
        "path_move_2024 = \"/content/drive/MyDrive/데이터/2024_인구관련연간자료_20250825_60311.csv\""
      ]
    },
    {
      "cell_type": "code",
      "execution_count": null,
      "metadata": {
        "id": "mQ9GoeW4SC6x"
      },
      "outputs": [],
      "source": [
        "move_2015 = pd.read_csv(path_move_2015, header=None, dtype=str)\n",
        "move_2016 = pd.read_csv(path_move_2016, header=None, dtype=str)\n",
        "move_2017 = pd.read_csv(path_move_2017, header=None, dtype=str)\n",
        "move_2018 = pd.read_csv(path_move_2018, header=None, dtype=str)\n",
        "move_2019 = pd.read_csv(path_move_2019, header=None, dtype=str)\n",
        "move_2020 = pd.read_csv(path_move_2020, header=None, dtype=str)\n",
        "move_2021 = pd.read_csv(path_move_2021, header=None, dtype=str)\n",
        "move_2022 = pd.read_csv(path_move_2022, header=None, dtype=str)\n",
        "move_2023 = pd.read_csv(path_move_2023, header=None, dtype=str)\n",
        "move_2024 = pd.read_csv(path_move_2024, header=None, dtype=str)"
      ]
    },
    {
      "cell_type": "code",
      "execution_count": null,
      "metadata": {
        "id": "p5dwJsApSgRB"
      },
      "outputs": [],
      "source": [
        "# 뒤쪽 완전 빈 칼림이 있으면 제거\n",
        "move_2015 = move_2015.dropna(axis=1, how='all')"
      ]
    },
    {
      "cell_type": "code",
      "execution_count": null,
      "metadata": {
        "id": "-SM6XNzRS_tS"
      },
      "outputs": [],
      "source": [
        "# 칼럼 수에 맞춰 이름 부여\n",
        "if move_2015.shape[1] < 14:\n",
        "  # 부족한 만큼 NaN열 추가\n",
        "  for i in range(14 - move_2015.shape[1]):\n",
        "    move_2015[move_2015.shape[1]] = pd.NA\n",
        "elif move_2015.shape[1] > 14:\n",
        "  move_2015 = move_2015.iloc[:, :14]\n",
        "\n",
        "# 칼럼 이름 고정\n",
        "names14 = [\n",
        "    '전입시도코드','전입시군구코드','전입연도','전입월',\n",
        "    '전출시도코드','전출시군구코드',\n",
        "    '전입자1_만연령','전입자1_성별코드',\n",
        "    '전입자2_만연령','전입자2_성별코드',\n",
        "    '전입자3_만연령','전입자3_성별코드',\n",
        "    '전입자4_만연령', '전입자4_성별코드'\n",
        "]\n",
        "move_2015.columns = names14\n",
        "\n",
        "# 코드형 변수 zero-padding 처리\n",
        "for c, width in [('전입시도코드',2), ('전출시도코드',2)]:\n",
        "    move_2015[c] = move_2015[c].astype(str).str.replace('.0','', regex=False).str.zfill(width)\n",
        "for c, width in [('전입시군구코드',3), ('전출시군구코드',3)]:\n",
        "    move_2015[c] = move_2015[c].astype(str).str.replace('.0','', regex=False).str.zfill(width)\\\n",
        "\n",
        "# 숫자형으로 바꿀 수 있는 칼럼 변환 (연도, 월, 연령, 성별)\n",
        "num_cols = [c for c in move_2015.columns if '연도' in c or '월' in c or '만연령' in c or '성별코드' in c]\n",
        "for c in num_cols:\n",
        "    move_2015[c] = pd.to_numeric(move_2015[c], errors='coerce')\n",
        "\n",
        "print(move_2015.head())"
      ]
    },
    {
      "cell_type": "code",
      "execution_count": null,
      "metadata": {
        "id": "LEo_mf9wexX0"
      },
      "outputs": [],
      "source": [
        "# 정수로 보고 싶은 컬럼들\n",
        "int_cols = [\n",
        "    '전입시도코드','전입시군구코드','전입연도','전입월',\n",
        "    '전출시도코드','전출시군구코드',\n",
        "    '전입자1_만연령','전입자1_성별코드',\n",
        "    '전입자2_만연령','전입자2_성별코드',\n",
        "    '전입자3_만연령','전입자3_성별코드',\n",
        "    '전입자4_만연령', '전입자4_성별코드'\n",
        "]\n",
        "\n",
        "for c in int_cols:\n",
        "    move_2015[c] = pd.to_numeric(move_2015[c], errors='coerce').astype('Int64')\n",
        "    # <- pandas의 Nullable Int (결측 NaN도 표현 가능)\n",
        "\n",
        "print(move_2015.head())"
      ]
    },
    {
      "cell_type": "code",
      "execution_count": null,
      "metadata": {
        "id": "4Jh9tMeTXmOf"
      },
      "outputs": [],
      "source": [
        "age_cols = [c for c in move_2015.columns if '만연령' in c]\n",
        "print(age_cols)"
      ]
    },
    {
      "cell_type": "code",
      "execution_count": null,
      "metadata": {
        "id": "8rvy_M-IWA76"
      },
      "outputs": [],
      "source": [
        "for col in age_cols:\n",
        "    s = (move_2015[col]\n",
        "            .astype(str)                      # 문자열화(혼합형 대비)\n",
        "            .str.strip()\n",
        "            .str.replace(',', '', regex=False)\n",
        "            .str.replace('.0', '', regex=False))\n",
        "    s = pd.to_numeric(s, errors='coerce')     # ← 숫자로 강제 변환\n",
        "    s = s.where(s >= 10, s * 10)              # ← 한 자리면 ×10 보정\n",
        "    move_2015[col] = s.astype('Int64')        # ← .0 제거(결측 허용 정수)\n",
        "\n",
        "# 보정 결과 확인\n",
        "print(move_2015[age_cols].head(10))"
      ]
    },
    {
      "cell_type": "code",
      "execution_count": null,
      "metadata": {
        "id": "smmSjaz5iyRz"
      },
      "outputs": [],
      "source": [
        "mask = False\n",
        "for col in age_cols:\n",
        "    mask |= move_2015[col].between(20, 29, inclusive=\"both\")\n",
        "\n",
        "move_2015_youth = move_2015[mask].copy()\n",
        "print(move_2015_youth[age_cols].head())"
      ]
    },
    {
      "cell_type": "code",
      "execution_count": null,
      "metadata": {
        "id": "AFeVeWEWkSlG"
      },
      "outputs": [],
      "source": [
        "cols_to_show = [\n",
        "    '전입시도코드','전입시군구코드','전입연도','전입월',\n",
        "    '전출시도코드','전출시군구코드'\n",
        "] + age_cols\n",
        "\n",
        "print(move_2015_youth[cols_to_show].head(20))"
      ]
    },
    {
      "cell_type": "code",
      "execution_count": null,
      "metadata": {
        "id": "aOOfgqN9Xk9q"
      },
      "outputs": [],
      "source": [
        "# 전입자3, 4 관련 칼럼\n",
        "cols_3_4 = [\n",
        "    '전입자3_만연령','전입자3_성별코드',\n",
        "    '전입자4_만연령','전입자4_성별코드'\n",
        "]\n",
        "\n",
        "# 전입자3, 4의 값이 NaN만 남기기\n",
        "move_2015_youth_nan = move_2015_youth[move_2015_youth[cols_3_4].isna().all(axis=1)].copy()\n",
        "\n",
        "# 전입자3, 4 열 지우기\n",
        "move_2015_drop = move_2015_youth_nan.drop(columns=cols_3_4)\n",
        "\n",
        "print(move_2015_drop.head())"
      ]
    },
    {
      "cell_type": "code",
      "execution_count": null,
      "metadata": {
        "id": "_yLxqoVHdsZ_"
      },
      "outputs": [],
      "source": [
        "# 천안 전입자\n",
        "df = move_2015_drop.reset_index(drop=True)  # 인덱스 정렬/초기화\n",
        "\n",
        "# 코드 비교는 문자열로 안전하게 (44 / 131 / 133)\n",
        "mask_in = (df['전입시도코드'].astype(str) == '44') & (\n",
        "    df['전입시군구코드'].astype(str).isin(['131','133'])\n",
        ")\n",
        "\n",
        "mask_out = (df['전출시도코드'].astype(str) == '44') & (\n",
        "    df['전출시군구코드'].astype(str).isin(['131','133'])\n",
        ")\n",
        "\n",
        "move_in_cheonan  = df.loc[mask_in].copy()\n",
        "move_out_cheonan = df.loc[mask_out].copy()\n",
        "move_cheonan     = df.loc[mask_in | mask_out].copy()\n",
        "\n",
        "print(move_cheonan.head())"
      ]
    },
    {
      "cell_type": "code",
      "execution_count": null,
      "metadata": {
        "id": "9zj4_87dnjIy"
      },
      "outputs": [],
      "source": [
        "NAMES14 = [\n",
        "    '전입시도코드','전입시군구코드','전입연도','전입월',\n",
        "    '전출시도코드','전출시군구코드',\n",
        "    '전입자1_만연령','전입자1_성별코드',\n",
        "    '전입자2_만연령','전입자2_성별코드',\n",
        "    '전입자3_만연령','전입자3_성별코드',\n",
        "    '전입자4_만연령','전입자4_성별코드'\n",
        "]\n",
        "AGE_COLS = ['전입자1_만연령','전입자2_만연령','전입자3_만연령','전입자4_만연령']\n",
        "COLS_3_4 = ['전입자3_만연령','전입자3_성별코드','전입자4_만연령','전입자4_성별코드']\n",
        "CHEONAN_GU = {'131','133'}\n",
        "\n",
        "def _zero_pad_series(s, width):\n",
        "    # 문자열화 최소화: NaN은 빈문자 처리 후 제로패딩\n",
        "    s = s.astype(object)\n",
        "    s = s.where(~s.isna(), '')              # NaN -> ''\n",
        "    s = s.astype(str).str.replace(r'\\.0$', '', regex=True)\n",
        "    return s.str.zfill(width)\n",
        "\n",
        "def preprocess_move_df(df: pd.DataFrame) -> pd.DataFrame:\n",
        "    # 0) 사본 한 번만\n",
        "    df = df.copy()\n",
        "\n",
        "    # 1) 항상 14개 컬럼으로 맞추기 (앞 14개 사용 + 부족분 NA 채움)\n",
        "    if df.shape[1] >= 14:\n",
        "        df = df.iloc[:, :14]\n",
        "    else:\n",
        "        df = pd.concat([df, pd.DataFrame(np.nan, index=df.index, columns=range(14 - df.shape[1]))], axis=1)\n",
        "    df.columns = NAMES14\n",
        "\n",
        "    # 2) 코드 제로패딩 (문자열 유지)\n",
        "    df['전입시도코드']  = _zero_pad_series(df['전입시도코드'], 2)\n",
        "    df['전출시도코드']  = _zero_pad_series(df['전출시도코드'], 2)\n",
        "    df['전입시군구코드'] = _zero_pad_series(df['전입시군구코드'], 3)\n",
        "    df['전출시군구코드'] = _zero_pad_series(df['전출시군구코드'], 3)\n",
        "\n",
        "    # 3) 숫자형 변환 (연도/월/연령/성별만)\n",
        "    num_cols = [c for c in NAMES14 if ('연도' in c or '월' in c or '만연령' in c or '성별코드' in c)]\n",
        "    df[num_cols] = df[num_cols].apply(pd.to_numeric, errors='coerce')\n",
        "\n",
        "    # 4) 나이 보정: 한 자리(예: 2 → 20)는 *10, 나머지는 그대로\n",
        "    ages = df[AGE_COLS].to_numpy(dtype='float64', copy=True)\n",
        "    small_mask = (ages >= 0) & (ages < 10)\n",
        "    ages[small_mask] *= 10\n",
        "    df[AGE_COLS] = ages\n",
        "\n",
        "    # 5) 20~29세 전입자 존재 행 필터 (배열 연산)\n",
        "    age_arr = df[AGE_COLS].to_numpy(dtype='float64', copy=False)\n",
        "    has_20s = np.any((age_arr >= 20) & (age_arr <= 29), axis=1)\n",
        "    df = df.loc[has_20s].copy()\n",
        "\n",
        "    # 6) 전입자3/4 값 있는 행 제외 후 해당 열 삭제\n",
        "    if set(COLS_3_4).issubset(df.columns):\n",
        "        only_na_34 = df[COLS_3_4].isna().all(axis=1)\n",
        "        df = df.loc[only_na_34].drop(columns=COLS_3_4)\n",
        "\n",
        "    # 7) 천안(충남-동남/서북) 관련 행만\n",
        "    mask_in  = (df['전입시도코드'] == '44') & (df['전입시군구코드'].isin(CHEONAN_GU))\n",
        "    mask_out = (df['전출시도코드'] == '44') & (df['전출시군구코드'].isin(CHEONAN_GU))\n",
        "    df = df.loc[mask_in | mask_out].reset_index(drop=True)\n",
        "\n",
        "    # 8) 경량 다운캐스트 (메모리 절약)\n",
        "    for c in ['전입연도','전입월']:\n",
        "        if c in df.columns:\n",
        "            df[c] = pd.to_numeric(df[c], downcast='integer')\n",
        "    for c in ['전입자1_성별코드','전입자2_성별코드']:\n",
        "        if c in df.columns:\n",
        "            df[c] = pd.to_numeric(df[c], downcast='integer')\n",
        "    for c in ['전입자1_만연령','전입자2_만연령']:\n",
        "        if c in df.columns:\n",
        "            df[c] = pd.to_numeric(df[c], downcast='integer')\n",
        "\n",
        "    return df"
      ]
    },
    {
      "cell_type": "code",
      "execution_count": null,
      "metadata": {
        "id": "Baurex0peJnl"
      },
      "outputs": [],
      "source": [
        "# 연도별 원본 DataFrame 딕셔너리 (이미 불러온 상태)\n",
        "raw_dfs = {\n",
        "    2015: move_2015, 2016: move_2016, 2017: move_2017, 2018: move_2018, 2019: move_2019,\n",
        "    2020: move_2020, 2021: move_2021, 2022: move_2022, 2023: move_2023, 2024: move_2024\n",
        "}\n",
        "\n",
        "# 전처리 함수 적용\n",
        "processed = [preprocess_move_df(df) for df in raw_dfs.values()]\n",
        "\n",
        "# 합치기\n",
        "all_moves = pd.concat(processed, ignore_index=True)\n",
        "\n",
        "print(all_moves.shape)\n",
        "print(all_moves.head())"
      ]
    },
    {
      "cell_type": "code",
      "execution_count": null,
      "metadata": {
        "id": "I66IeVlPqv1i"
      },
      "outputs": [],
      "source": [
        "processed = []\n",
        "for year, df in raw_dfs.items():\n",
        "    tmp = preprocess_move_df(df)\n",
        "    tmp['파일연도'] = year   # 파일 이름상 연도\n",
        "    processed.append(tmp)\n",
        "\n",
        "all_moves = pd.concat(processed, ignore_index=True)"
      ]
    },
    {
      "cell_type": "markdown",
      "metadata": {
        "id": "EEGtfLb27XOD"
      },
      "source": [
        "## 소비"
      ]
    },
    {
      "cell_type": "code",
      "execution_count": null,
      "metadata": {
        "id": "9UmECLON7Xzc"
      },
      "outputs": [],
      "source": [
        "path_consume = \"/content/drive/MyDrive/데이터/소상공인시장진흥공단_충남_데이터정리.csv\""
      ]
    },
    {
      "cell_type": "code",
      "execution_count": null,
      "metadata": {
        "id": "UTUfRhJd71Me"
      },
      "outputs": [],
      "source": [
        "consume = pd.read_csv(path_consume, encoding=\"cp949\")\n",
        "\n",
        "print(consume.shape)\n",
        "print(consume.columns)\n",
        "print(consume.head(20))"
      ]
    },
    {
      "cell_type": "code",
      "execution_count": null,
      "metadata": {
        "id": "7ZwnkSjK8BGu"
      },
      "outputs": [],
      "source": [
        "# 천안시만 필터링\n",
        "# 필터 — 코드가 정수형이면 이렇게\n",
        "consume_cheonan = consume[\n",
        "    (consume['시도코드'] == 44) &\n",
        "    (consume['시군구코드'].isin([44131, 44133]))\n",
        "].copy()\n",
        "\n",
        "# 코드가 문자열일 수도 있으니 안전하게 하려면:\n",
        "# consume_cheonan = consume[\n",
        "#     (consume['시도코드'].astype(str).str.strip() == '44') &\n",
        "#     (consume['시군구코드'].astype(str).str.strip().isin(['44131','44133']))\n",
        "# ].copy()\n",
        "\n",
        "# (2) 전체 행/열 확인\n",
        "print(consume_cheonan.shape)      # 전체 행 수\n",
        "print(consume_cheonan.head(10))   # 앞 10행 (중복 제거 금지!)\n",
        "\n",
        "# (3) 분포 확인(참고)\n",
        "print(consume_cheonan['시군구코드'].value_counts())\n",
        "print(consume_cheonan['시군구명'].value_counts())"
      ]
    },
    {
      "cell_type": "markdown",
      "metadata": {
        "id": "80XcxHmREAa-"
      },
      "source": [
        "## 이동수단"
      ]
    },
    {
      "cell_type": "code",
      "execution_count": null,
      "metadata": {
        "id": "Ju84_gXu9n3e"
      },
      "outputs": [],
      "source": [
        "from math import radians, cos, sin, asin, sqrt\n",
        "import requests, time\n",
        "from urllib.parse import urlencode"
      ]
    },
    {
      "cell_type": "code",
      "execution_count": null,
      "metadata": {
        "id": "niFAZlhzc9kC"
      },
      "outputs": [],
      "source": [
        "path_under = \"/content/drive/MyDrive/데이터/충청남도 천안시_지하차도 현황_20240728.csv\"\n",
        "path_bus = \"/content/drive/MyDrive/데이터/충청남도 천안시_시내버스운수업체별노선현황_20240719.csv\"\n",
        "path_ped = \"/content/drive/MyDrive/데이터/충청남도 천안시_보행자전용도로 현황_20230828.csv\"\n",
        "path_road = \"/content/drive/MyDrive/데이터/충청남도 천안시_도로 현황_20230828.csv\"\n",
        "path_facilities = \"/content/drive/MyDrive/데이터/충청남도 천안시_교통시설 현황_20230828.csv\""
      ]
    },
    {
      "cell_type": "code",
      "execution_count": null,
      "metadata": {
        "id": "UCTmiuYWdQbz"
      },
      "outputs": [],
      "source": [
        "under = pd.read_csv(path_under, encoding=\"cp949\")\n",
        "bus = pd.read_csv(path_bus, encoding=\"cp949\")\n",
        "ped = pd.read_csv(path_ped, encoding=\"cp949\")\n",
        "road = pd.read_csv(path_road, encoding=\"cp949\")\n",
        "facilities = pd.read_csv(path_facilities, encoding=\"cp949\")"
      ]
    },
    {
      "cell_type": "code",
      "execution_count": null,
      "metadata": {
        "id": "CG2xOR_NdhOu"
      },
      "outputs": [],
      "source": [
        "print(under.shape)\n",
        "print(under.columns)\n",
        "print(under.head())"
      ]
    },
    {
      "cell_type": "code",
      "execution_count": null,
      "metadata": {
        "id": "tS3dc2_sdxgw"
      },
      "outputs": [],
      "source": [
        "print(bus.shape)\n",
        "print(bus.columns)\n",
        "print(bus.head())"
      ]
    },
    {
      "cell_type": "code",
      "execution_count": null,
      "metadata": {
        "id": "97tGSz5teCUf"
      },
      "outputs": [],
      "source": [
        "print(ped.shape)\n",
        "print(ped.columns)\n",
        "print(ped.head())"
      ]
    },
    {
      "cell_type": "code",
      "execution_count": null,
      "metadata": {
        "id": "yXEVQtySeRZ_"
      },
      "outputs": [],
      "source": [
        "print(road.shape)\n",
        "print(road.columns)\n",
        "print(road.head())"
      ]
    },
    {
      "cell_type": "code",
      "execution_count": null,
      "metadata": {
        "id": "UI4KEWJVeY0x"
      },
      "outputs": [],
      "source": [
        "print(facilities.shape)\n",
        "print(facilities.columns)\n",
        "print(facilities.head())"
      ]
    },
    {
      "cell_type": "code",
      "execution_count": null,
      "metadata": {
        "id": "2psapb9Mjmqj"
      },
      "outputs": [],
      "source": [
        "APIKEY   = \"20250828161411g36ukorpo9ruqsavqljuj33mdg\"   # 공공키\n",
        "BASE_STOP  = \"https://stcis.go.kr/openapi/bussttn.json\"        # 정류장\n",
        "BASE_ROUTE = \"https://stcis.go.kr/openapi/busroute.json\"       # 노선\n",
        "\n",
        "# 행정코드: 충남/천안(동남/서북)\n",
        "SD_CODE   = \"44\"                       # 충청남도\n",
        "CITY_CODES = [\"44131\", \"44133\"]        # 천안 동남구, 서북구\n",
        "\n",
        "# (선택) OD 기간 설정 — 필요에 맞게 바꾸세요 (YYYYMMDD 또는 문서 형식)\n",
        "OD_START = \"20240701\"\n",
        "OD_END   = \"20240731\""
      ]
    },
    {
      "cell_type": "code",
      "execution_count": null,
      "metadata": {
        "id": "LYN_wxLOj_HZ"
      },
      "outputs": [],
      "source": [
        "# ===== 공통 유틸 =====\n",
        "def call_api(base_url: str, params: dict, timeout=30, retry=3, sleep=0.4):\n",
        "    # API 호출 공통 래퍼 (JSON 응답 가정, 실패 시 재시도)\n",
        "    p = dict(params)\n",
        "    p[\"apikey\"] = APIKEY\n",
        "    last = None\n",
        "    for i in range(retry):\n",
        "        try:\n",
        "            r = requests.get(base_url, params=p, timeout=timeout)\n",
        "            r.raise_for_status()\n",
        "            return r.json()\n",
        "        except Exception as e:\n",
        "            last = e\n",
        "            time.sleep(sleep * (i+1))\n",
        "    raise last\n",
        "\n",
        "def parse_items(js):\n",
        "    # 응답 JSON에서 리스트 꺼내기 — 흔한 키들을 자동 탐색\n",
        "    if js is None:\n",
        "        return []\n",
        "    if isinstance(js, list):\n",
        "        return js\n",
        "    if isinstance(js, dict):\n",
        "        for k in [\"list\", \"items\", \"data\", \"result\", \"body\", \"rows\"]:\n",
        "            if k in js:\n",
        "                v = js[k]\n",
        "                if isinstance(v, dict) and \"item\" in v:\n",
        "                    v = v[\"item\"]\n",
        "                if isinstance(v, list):\n",
        "                    return v\n",
        "                if isinstance(v, dict):\n",
        "                    return [v]\n",
        "        return [js]\n",
        "    return []\n",
        "\n",
        "def std_numeric(s):\n",
        "    return (s.astype(str)\n",
        "             .str.replace(\",\", \"\", regex=False)\n",
        "             .str.extract(r\"([-+]?\\d*\\.?\\d+)\", expand=False)\n",
        "             .astype(float))\n",
        "\n",
        "def soft_rename(df, mapping):\n",
        "    # mapping에 존재하는 컬럼만 rename\n",
        "    cols = {k:v for k,v in mapping.items() if k in df.columns}\n",
        "    return df.rename(columns=cols)"
      ]
    },
    {
      "cell_type": "code",
      "execution_count": null,
      "metadata": {
        "id": "WcoqG97ikHyX"
      },
      "outputs": [],
      "source": [
        "# ===== 수집 함수 =====\n",
        "def fetch_stops(sdCd, sggCd):\n",
        "    # 문서 기준: sdCd(시도), sggCd(시군구). 읍면동/ARS는 전체 수집이면 생략.\n",
        "    js = call_api(BASE_STOP, {\"sdCd\": sdCd, \"sggCd\": sggCd})\n",
        "    items = parse_items(js)\n",
        "    df = pd.json_normalize(items)\n",
        "    # 표준화 (응답 키 다양성 대비 후보를 넓게 잡음)\n",
        "    df = soft_rename(df, {\n",
        "        \"sttnId\":\"stop_id\", \"sttnid\":\"stop_id\", \"정류장ID\":\"stop_id\", \"stopId\":\"stop_id\",\n",
        "        \"sttnNm\":\"stop_name\",\"정류장명\":\"stop_name\",\"stopName\":\"stop_name\",\"stationNm\":\"stop_name\",\n",
        "        \"sttnArsno\":\"ars_id\",\"arsId\":\"ars_id\",\"ARS-ID\":\"ars_id\",\n",
        "        \"lat\":\"lat\",\"latitude\":\"lat\",\"gpsLati\":\"lat\",\"위도\":\"lat\",\"y\":\"lat\",\n",
        "        \"lon\":\"lon\",\"longitude\":\"lon\",\"gpsLong\":\"lon\",\"경도\":\"lon\",\"x\":\"lon\",\n",
        "        \"sdCd\":\"sdCd\",\"sggCd\":\"sggCd\",\"emdCd\":\"emdCd\"\n",
        "    })\n",
        "    # 숫자화(좌표가 온다면)\n",
        "    for c in [\"lat\",\"lon\"]:\n",
        "        if c in df.columns:\n",
        "            df[c] = pd.to_numeric(df[c], errors=\"coerce\")\n",
        "    # 소속 구 코드 보강\n",
        "    if \"sggCd\" not in df.columns:\n",
        "        df[\"sggCd\"] = sggCd\n",
        "    return df\n",
        "\n",
        "def fetch_routes(sdCd, sggCd):\n",
        "    js = call_api(BASE_ROUTE, {\"sdCd\": sdCd, \"sggCd\": sggCd})\n",
        "    items = parse_items(js)\n",
        "    df = pd.json_normalize(items)\n",
        "    df = soft_rename(df, {\n",
        "        \"routeId\":\"route_id\",\"노선ID\":\"route_id\",\"routeid\":\"route_id\",\"ROUTE_ID\":\"route_id\",\n",
        "        \"routeNo\":\"route_no\",\"노선번호\":\"route_no\",\"노선명\":\"route_no\",\"ROUTE_NO\":\"route_no\",\n",
        "        \"sdCd\":\"sdCd\",\"sggCd\":\"sggCd\"\n",
        "    })\n",
        "    if \"sggCd\" not in df.columns:\n",
        "        df[\"sggCd\"] = sggCd\n",
        "    return df"
      ]
    },
    {
      "cell_type": "code",
      "execution_count": null,
      "metadata": {
        "id": "kXIW34hxpTBb"
      },
      "outputs": [],
      "source": [
        "# ===== 실행: 수집 & 저장 =====\n",
        "# 정류장\n",
        "stops_list = []\n",
        "for g in CITY_CODES:\n",
        "    df = fetch_stops(SD_CODE, g)\n",
        "    stops_list.append(df)\n",
        "    time.sleep(0.2)\n",
        "\n",
        "stops = pd.concat(stops_list, ignore_index=True).drop_duplicates()\n",
        "# stop_id/ars_id 기준 중복제거 우선\n",
        "key_cols = [c for c in [\"stop_id\",\"ars_id\"] if c in stops.columns]\n",
        "if key_cols:\n",
        "    stops = stops.drop_duplicates(subset=key_cols)\n",
        "\n",
        "# 노선\n",
        "routes_list = []\n",
        "for g in CITY_CODES:\n",
        "    df = fetch_routes(SD_CODE, g)\n",
        "    routes_list.append(df)\n",
        "    time.sleep(0.2)\n",
        "routes = pd.concat(routes_list, ignore_index=True).drop_duplicates()\n",
        "if \"route_id\" in routes.columns:\n",
        "    routes = routes.drop_duplicates(subset=[\"route_id\"])"
      ]
    },
    {
      "cell_type": "code",
      "execution_count": null,
      "metadata": {
        "id": "iII9jhhfp2Po"
      },
      "outputs": [],
      "source": [
        "# 간단 점검\n",
        "print(\"▶ 정류장 정보\")\n",
        "print(\"shape:\", stops.shape)\n",
        "print(\"columns:\", list(stops.columns))\n",
        "print(stops.head(10))"
      ]
    },
    {
      "cell_type": "markdown",
      "metadata": {
        "id": "gOdpkUYjyqyZ"
      },
      "source": [
        "## 편의/문화시설"
      ]
    },
    {
      "cell_type": "code",
      "execution_count": null,
      "metadata": {
        "id": "dNAwZ9lvytNB"
      },
      "outputs": [],
      "source": [
        "path_admin = \"/content/drive/MyDrive/데이터/충청남도 천안시_행정기관정보_20230818.csv\"\n",
        "path_shelter = \"/content/drive/MyDrive/데이터/충청남도 천안시_야외 휴게쉼터(정자 등)_20240710.csv\"\n",
        "path_outdoor = \"/content/drive/MyDrive/데이터/충청남도 천안시_실외운동기구 현황_20240516.csv\"\n",
        "path_facility = \"/content/drive/MyDrive/데이터/천안도시공사_시설현황_20250701.csv\""
      ]
    },
    {
      "cell_type": "code",
      "execution_count": null,
      "metadata": {
        "id": "F0Eb1cebzfQK"
      },
      "outputs": [],
      "source": [
        "admin = pd.read_csv(path_admin, encoding=\"cp949\")\n",
        "shelter = pd.read_csv(path_shelter, encoding=\"cp949\")\n",
        "outdoor = pd.read_csv(path_outdoor, encoding=\"cp949\")\n",
        "facility = pd.read_csv(path_facility, encoding=\"utf-8\")"
      ]
    },
    {
      "cell_type": "code",
      "execution_count": null,
      "metadata": {
        "id": "eEY_-Nom1oM0"
      },
      "outputs": [],
      "source": [
        "print(admin.shape)\n",
        "print(admin.columns)\n",
        "print(admin.head())"
      ]
    },
    {
      "cell_type": "code",
      "execution_count": null,
      "metadata": {
        "id": "zQKHJnJ51t-t"
      },
      "outputs": [],
      "source": [
        "print(shelter.shape)\n",
        "print(shelter.columns)\n",
        "print(shelter.head())"
      ]
    },
    {
      "cell_type": "code",
      "execution_count": null,
      "metadata": {
        "id": "d_QWwac01zik"
      },
      "outputs": [],
      "source": [
        "print(outdoor.shape)\n",
        "print(outdoor.columns)\n",
        "print(outdoor.head())"
      ]
    },
    {
      "cell_type": "code",
      "execution_count": null,
      "metadata": {
        "id": "-eaBKXlB2LWn"
      },
      "outputs": [],
      "source": [
        "print(facility.shape)\n",
        "print(facility.columns)\n",
        "print(facility.head())"
      ]
    },
    {
      "cell_type": "markdown",
      "metadata": {
        "id": "HTWF5EtbNMOM"
      },
      "source": [
        "## 입주기업"
      ]
    },
    {
      "cell_type": "code",
      "execution_count": null,
      "metadata": {
        "id": "dbAeVcgPNNBN"
      },
      "outputs": [],
      "source": [
        "path_company = \"/content/drive/MyDrive/데이터/충청남도 천안시_산업단지 입주기업 현황_20250211.CSV\""
      ]
    },
    {
      "cell_type": "code",
      "execution_count": null,
      "metadata": {
        "id": "dlpdrutfNXbH"
      },
      "outputs": [],
      "source": [
        "company = pd.read_csv(path_company, encoding=\"cp949\")"
      ]
    },
    {
      "cell_type": "code",
      "execution_count": null,
      "metadata": {
        "id": "op9u3k2TNdWV"
      },
      "outputs": [],
      "source": [
        "print(company.shape)\n",
        "print(company.columns)\n",
        "print(company.head())"
      ]
    },
    {
      "cell_type": "code",
      "source": [
        "# 지오코딩\n",
        "print(\"입주기업 주소 -> 좌표 변환을 시작합니다. (약 2~3분 소요)\")\n",
        "from tqdm.auto import tqdm\n",
        "tqdm.pandas()\n",
        "\n",
        "# geocode_kakao 함수가 이전에 정의되었다고 가정합니다.\n",
        "company[['lon', 'lat']] = company['공장대표주소(도로명)'].progress_apply(\n",
        "    lambda x: pd.Series(geocode_kakao(x))\n",
        ")\n",
        "company_geocoded = company.dropna(subset=['lat', 'lon']).copy()\n",
        "\n",
        "print(f\"✅ 좌표 변환 완료! (총 {len(company)}개 중 {len(company_geocoded)}개 성공)\")"
      ],
      "metadata": {
        "id": "jCWXk7YjB6X3"
      },
      "execution_count": null,
      "outputs": []
    },
    {
      "cell_type": "markdown",
      "metadata": {
        "id": "6eWaDJyMS-9Z"
      },
      "source": [
        "# 변수 설계"
      ]
    },
    {
      "cell_type": "markdown",
      "metadata": {
        "id": "OX8tlkLJq1Af"
      },
      "source": [
        "## 인구 데이터 전처리 및 변수 생성"
      ]
    },
    {
      "cell_type": "code",
      "source": [
        "# ==============================================================================\n",
        "# 1. 인구 데이터 로드 및 클리닝\n",
        "# ==============================================================================\n",
        "# 천안시 청년 인구 데이터 로드\n",
        "# 첫 번째 데이터 행이 헤더이므로 skiprows=1을 사용합니다.\n",
        "path_pop_cheonan = \"/content/drive/MyDrive/데이터/연령_및_성별_인구_–_읍면동_20250830034743.csv\"\n",
        "pop_cheonan = pd.read_csv(path_pop_cheonan, encoding='cp949', skiprows=1)\n",
        "pop_cheonan = pop_cheonan.iloc[1:] # 불필요한 행 제거\n",
        "new_cols_cheonan = ['행정구역', '연령별'] + [str(y) for y in range(2015, 2025)]\n",
        "pop_cheonan.columns = new_cols_cheonan\n",
        "for col in new_cols_cheonan[2:]:\n",
        "    pop_cheonan[col] = pd.to_numeric(pop_cheonan[col], errors='coerce')\n",
        "\n",
        "\n",
        "# 전국 청년 인구 데이터 로드\n",
        "# 데이터가 3번째 행부터 시작하므로 skiprows=2를 사용합니다.\n",
        "path_pop_nationwide = \"/content/drive/MyDrive/데이터/연령_및_성별_인구_–_읍면동_20250828212700_전국.csv\"\n",
        "pop_nationwide = pd.read_csv(path_pop_nationwide, encoding='cp949', skiprows=2)\n",
        "new_cols_nationwide = ['행정구역', '연령별'] + [str(y) for y in range(2015, 2025)]\n",
        "pop_nationwide.columns = new_cols_nationwide\n",
        "for col in new_cols_nationwide[2:]:\n",
        "    pop_nationwide[col] = pd.to_numeric(pop_nationwide[col], errors='coerce')"
      ],
      "metadata": {
        "id": "A0qS_MyiC6x9"
      },
      "execution_count": null,
      "outputs": []
    },
    {
      "cell_type": "code",
      "source": [
        "# ==============================================================================\n",
        "# 2. 청년 인구 변수 생성\n",
        "# ==============================================================================\n",
        "# '동남구'와 '서북구'의 청년 인구(20-29세) 합산\n",
        "df_youth_gu = pop_cheonan[\n",
        "    pop_cheonan['행정구역'].isin(['동남구', '서북구']) & pop_cheonan['연령별'].isin(['20~24세', '25~29세'])\n",
        "].copy()\n",
        "df_youth_gu = df_youth_gu.groupby('행정구역').sum(numeric_only=True).T.rename_axis('연도')\n",
        "df_youth_gu.columns = [f'{col}_청년인구' for col in df_youth_gu.columns]\n",
        "df_youth_gu.reset_index(inplace=True)\n",
        "df_youth_gu['연도'] = df_youth_gu['연도'].astype(int)\n",
        "\n",
        "# '천안시' 청년 인구 계산 (동남구 + 서북구)\n",
        "df_youth_gu['천안시_청년인구'] = df_youth_gu['동남구_청년인구'] + df_youth_gu['서북구_청년인구']\n",
        "\n",
        "\n",
        "# 전국 청년 인구 합산\n",
        "df_youth_nationwide = pop_nationwide[\n",
        "    pop_nationwide['연령별'].isin(['20~24세', '25~29세'])\n",
        "].copy()\n",
        "df_youth_nationwide = df_youth_nationwide.sum(numeric_only=True).to_frame(name='전국_청년인구')\n",
        "df_youth_nationwide.reset_index(inplace=True)\n",
        "df_youth_nationwide.columns = ['연도', '전국_청년인구']\n",
        "df_youth_nationwide['연도'] = df_youth_nationwide['연도'].astype(int)"
      ],
      "metadata": {
        "id": "NWHCcPIcC5AF"
      },
      "execution_count": null,
      "outputs": []
    },
    {
      "cell_type": "code",
      "source": [
        "# ==============================================================================\n",
        "# 3. 전체 인구 변수 생성 및 비율 계산\n",
        "# ==============================================================================\n",
        "# 천안시 전체 인구 추출: 모든 연령대 데이터를 합산\n",
        "df_total_gu = pop_cheonan[\n",
        "    pop_cheonan['행정구역'].isin(['동남구', '서북구'])\n",
        "].copy()\n",
        "df_total_gu = df_total_gu.groupby('행정구역').sum(numeric_only=True).T.rename_axis('연도')\n",
        "df_total_gu.columns = [f'{col}_전체인구' for col in df_total_gu.columns]\n",
        "df_total_gu.reset_index(inplace=True)\n",
        "df_total_gu['연도'] = df_total_gu['연도'].astype(int)\n",
        "\n",
        "# '천안시' 전체 인구 계산 (동남구 + 서북구)\n",
        "df_total_gu['천안시_전체인구'] = df_total_gu['동남구_전체인구'] + df_total_gu['서북구_전체인구']\n",
        "\n",
        "# 전국 전체 인구 추출: 모든 연령대 데이터를 합산\n",
        "df_total_nationwide = pop_nationwide.sum(numeric_only=True).to_frame(name='전국_전체인구')\n",
        "df_total_nationwide.reset_index(inplace=True)\n",
        "df_total_nationwide.columns = ['연도', '전국_전체인구']\n",
        "df_total_nationwide['연도'] = df_total_nationwide['연도'].astype(int)"
      ],
      "metadata": {
        "id": "ngPYFzJ5DIeA"
      },
      "execution_count": null,
      "outputs": []
    },
    {
      "cell_type": "code",
      "source": [
        "# ==============================================================================\n",
        "# 4. 최종 데이터프레임 병합 및 청년 인구 비율 계산\n",
        "# ==============================================================================\n",
        "# 청년 인구 데이터와 전체 인구 데이터를 병합\n",
        "df_final = pd.merge(df_youth_gu, df_total_gu, on='연도')\n",
        "\n",
        "# 전국 청년 인구 데이터 병합\n",
        "df_final = pd.merge(df_final, df_youth_nationwide, on='연도')\n",
        "\n",
        "# 전국 전체 인구 데이터 병합\n",
        "df_final = pd.merge(df_final, df_total_nationwide, on='연도')\n",
        "\n",
        "# 인구 비율 계산\n",
        "df_final['천안시_청년비율'] = df_final['천안시_청년인구'] / df_final['전국_전체인구']\n",
        "df_final['동남구_청년비율'] = df_final['동남구_청년인구'] / df_final['전국_전체인구']\n",
        "df_final['서북구_청년비율'] = df_final['서북구_청년인구'] / df_final['전국_전체인구']\n",
        "\n",
        "# 칼럼 순서 재정의\n",
        "df_final = df_final[[\n",
        "    '연도', '천안시_청년인구', '천안시_청년비율',\n",
        "    '동남구_청년인구', '동남구_청년비율',\n",
        "    '서북구_청년인구', '서북구_청년비율',\n",
        "    '전국_청년인구', '전국_전체인구'\n",
        "]]\n",
        "\n",
        "print(\"--- 천안시 및 전국 청년 인구 지표 ---\")\n",
        "print(df_final.head())"
      ],
      "metadata": {
        "id": "DUtJwh8sDMM1"
      },
      "execution_count": null,
      "outputs": []
    },
    {
      "cell_type": "markdown",
      "metadata": {
        "id": "mx7Ly85nrLge"
      },
      "source": [
        "## 상권 데이터 전처리 및 변수 생성"
      ]
    },
    {
      "cell_type": "code",
      "execution_count": null,
      "metadata": {
        "id": "aZ5NIemwrM3u"
      },
      "outputs": [],
      "source": [
        "# 1. 천안시 동남구/서북구만 필터링\n",
        "consume_cheonan = consume[consume['시군구코드'].isin([44131, 44133])].copy()\n",
        "# 시군구코드 -> 행정동명 매핑\n",
        "code_to_dong = {44131: '동남구', 44133: '서북구'}\n",
        "consume_cheonan['행정구명'] = consume_cheonan['시군구코드'].map(code_to_dong)"
      ]
    },
    {
      "cell_type": "code",
      "execution_count": null,
      "metadata": {
        "id": "15DVptqerWDx"
      },
      "outputs": [],
      "source": [
        "# 2. 업종 다양성 지수 (HHI 역수) 함수\n",
        "def calculate_hhi_inverse(df, col):\n",
        "    if df.empty:\n",
        "        return 0\n",
        "    counts = df[col].value_counts(normalize=True)\n",
        "    hhi = (counts ** 2).sum()\n",
        "    return 1 / hhi if hhi > 0 else 0"
      ]
    },
    {
      "cell_type": "code",
      "execution_count": null,
      "metadata": {
        "id": "prMG98LnrX0P"
      },
      "outputs": [],
      "source": [
        "# 3. 행정구별 업종 다양성 지수 계산\n",
        "diversity_gu = consume_cheonan.groupby('행정구명').apply(\n",
        "    calculate_hhi_inverse, '상권업종중분류명'\n",
        ").reset_index(name='업종다양성지수')\n",
        "\n",
        "youth_density_gu = consume_cheonan[consume_cheonan['상권업종대분류명'].isin(['음식', '숙박', '음료'])]\n",
        "youth_density_gu = youth_density_gu.groupby('행정구명').size().reset_index(name='청년친화업종수')\n",
        "\n",
        "biz_df_gu = pd.merge(diversity_gu, youth_density_gu, on='행정구명', how='left')\n",
        "biz_df_gu.fillna(0, inplace=True) # 결측값 0으로 채우기"
      ]
    },
    {
      "cell_type": "code",
      "execution_count": null,
      "metadata": {
        "id": "bEQtmt2srZnV"
      },
      "outputs": [],
      "source": [
        "# 4. 읍면동별 업종 지표 계산\n",
        "# 원본 데이터에 '행정동명' 칼럼이 있다고 가정합니다. 없다면 다른 칼럼명을 사용해야 합니다.\n",
        "consume_cheonan.rename(columns={'읍면동명': '행정동명'}, inplace=True)\n",
        "\n",
        "diversity_dong = consume_cheonan.groupby('행정동명').apply(\n",
        "    calculate_hhi_inverse, '상권업종중분류명'\n",
        ").reset_index(name='업종다양성지수')\n",
        "\n",
        "youth_density_dong = consume_cheonan[consume_cheonan['상권업종대분류명'].isin(['음식', '숙박', '음료'])]\n",
        "youth_density_dong = youth_density_dong.groupby('행정동명').size().reset_index(name='청년친화업종수')\n",
        "\n",
        "biz_df_dong = pd.merge(diversity_dong, youth_density_dong, on='행정동명', how='left')\n",
        "biz_df_dong.fillna(0, inplace=True)"
      ]
    },
    {
      "cell_type": "markdown",
      "metadata": {
        "id": "tP2yi0rIrdRX"
      },
      "source": [
        "## 교통/시설 데이터 전처리 및 변수 생성"
      ]
    },
    {
      "cell_type": "code",
      "execution_count": null,
      "metadata": {
        "id": "_LvFTRkQrfhW"
      },
      "outputs": [],
      "source": [
        "# 카카오 API(개인 API 발급 후 넣어야 됨.)\n",
        "API_KEY = \"372f670d9a0080e1106d8ac37afde6dc\"\n",
        "def geocode_kakao(address):\n",
        "    url = \"https://dapi.kakao.com/v2/local/search/address.json\"\n",
        "    headers = {\"Authorization\": f\"KakaoAK {API_KEY}\"}\n",
        "    try:\n",
        "        response = requests.get(url, headers=headers, params={\"query\": address})\n",
        "        response.raise_for_status()\n",
        "        doc = response.json().get('documents')\n",
        "        if doc and len(doc) > 0:\n",
        "            return float(doc[0].get('x')), float(doc[0].get('y'))\n",
        "    except Exception as e:\n",
        "        print(f\"Error geocoding '{address}': {e}\")\n",
        "    return None, None"
      ]
    },
    {
      "cell_type": "code",
      "source": [
        "# 1. 주소 칼럼을 '주소'로 통일\n",
        "if '소재지도로명주소' in admin.columns:\n",
        "    admin = admin.rename(columns={'소재지도로명주소': '주소'})\n",
        "else:\n",
        "    admin = pd.DataFrame(columns=['주소'])\n",
        "\n",
        "if '설치주소' in outdoor.columns:\n",
        "    outdoor = outdoor.rename(columns={'설치주소': '주소'})\n",
        "else:\n",
        "    outdoor = pd.DataFrame(columns=['주소'])\n",
        "\n",
        "if '소재지' in shelter.columns:\n",
        "    shelter = shelter.rename(columns={'소재지': '주소'})\n",
        "else:\n",
        "    shelter = pd.DataFrame(columns=['주소'])\n",
        "\n",
        "if '주소' not in facility.columns:\n",
        "    facility = pd.DataFrame(columns=['주소'])"
      ],
      "metadata": {
        "id": "HjlZwQ3ro3Ry"
      },
      "execution_count": null,
      "outputs": []
    },
    {
      "cell_type": "code",
      "source": [
        "# 2. 모든 시설물 데이터를 하나의 데이터프레임으로 결합\n",
        "all_facilities = pd.concat([admin[['주소']], outdoor[['주소']], shelter[['주소']], facility[['주소']]])\n",
        "all_facilities.dropna(subset=['주소'], inplace=True)\n",
        "all_facilities.drop_duplicates(inplace=True)"
      ],
      "metadata": {
        "id": "y9VjN0S5o5gj"
      },
      "execution_count": null,
      "outputs": []
    },
    {
      "cell_type": "code",
      "source": [
        "# 3. 주소에서 행정구역 및 읍면동명 추출\n",
        "all_facilities['행정구명'] = all_facilities['주소'].str.extract(r'(동남구|서북구)')\n",
        "# 수정: '숫자'와 '괄호'를 제외하고 '읍', '면', '동'으로 끝나는 단어만 추출\n",
        "all_facilities['행정동명'] = all_facilities['주소'].str.extract(r'([가-힣]+읍|[가-힣]+면|[가-힣]+동)')\n",
        "\n",
        "# 추출된 값이 없는 경우 제거\n",
        "facilities_with_district = all_facilities.dropna(subset=['행정구명']).copy()\n",
        "facilities_with_dong = all_facilities.dropna(subset=['행정동명']).copy()"
      ],
      "metadata": {
        "id": "9-hNBqd2o7aK"
      },
      "execution_count": null,
      "outputs": []
    },
    {
      "cell_type": "code",
      "source": [
        "# 4. 시설물 수 집계\n",
        "facilities_by_gu = facilities_with_district.groupby('행정구명').size().reset_index(name='여가 혹은 행정시설물수')\n",
        "facilities_by_dong = facilities_with_dong.groupby('행정동명').size().reset_index(name='여가 혹은 행정시설물수')\n",
        "\n",
        "print(\"--- 주소 기반 구별 시설물 집계 ---\")\n",
        "print(facilities_by_gu)\n",
        "print(\"\\n--- 주소 기반 읍면동별 시설물 집계 ---\")\n",
        "print(facilities_by_dong.head())"
      ],
      "metadata": {
        "id": "PDQwDAuqo92f"
      },
      "execution_count": null,
      "outputs": []
    },
    {
      "cell_type": "markdown",
      "source": [
        "## 캠퍼스/기숙사와 교통 강화 파생변수"
      ],
      "metadata": {
        "id": "wyS5LchS2kqf"
      }
    },
    {
      "cell_type": "code",
      "source": [
        "# 경계 파일\n",
        "path_dong = \"/content/drive/MyDrive/데이터/LSMD_ADM_SECT_UMD_충남/LSMD_ADM_SECT_UMD_44_202506.shp\"\n",
        "\n",
        "# 1) 읽기 + 좌표계\n",
        "dong_map = gpd.read_file(path_dong, encoding=\"cp949\").to_crs(4326)"
      ],
      "metadata": {
        "id": "NFO6VTmTXDTO"
      },
      "execution_count": null,
      "outputs": []
    },
    {
      "cell_type": "code",
      "source": [
        "# 2) 표준 컬럼 설정\n",
        "EMD_NAME_COL = \"EMD_NM\"   # 읍면동 이름\n",
        "# 핵심: 구 코드(동남/서북)는 EMD_CD 앞 5자리에서 만든다\n",
        "dong_map[\"SIG_FROM_EMD\"] = dong_map[\"EMD_CD\"].astype(str).str.slice(0, 5)\n",
        "SIG_CD_COL = \"SIG_FROM_EMD\"\n",
        "\n",
        "# 확인(참고)\n",
        "print(dong_map[[EMD_NAME_COL, \"EMD_CD\", \"COL_ADM_SE\", SIG_CD_COL]].head())\n",
        "print(\"COL_ADM_SE 분포:\", dong_map[\"COL_ADM_SE\"].astype(str).value_counts().head())\n",
        "print(\"SIG_FROM_EMD 분포:\", dong_map[SIG_CD_COL].value_counts().head())"
      ],
      "metadata": {
        "id": "5QPY-agE2kM-"
      },
      "execution_count": null,
      "outputs": []
    },
    {
      "cell_type": "code",
      "source": [
        "# 3) 천안(동남/서북)만 필터\n",
        "dong_map_cheon = dong_map[dong_map[SIG_CD_COL].isin([\"44131\",\"44133\"])].copy()\n",
        "print(\"[INFO] 천안 읍면동 수:\", len(dong_map_cheon))\n",
        "print(dong_map_cheon[[EMD_NAME_COL, SIG_CD_COL]].head())"
      ],
      "metadata": {
        "id": "af7PsbRD3Vlo"
      },
      "execution_count": null,
      "outputs": []
    },
    {
      "cell_type": "code",
      "source": [
        "# -----------------------------\n",
        "# 0) 캠퍼스 좌표 생성 (geocode_kakao가 (x, y) = (경도, 위도) 튜플 반환한다고 가정)\n",
        "# -----------------------------\n",
        "univ_addresses = [\n",
        "    (\"단국대학교\", \"충남 천안시 동남구 단대로 119\"),\n",
        "    (\"상명대학교\", \"충남 천안시 동남구 상명대길 31\"),\n",
        "    (\"백석대학교\", \"충남 천안시 동남구 백석대학로 1-1\"),\n",
        "    (\"나사렛대학교\", \"충남 천안시 서북구 월봉로 48\"),\n",
        "    (\"남서울대학교\", \"충남 천안시 서북구 성환읍 대학로 91\"),\n",
        "    (\"호서대학교\", \"충남 천안시 동남구 호서대길 12\"),\n",
        "    (\"한국기술교육대학교\", \"충남 천안시 동남구 병천면 충절로 1600\"),\n",
        "    (\"한국기술교육대학교\", \"충남 천안시 서북구 과수원길 18\"),\n",
        "]\n",
        "\n",
        "rows = []\n",
        "for std_name, addr in univ_addresses:\n",
        "    x, y = geocode_kakao(addr)        # (lon, lat)\n",
        "    rows.append({\"학교_std\": std_name, \"addr\": addr, \"lat\": y, \"lon\": x})\n",
        "\n",
        "df_geo_ok = pd.DataFrame(rows).dropna(subset=[\"lat\",\"lon\"]).copy()\n",
        "df_geo_ok[\"lat\"] = pd.to_numeric(df_geo_ok[\"lat\"], errors=\"coerce\")\n",
        "df_geo_ok[\"lon\"] = pd.to_numeric(df_geo_ok[\"lon\"], errors=\"coerce\")\n",
        "df_geo_ok = df_geo_ok.dropna(subset=[\"lat\",\"lon\"]).copy()"
      ],
      "metadata": {
        "id": "Da2T1Elsa1qH"
      },
      "execution_count": null,
      "outputs": []
    },
    {
      "cell_type": "code",
      "source": [
        "# -----------------------------\n",
        "# 1) 캠퍼스 → 행정동 매핑 (학교_std로 유지)\n",
        "# -----------------------------\n",
        "campus_gdf = gpd.GeoDataFrame(\n",
        "    df_geo_ok,\n",
        "    geometry=gpd.points_from_xy(df_geo_ok[\"lon\"], df_geo_ok[\"lat\"]),\n",
        "    crs=\"EPSG:4326\"\n",
        ")\n",
        "\n",
        "campus_join = gpd.sjoin(\n",
        "    campus_gdf[[\"학교_std\",\"addr\",\"geometry\"]],\n",
        "    dong_map_cheon[[EMD_NAME_COL,\"geometry\"]].rename(columns={EMD_NAME_COL:\"행정동명\"}),\n",
        "    how=\"left\", predicate=\"within\"\n",
        ")[[\"학교_std\",\"addr\",\"행정동명\"]]\n",
        "\n",
        "print(\"[캠퍼스-동 매핑]\"); print(campus_join)"
      ],
      "metadata": {
        "id": "8Ba6lu-UYav8"
      },
      "execution_count": null,
      "outputs": []
    },
    {
      "cell_type": "code",
      "source": [
        "# -----------------------------\n",
        "# 2) 기숙사: 학교명 표준화 후 동으로 집계\n",
        "# -----------------------------\n",
        "# (1) 학교명 정규화(공백/캠퍼스 꼬리표 제거 → 학교_std)\n",
        "import re\n",
        "\n",
        "dorm_x = dorm_clean.copy()\n",
        "dorm_x[\"학교_raw\"]  = dorm_x[\"학교\"].astype(str)\n",
        "dorm_x[\"학교_norm\"] = dorm_x[\"학교_raw\"].str.strip().str.replace(r\"\\s+\", \"\", regex=True)\n",
        "\n",
        "def to_std(s):\n",
        "    if s is None: return None\n",
        "    # 캠퍼스 꼬리표가 있어도 표준 대학명으로 매핑\n",
        "    patterns = [\n",
        "        (r'단국대학교.*', '단국대학교'),\n",
        "        (r'상명대학교.*', '상명대학교'),\n",
        "        (r'남서울대학교.*', '남서울대학교'),\n",
        "        (r'백석대학교.*', '백석대학교'),\n",
        "        (r'호서대학교.*', '호서대학교'),\n",
        "        (r'한국기술교육대학교.*', '한국기술교육대학교'),\n",
        "        (r'나사렛대학교.*', '나사렛대학교'),\n",
        "    ]\n",
        "    for pat, std in patterns:\n",
        "        if re.fullmatch(pat, s):\n",
        "            return std\n",
        "    return s\n",
        "\n",
        "dorm_x[\"학교_std\"] = dorm_x[\"학교_norm\"].apply(to_std)\n",
        "\n",
        "# (2) 천안 대상만 필터\n",
        "cheonan_std = {'단국대학교','상명대학교','남서울대학교','백석대학교','호서대학교','한국기술교육대학교','나사렛대학교'}\n",
        "dorm_cheonan_std = dorm_x[dorm_x[\"학교_std\"].isin(cheonan_std)].copy()\n",
        "\n",
        "# (3) 학교×연도 수용인원 합\n",
        "dorm_by_school = dorm_cheonan_std.groupby([\"기준연도\",\"학교_std\"], as_index=False)[\"실제 수용 인원\"].sum()\n",
        "\n",
        "# (4) 캠퍼스-동 매핑 붙이기(학교_std 기준!)\n",
        "dorm_with_dong = pd.merge(dorm_by_school, campus_join[[\"학교_std\",\"행정동명\"]], on=\"학교_std\", how=\"left\")\n",
        "\n",
        "# (5) 최신연도 대표값 → 동별 합\n",
        "if dorm_with_dong[\"기준연도\"].notna().any():\n",
        "    latest_year = dorm_with_dong[\"기준연도\"].max()\n",
        "    dorm_latest = (dorm_with_dong[dorm_with_dong[\"기준연도\"]==latest_year]\n",
        "                   .groupby(\"행정동명\", as_index=False)[\"실제 수용 인원\"].sum()\n",
        "                   .rename(columns={\"실제 수용 인원\":\"기숙사수용인원\"}))\n",
        "else:\n",
        "    dorm_latest = dorm_with_dong.groupby(\"행정동명\", as_index=False)[\"실제 수용 인원\"].sum() \\\n",
        "                                 .rename(columns={\"실제 수용 인원\":\"기숙사수용인원\"})\n",
        "\n",
        "dorm_latest[\"기숙사수용인원\"] = dorm_latest[\"기숙사수용인원\"].fillna(0)\n",
        "\n",
        "print(\"[기숙사-동 최신]\"); print(dorm_latest.head())"
      ],
      "metadata": {
        "id": "bUZZZtDBYeYu"
      },
      "execution_count": null,
      "outputs": []
    },
    {
      "cell_type": "code",
      "source": [
        "# -----------------------------\n",
        "# 3) 상권: 동으로 점포수/다양성 집계\n",
        "# -----------------------------\n",
        "shops = consume_cheonan.copy()\n",
        "for c in [\"위도\",\"경도\"]:\n",
        "    shops[c] = pd.to_numeric(shops[c], errors=\"coerce\")\n",
        "shops = shops.dropna(subset=[\"위도\",\"경도\"]).copy()\n",
        "\n",
        "shops_gdf = gpd.GeoDataFrame(\n",
        "    shops,\n",
        "    geometry=gpd.points_from_xy(shops[\"경도\"], shops[\"위도\"]),\n",
        "    crs=\"EPSG:4326\"\n",
        ")\n",
        "\n",
        "shops_in_dong = gpd.sjoin(\n",
        "    shops_gdf[[\"상호명\",\"상권업종대분류명\",\"상권업종중분류명\",\"상권업종소분류명\",\"geometry\"]],\n",
        "    dong_map_cheon[[EMD_NAME_COL,\"geometry\"]].rename(columns={EMD_NAME_COL:\"행정동명\"}),\n",
        "    how=\"left\", predicate=\"within\"\n",
        ")\n",
        "\n",
        "shop_cnt = shops_in_dong.groupby(\"행정동명\").size().reset_index(name=\"점포수\")\n",
        "div_col = \"상권업종소분류명\" if \"상권업종소분류명\" in shops_in_dong.columns else (\n",
        "          \"상권업종중분류명\" if \"상권업종중분류명\" in shops_in_dong.columns else \"상권업종대분류명\")\n",
        "shop_div = shops_in_dong.groupby(\"행정동명\")[div_col].nunique().reset_index(name=\"업종다양성\")"
      ],
      "metadata": {
        "id": "myfuJ7_mibYN"
      },
      "execution_count": null,
      "outputs": []
    },
    {
      "cell_type": "code",
      "source": [
        "# -----------------------------\n",
        "# 4) 교통: 좌표 없으면 자동 생략(=NaN → 0으로 보정)\n",
        "# -----------------------------\n",
        "from sklearn.preprocessing import MinMaxScaler\n",
        "import numpy as np\n",
        "\n",
        "if {\"lat\",\"lon\"}.issubset(stops.columns):\n",
        "    stops2 = stops.dropna(subset=[\"lat\",\"lon\"]).copy()\n",
        "    stops2[\"lat\"] = pd.to_numeric(stops2[\"lat\"], errors=\"coerce\")\n",
        "    stops2[\"lon\"] = pd.to_numeric(stops2[\"lon\"], errors=\"coerce\")\n",
        "    stops2 = stops2.dropna(subset=[\"lat\",\"lon\"])\n",
        "\n",
        "    if not stops2.empty:\n",
        "        stops_gdf = gpd.GeoDataFrame(\n",
        "            stops2, geometry=gpd.points_from_xy(stops2[\"lon\"], stops2[\"lat\"]), crs=\"EPSG:4326\"\n",
        "        )\n",
        "        # 면적(km2)\n",
        "        dong_area = dong_map_cheon[[EMD_NAME_COL,\"geometry\"]].rename(columns={EMD_NAME_COL:\"행정동명\"})\n",
        "        dong_area_m = dong_area.to_crs(5179)\n",
        "        dong_area[\"면적_km2\"] = dong_area_m.area / 1e6\n",
        "\n",
        "        # 정류장 수/밀도\n",
        "        stops_in_dong = gpd.sjoin(\n",
        "            stops_gdf[[\"geometry\"]],\n",
        "            dong_map_cheon[[EMD_NAME_COL,\"geometry\"]].rename(columns={EMD_NAME_COL:\"행정동명\"}),\n",
        "            how=\"left\", predicate=\"within\"\n",
        "        )\n",
        "        stop_cnt = stops_in_dong.groupby(\"행정동명\").size().reset_index(name=\"정류장수\")\n",
        "        stop_density = dong_area.merge(stop_cnt, on=\"행정동명\", how=\"left\")\n",
        "        stop_density[\"정류장수\"] = stop_density[\"정류장수\"].fillna(0)\n",
        "        stop_density[\"정류장밀도\"] = stop_density[\"정류장수\"] / stop_density[\"면적_km2\"].replace(0, np.nan)\n",
        "\n",
        "        # 근접성(동 중심 → 최근접 정류장, 위경도 차 근사)\n",
        "        dong_cent = dong_map_cheon[[EMD_NAME_COL,\"geometry\"]].rename(columns={EMD_NAME_COL:\"행정동명\"}).copy()\n",
        "        dong_cent[\"centroid\"] = dong_cent.to_crs(5179).centroid.to_crs(4326)\n",
        "        stops_xy = stops_gdf[[\"lon\",\"lat\"]].to_numpy()\n",
        "\n",
        "        def _nearest_deg(row):\n",
        "            if len(stops_xy)==0: return np.nan\n",
        "            lon0, lat0 = row[\"centroid\"].x, row[\"centroid\"].y\n",
        "            d = np.sqrt((stops_xy[:,0]-lon0)**2 + (stops_xy[:,1]-lat0)**2)\n",
        "            return d.min()\n",
        "\n",
        "        dong_cent[\"최근접정류장_근사거리\"] = dong_cent.apply(_nearest_deg, axis=1)\n",
        "\n",
        "        # 교통접근성지수\n",
        "        tdf = stop_density.merge(dong_cent[[\"행정동명\",\"최근접정류장_근사거리\"]], on=\"행정동명\", how=\"left\")\n",
        "        sc1, sc2 = MinMaxScaler(), MinMaxScaler()\n",
        "        tdf[\"정류장밀도_norm\"] = sc1.fit_transform(tdf[[\"정류장밀도\"]].fillna(0))\n",
        "        tdf[\"근접성_norm\"]     = 1 - sc2.fit_transform(tdf[[\"최근접정류장_근사거리\"]])\n",
        "        tdf[\"교통접근성지수\"]   = 0.6*tdf[\"정류장밀도_norm\"] + 0.4*tdf[\"근접성_norm\"]\n",
        "        transport_idx = tdf[[\"행정동명\",\"교통접근성지수\"]]\n",
        "    else:\n",
        "        transport_idx = pd.DataFrame({\"행정동명\": dong_map_cheon[EMD_NAME_COL].unique(), \"교통접근성지수\": np.nan})\n",
        "else:\n",
        "    transport_idx = pd.DataFrame({\"행정동명\": dong_map_cheon[EMD_NAME_COL].unique(), \"교통접근성지수\": np.nan})"
      ],
      "metadata": {
        "id": "Rd7TvXjRigZH"
      },
      "execution_count": null,
      "outputs": []
    },
    {
      "cell_type": "markdown",
      "source": [
        "## 최종 데이터프레임"
      ],
      "metadata": {
        "id": "1T8tfmkynzNQ"
      }
    },
    {
      "cell_type": "code",
      "source": [
        "# -----------------------------\n",
        "# 0) 동 → 구 매핑 테이블 만들기\n",
        "# -----------------------------\n",
        "# dong_map_cheon: [EMD_NM(=EMD_NAME_COL), SIG_FROM_EMD] 보유\n",
        "dong_to_gu = dong_map_cheon[[EMD_NAME_COL, SIG_CD_COL]].copy()\n",
        "dong_to_gu[\"행정동명\"] = dong_to_gu[EMD_NAME_COL].astype(str)\n",
        "dong_to_gu[\"구코드\"] = dong_to_gu[SIG_CD_COL].astype(str)\n",
        "code2gu = {\"44131\": \"동남구\", \"44133\": \"서북구\"}\n",
        "dong_to_gu[\"행정구명\"] = dong_to_gu[\"구코드\"].map(code2gu)\n",
        "dong_to_gu = dong_to_gu[[\"행정동명\",\"행정구명\"]].dropna()\n",
        "\n",
        "# -------------------------------------------------\n",
        "# 1) 구(區) 단위 최종 DF: 기존 틀 + (동→구) 교통/기숙사 집계 추가\n",
        "# -------------------------------------------------\n",
        "# (1) 기존 인구 프레임을 long으로 (질문 코드 그대로)\n",
        "df_pop_long_gu = pd.DataFrame()\n",
        "for gu in [\"동남구\",\"서북구\"]:\n",
        "    tmp = df_final[[\"연도\", f\"{gu}_청년인구\", f\"{gu}_청년비율\"]].copy()\n",
        "    tmp = tmp.rename(columns={f\"{gu}_청년인구\":\"청년인구\", f\"{gu}_청년비율\":\"청년비율\"})\n",
        "    tmp[\"행정구명\"] = gu\n",
        "    df_pop_long_gu = pd.concat([df_pop_long_gu, tmp], ignore_index=True)\n",
        "\n",
        "# (2) 상권·시설(구) 붙이기 (질문 코드 그대로)\n",
        "df_final_long_gu = (df_pop_long_gu\n",
        "                    .merge(biz_df_gu,          on=\"행정구명\", how=\"left\")\n",
        "                    .merge(facilities_by_gu,   on=\"행정구명\", how=\"left\"))\n",
        "\n",
        "# (3) 시 단위(천안시)도 함께 붙이기 (질문 코드 그대로)\n",
        "df_final_gu_merged = df_final_long_gu.merge(\n",
        "    df_final[[\"연도\",\"천안시_청년인구\",\"천안시_청년비율\"]],\n",
        "    on=\"연도\", how=\"left\"\n",
        ")\n",
        "\n",
        "# (4) 동별 교통/기숙사 → 구별 집계\n",
        "#     - 교통접근성지수: 동 지수의 \"평균\" (대안: 면적/인구 가중 평균)\n",
        "#     - 기숙사수용인원: 동 합계\n",
        "# 준비: 동별 테이블 두 개를 구 명칭 부여\n",
        "transport_by_dong = transport_idx.copy()\n",
        "if \"행정동명\" not in transport_by_dong.columns:\n",
        "    transport_by_dong = transport_by_dong.rename(columns={\"동\":\"행정동명\"})\n",
        "transport_by_dong = transport_by_dong.merge(dong_to_gu, on=\"행정동명\", how=\"left\")\n",
        "\n",
        "dorm_by_dong = dorm_latest.copy()\n",
        "if \"행정동명\" not in dorm_by_dong.columns:\n",
        "    dorm_by_dong = dorm_by_dong.rename(columns={\"동\":\"행정동명\"})\n",
        "dorm_by_dong = dorm_by_dong.merge(dong_to_gu, on=\"행정동명\", how=\"left\")\n",
        "\n",
        "# 집계\n",
        "gu_transport = (transport_by_dong\n",
        "                .groupby(\"행정구명\", as_index=False)[\"교통접근성지수\"]\n",
        "                .mean())  # 평균\n",
        "\n",
        "gu_dorm = (dorm_by_dong\n",
        "           .groupby(\"행정구명\", as_index=False)[\"기숙사수용인원\"]\n",
        "           .sum())     # 합계\n",
        "\n",
        "# (5) 구 단위에 교통/기숙사 붙이기\n",
        "df_final_gu_merged = (df_final_gu_merged\n",
        "                      .merge(gu_transport, on=\"행정구명\", how=\"left\")\n",
        "                      .merge(gu_dorm,      on=\"행정구명\", how=\"left\"))\n",
        "\n",
        "# 결측 0 보정\n",
        "for c in [\"업종다양성지수\",\"청년친화업종수\",\"여가 혹은 행정시설물수\",\"교통접근성지수\",\"기숙사수용인원\"]:\n",
        "    if c in df_final_gu_merged.columns:\n",
        "        df_final_gu_merged[c] = pd.to_numeric(df_final_gu_merged[c], errors=\"coerce\").fillna(0)\n",
        "\n",
        "# (6) 구 단위 지수 산출 (정규화 + 가중합)\n",
        "cols_scale_gu = [\"업종다양성지수\",\"청년친화업종수\",\"여가 혹은 행정시설물수\",\"교통접근성지수\",\"기숙사수용인원\"]\n",
        "exist_cols_gu = [c for c in cols_scale_gu if c in df_final_gu_merged.columns]\n",
        "sc_gu = MinMaxScaler()\n",
        "scaled = sc_gu.fit_transform(df_final_gu_merged[exist_cols_gu])\n",
        "for i, c in enumerate(exist_cols_gu):\n",
        "    df_final_gu_merged[c + \"_norm\"] = scaled[:, i]\n",
        "\n",
        "# 가중치 예시(구 단위): 교통 0.4, 기숙사 0.3, 업다 0.2, 청친 0.05, 시설 0.05\n",
        "def _safe(col): return df_final_gu_merged.get(col, pd.Series(0, index=df_final_gu_merged.index))\n",
        "df_final_gu_merged[\"모빌리티지수_구\"] = (\n",
        "    0.4*_safe(\"교통접근성지수_norm\") +\n",
        "    0.3*_safe(\"기숙사수용인원_norm\") +\n",
        "    0.2*_safe(\"업종다양성지수_norm\") +\n",
        "    0.05*_safe(\"청년친화업종수_norm\") +\n",
        "    0.05*_safe(\"여가 혹은 행정시설물수_norm\")\n",
        ").round(3)\n",
        "\n",
        "# 등급(3분위)\n",
        "q1, q2 = df_final_gu_merged[\"모빌리티지수_구\"].quantile([0.33, 0.66])\n",
        "df_final_gu_merged[\"등급_구\"] = pd.cut(\n",
        "    df_final_gu_merged[\"모빌리티지수_구\"],\n",
        "    bins=[-1, q1, q2, 1.01],\n",
        "    labels=[\"주의\",\"보통\",\"우수\"]\n",
        ")\n",
        "\n",
        "print(\"\\n--- 구(區) 단위 최종 데이터프레임 ---\")\n",
        "print(df_final_gu_merged.head())"
      ],
      "metadata": {
        "id": "1RxdBRgpjcIk"
      },
      "execution_count": null,
      "outputs": []
    },
    {
      "cell_type": "code",
      "source": [
        "# -------------------------------------------------\n",
        "# 2) 읍면동(洞) 단위 최종 DF: 기존 틀 + 교통/기숙사 붙이고 지수\n",
        "# -------------------------------------------------\n",
        "# (1) 기존 질문 코드(상권·시설 결합)\n",
        "df_final_eupmyeondong = pd.merge(biz_df_dong, facilities_by_dong, on='행정동명', how='outer')\n",
        "df_final_eupmyeondong.fillna(0, inplace=True)\n",
        "\n",
        "# (2) 교통/기숙사(동별) 붙이기\n",
        "df_final_eupmyeondong = (df_final_eupmyeondong\n",
        "                         .merge(transport_idx, on=\"행정동명\", how=\"left\")\n",
        "                         .merge(dorm_latest,   on=\"행정동명\", how=\"left\"))\n",
        "\n",
        "for c in [\"업종다양성지수\",\"청년친화업종수\",\"여가 혹은 행정시설물수\",\"교통접근성지수\",\"기숙사수용인원\"]:\n",
        "    if c in df_final_eupmyeondong.columns:\n",
        "        df_final_eupmyeondong[c] = pd.to_numeric(df_final_eupmyeondong[c], errors=\"coerce\").fillna(0)\n",
        "\n",
        "# (3) 동 단위 지수 산출 (정규화 + 가중합) — 동에서는 업다/시설 가중 조금 더 주는 버전\n",
        "cols_scale_dong = [\"업종다양성지수\",\"청년친화업종수\",\"여가 혹은 행정시설물수\",\"교통접근성지수\",\"기숙사수용인원\"]\n",
        "exist_cols_dong = [c for c in cols_scale_dong if c in df_final_eupmyeondong.columns]\n",
        "sc_d = MinMaxScaler()\n",
        "scaled_d = sc_d.fit_transform(df_final_eupmyeondong[exist_cols_dong])\n",
        "for i, c in enumerate(exist_cols_dong):\n",
        "    df_final_eupmyeondong[c + \"_norm\"] = scaled_d[:, i]\n",
        "\n",
        "# 가중치 예시(동 단위): 교통 0.4, 기숙사 0.3, 업다 0.2, 청친 0.05, 시설 0.05\n",
        "def _safe_d(col): return df_final_eupmyeondong.get(col, pd.Series(0, index=df_final_eupmyeondong.index))\n",
        "df_final_eupmyeondong[\"청년캠퍼스모빌리티지수\"] = (\n",
        "    0.4*_safe_d(\"교통접근성지수_norm\") +\n",
        "    0.3*_safe_d(\"기숙사수용인원_norm\") +\n",
        "    0.2*_safe_d(\"업종다양성지수_norm\") +\n",
        "    0.05*_safe_d(\"청년친화업종수_norm\") +\n",
        "    0.05*_safe_d(\"여가 혹은 행정시설물수_norm\")\n",
        ").round(3)\n",
        "\n",
        "q1d, q2d = df_final_eupmyeondong[\"청년캠퍼스모빌리티지수\"].quantile([0.33, 0.66])\n",
        "df_final_eupmyeondong[\"등급\"] = pd.cut(\n",
        "    df_final_eupmyeondong[\"청년캠퍼스모빌리티지수\"],\n",
        "    bins=[-1, q1d, q2d, 1.01],\n",
        "    labels=[\"주의\",\"보통\",\"우수\"]\n",
        ")\n",
        "\n",
        "print(\"\\n--- 읍면동(洞) 단위 최종 데이터프레임 ---\")\n",
        "print(df_final_eupmyeondong.head())\n",
        "print(df_final_eupmyeondong.columns)"
      ],
      "metadata": {
        "id": "ZHXt_Xm4jdp-"
      },
      "execution_count": null,
      "outputs": []
    },
    {
      "cell_type": "markdown",
      "metadata": {
        "id": "uZ3yS9jquuO9"
      },
      "source": [
        "# 모델링 및 지수 산출"
      ]
    },
    {
      "cell_type": "code",
      "source": [
        "# ==============================================================================\n",
        "# 1. 지수 산출을 위한 변수 준비 및 정규화\n",
        "# ==============================================================================\n",
        "# 각 구의 유일한 값을 추출하여 별도 데이터프레임으로 만듭니다.\n",
        "unique_gu_data = df_final_gu_merged[['행정구명', '업종다양성지수', '청년친화업종수', '여가 혹은 행정시설물수']].drop_duplicates()\n",
        "unique_gu_data = unique_gu_data.reset_index(drop=True)\n",
        "\n",
        "# Min-Max Scaler를 사용하여 변수들을 0~1 사이로 정규화합니다.\n",
        "scaler = MinMaxScaler()\n",
        "unique_gu_data[['업종다양성지수', '청년친화업종수', '여가 혹은 행정시설물수']] = scaler.fit_transform(unique_gu_data[['업종다양성지수', '청년친화업종수', '여가 혹은 행정시설물수']])\n",
        "\n",
        "print(\"--- 정규화된 구별 데이터 ---\")\n",
        "print(unique_gu_data.head())"
      ],
      "metadata": {
        "id": "jSrjBFzWpozY"
      },
      "execution_count": null,
      "outputs": []
    },
    {
      "cell_type": "code",
      "source": [
        "# ==============================================================================\n",
        "# 2. 청년생활권지수 산출 및 최종 데이터프레임 병합\n",
        "# ==============================================================================\n",
        "weights = {\n",
        "    '업종다양성지수': 0.3,\n",
        "    '청년친화업종수': 0.4,\n",
        "    '여가 혹은 행정시설물수': 0.3\n",
        "}\n",
        "\n",
        "# 정규화된 데이터에 가중치를 곱하여 '청년생활권지수'를 산출합니다.\n",
        "unique_gu_data['청년생활권지수'] = (\n",
        "    unique_gu_data['업종다양성지수'] * weights['업종다양성지수'] +\n",
        "    unique_gu_data['청년친화업종수'] * weights['청년친화업종수'] +\n",
        "    unique_gu_data['여가 혹은 행정시설물수'] * weights['여가 혹은 행정시설물수']\n",
        ")\n",
        "\n",
        "# 최종 데이터프레임에 지수 값을 병합합니다.\n",
        "df_final_result = pd.merge(\n",
        "    df_final_gu_merged,\n",
        "    unique_gu_data[['행정구명', '청년생활권지수']],\n",
        "    on='행정구명',\n",
        "    how='left'\n",
        ")\n",
        "\n",
        "# 최종 결과 확인\n",
        "print(\"\\n--- 최종 산출된 청년생활권지수 포함 데이터프레임 ---\")\n",
        "print(df_final_result.head())\n",
        "print(df_final_result.columns)"
      ],
      "metadata": {
        "id": "gkkDWyXnqXuO"
      },
      "execution_count": null,
      "outputs": []
    },
    {
      "cell_type": "markdown",
      "source": [
        "# 예측지도"
      ],
      "metadata": {
        "id": "IX7GTXSwmHOK"
      }
    },
    {
      "cell_type": "code",
      "source": [
        "# =========================\n",
        "# 0) 준비: 입력 DF 검사/정리\n",
        "# =========================\n",
        "# df_final_eupmyeondong: ['행정동명','청년캠퍼스모빌리티지수','등급', (옵션:'업종다양성지수','청년친화업종수','시설물수','교통접근성지수','기숙사수용인원')]\n",
        "need_cols = {\"행정동명\",\"청년캠퍼스모빌리티지수\"}\n",
        "missing = need_cols - set(df_final_eupmyeondong.columns)\n",
        "if missing:\n",
        "    raise ValueError(f\"df_final_eupmyeondong에 필수 컬럼 없음: {missing}\")\n",
        "\n",
        "df_scores = df_final_eupmyeondong.copy()\n",
        "df_scores[\"행정동명\"] = df_scores[\"행정동명\"].astype(str).str.strip()\n",
        "if \"등급\" not in df_scores.columns:\n",
        "    # 등급 없으면 3분위로 생성\n",
        "    q1, q2 = df_scores[\"청년캠퍼스모빌리티지수\"].quantile([0.33, 0.66])\n",
        "    df_scores[\"등급\"] = pd.cut(\n",
        "        df_scores[\"청년캠퍼스모빌리티지수\"], bins=[-1, q1, q2, np.inf],\n",
        "        labels=[\"주의\",\"보통\",\"우수\"]\n",
        "    )\n",
        "\n",
        "# dong_map_cheon: 천안 읍/면/동 경계 (EPSG:4326), EMD_NAME_COL: 동명이 들어있는 컬럼명\n",
        "assert EMD_NAME_COL in dong_map_cheon.columns, f\"{EMD_NAME_COL} 컬럼이 dong_map_cheon에 필요합니다.\"\n",
        "dong_gdf = dong_map_cheon[[EMD_NAME_COL, \"geometry\"]].copy()\n",
        "dong_gdf[EMD_NAME_COL] = dong_gdf[EMD_NAME_COL].astype(str).str.strip()"
      ],
      "metadata": {
        "id": "HEzU1s7O10Df"
      },
      "execution_count": null,
      "outputs": []
    },
    {
      "cell_type": "code",
      "source": [
        "# =========================\n",
        "# 1) 동 중심점(센트로이드) 구하기\n",
        "# =========================\n",
        "# 투영계로 한번 바꿔서 센트로이드 구한 뒤 WGS84로 재투영(왜곡↓)\n",
        "dong_cent = dong_gdf.to_crs(5179).copy()\n",
        "dong_cent[\"centroid\"] = dong_cent.geometry.centroid\n",
        "dong_cent = dong_cent.set_geometry(\"centroid\").to_crs(4326)\n",
        "dong_cent[\"lat\"] = dong_cent.geometry.y\n",
        "dong_cent[\"lon\"] = dong_cent.geometry.x\n",
        "dong_cent = dong_cent[[EMD_NAME_COL, \"lat\", \"lon\"]].rename(columns={EMD_NAME_COL:\"행정동명\"})"
      ],
      "metadata": {
        "id": "XrpNWbXB10A2"
      },
      "execution_count": null,
      "outputs": []
    },
    {
      "cell_type": "code",
      "source": [
        "# =========================\n",
        "# 2) 점표시용 DF 결합\n",
        "# =========================\n",
        "pts = pd.merge(df_scores, dong_cent, on=\"행정동명\", how=\"left\")\n",
        "pts = pts.dropna(subset=[\"lat\",\"lon\"]).copy()\n",
        "\n",
        "# 반경 스케일(동적): 7~20px\n",
        "v = pts[\"청년캠퍼스모빌리티지수\"].astype(float)\n",
        "vmin = np.nanquantile(v, 0.05) if np.isfinite(v).all() else v.min()\n",
        "vmax = np.nanquantile(v, 0.95) if np.isfinite(v).all() else v.max()\n",
        "if not np.isfinite(vmin) or not np.isfinite(vmax) or vmin==vmax:\n",
        "    vmin, vmax = 0.0, 1.0\n",
        "size = 7 + ( (v.clip(vmin, vmax) - vmin) / (vmax - vmin + 1e-9) ) * (20-7)\n",
        "pts[\"marker_size\"] = size.round(1)\n",
        "\n",
        "# 등급 색상(불량-보통-우수)\n",
        "grade_color = {\"주의\":\"#f46d43\", \"보통\":\"#fee08b\", \"우수\":\"#1a9850\"}\n",
        "pts[\"color\"] = pts[\"등급\"].astype(str).map(grade_color).fillna(\"#999999\")"
      ],
      "metadata": {
        "id": "EcIzAfcT1z-P"
      },
      "execution_count": null,
      "outputs": []
    },
    {
      "cell_type": "code",
      "source": [
        "# =========================\n",
        "# 3) 지도 기본\n",
        "# =========================\n",
        "center = [36.815, 127.15]  # 천안 중심\n",
        "m = folium.Map(location=center, zoom_start=12, tiles=\"cartodbpositron\")\n",
        "\n",
        "# (보조) 얇은 경계선 레이어\n",
        "fg_border = folium.FeatureGroup(name=\"읍면동 경계선(보조)\", show=False)\n",
        "folium.GeoJson(\n",
        "    dong_gdf,\n",
        "    style_function=lambda x: {\"fill\": False, \"color\": \"#666\", \"weight\": 1, \"opacity\":0.6},\n",
        "    tooltip=folium.GeoJsonTooltip(fields=[EMD_NAME_COL], aliases=[\"행정동명\"])\n",
        ").add_to(fg_border)\n",
        "fg_border.add_to(m)\n",
        "\n",
        "# (핵심) 동 점(예측지수) 레이어\n",
        "fg_pts = folium.FeatureGroup(name=\"예측지수(동 중심 점)\", show=True)\n",
        "for _, r in pts.iterrows():\n",
        "    dong = r[\"행정동명\"]\n",
        "    score = float(r[\"청년캠퍼스모빌리티지수\"])\n",
        "    grade = str(r[\"등급\"])\n",
        "    color = r[\"color\"]\n",
        "    radius = float(r[\"marker_size\"])\n",
        "\n",
        "    # 보조지표가 있으면 팝업에 같이 노출\n",
        "    sub_items = []\n",
        "    for col_kor in [\"업종다양성지수\",\"청년친화업종수\",\"여가 혹은 행정시설물수\",\"교통접근성지수\",\"기숙사수용인원\"]:\n",
        "        if col_kor in pts.columns and pd.notna(r[col_kor]):\n",
        "            sub_items.append(f\"{col_kor}: {r[col_kor]}\")\n",
        "    extra = \"<br>\".join(sub_items)\n",
        "\n",
        "    html = f\"\"\"\n",
        "    <div style='font-size:13px;'>\n",
        "      <b>{dong}</b><br>\n",
        "      지수: <b>{score:.3f}</b> / 등급: <b>{grade}</b><br>\n",
        "      {extra}\n",
        "    </div>\n",
        "    \"\"\"\n",
        "    folium.CircleMarker(\n",
        "        location=[r[\"lat\"], r[\"lon\"]],\n",
        "        radius=radius,\n",
        "        color=color, fill=True, fill_opacity=0.75, weight=1,\n",
        "        popup=folium.Popup(html, max_width=280),\n",
        "        tooltip=f\"{dong} · {score:.3f} ({grade})\"\n",
        "    ).add_to(fg_pts)\n",
        "fg_pts.add_to(m)\n",
        "\n",
        "# =========================\n",
        "# (NEW) 연속형 Choropleth 레이어\n",
        "# =========================\n",
        "choro_base = dong_gdf.to_crs(4326).copy()\n",
        "choro_base[\"key\"] = choro_base[EMD_NAME_COL].astype(str)\n",
        "\n",
        "data_df = df_scores[[\"행정동명\", \"청년캠퍼스모빌리티지수\"]].copy()\n",
        "data_df[\"key\"] = data_df[\"행정동명\"].astype(str)\n",
        "\n",
        "folium.Choropleth(\n",
        "    geo_data=choro_base,\n",
        "    data=data_df,\n",
        "    columns=[\"key\", \"청년캠퍼스모빌리티지수\"],\n",
        "    key_on=\"feature.properties.key\",\n",
        "    fill_color=\"YlOrRd\",\n",
        "    fill_opacity=0.5,\n",
        "    line_opacity=0.1,\n",
        "    legend_name=\"청년캠퍼스모빌리티지수 (연속)\",\n",
        "    show=False,  # 기본은 꺼두고 필요할 때 켜기\n",
        "    name=\"연속 채색(참고)\"\n",
        ").add_to(m)\n",
        "\n",
        "# =========================\n",
        "# (NEW) 천안시 전체 외곽선 추가\n",
        "# =========================\n",
        "# 기존 읍면동 경계를 하나로 합쳐(dissolve) 천안시 전체 외곽선을 만듭니다.\n",
        "cheonan_border = dong_gdf.dissolve()\n",
        "\n",
        "# 두꺼운 외곽선을 별도의 GeoJson 레이어로 추가합니다.\n",
        "folium.GeoJson(\n",
        "    cheonan_border,\n",
        "    style_function=lambda x: {\n",
        "        \"fill\": False,          # 안쪽은 채우지 않음\n",
        "        \"color\": \"#111111\",     # 선 색상 (검정색에 가깝게)\n",
        "        \"weight\": 4             # 선 두께 (기존보다 두껍게)\n",
        "    },\n",
        "    name=\"천안시 외곽선\"\n",
        ").add_to(m)"
      ],
      "metadata": {
        "id": "wRq4MH4-1z7o"
      },
      "execution_count": null,
      "outputs": []
    },
    {
      "cell_type": "code",
      "source": [
        "# =========================\n",
        "# 4) 보조 레이어들\n",
        "# =========================\n",
        "# 4-1) 캠퍼스\n",
        "if \"df_geo_ok\" in globals() and not df_geo_ok.empty:\n",
        "    fg_uni = folium.FeatureGroup(name=\"캠퍼스\", show=True)\n",
        "    for _, u in df_geo_ok.dropna(subset=[\"lat\",\"lon\"]).iterrows():\n",
        "        nm = str(u.get(\"학교_std\") or u.get(\"name\") or \"캠퍼스\")\n",
        "        folium.Marker(\n",
        "            [float(u[\"lat\"]), float(u[\"lon\"])],\n",
        "            icon=folium.Icon(color=\"blue\", icon=\"university\", prefix=\"fa\"),\n",
        "            tooltip=nm,\n",
        "            popup=nm\n",
        "        ).add_to(fg_uni)\n",
        "    fg_uni.add_to(m)\n",
        "\n",
        "# 4-2) 상권 점포 (최대 1000개 샘플)\n",
        "if \"consume_cheonan\" in globals() and not consume_cheonan.empty:\n",
        "    shops = consume_cheonan.copy()\n",
        "    for c in [\"위도\",\"경도\"]:\n",
        "        if c in shops.columns:\n",
        "            shops[c] = pd.to_numeric(shops[c], errors=\"coerce\")\n",
        "    shops = shops.dropna(subset=[\"위도\",\"경도\"])\n",
        "    if len(shops) > 1000:\n",
        "        shops = shops.sample(1000, random_state=42)\n",
        "    fg_shop = folium.FeatureGroup(name=f\"상권 점포(표본 {len(shops)}개)\", show=False)\n",
        "    for _, s in shops.iterrows():\n",
        "        folium.CircleMarker(\n",
        "            [s[\"위도\"], s[\"경도\"]],\n",
        "            radius=2.5, color=\"#ff8c00\", fill=True, fill_opacity=0.6,\n",
        "            tooltip=str(s.get(\"상호명\",\"점포\"))\n",
        "        ).add_to(fg_shop)\n",
        "    fg_shop.add_to(m)\n",
        "\n",
        "# 4-3) 입주기업\n",
        "if 'company_geocoded' in globals() and not company_geocoded.empty:\n",
        "    fg_comp = folium.FeatureGroup(name=f\"입주기업 ({len(company_geocoded)}개)\", show=False)\n",
        "\n",
        "    for _, row in company_geocoded.iterrows():\n",
        "        folium.CircleMarker(\n",
        "            location=[row['lat'], row['lon']],\n",
        "            radius=4,\n",
        "            color='#7e57c2', # 보라색\n",
        "            fill=True,\n",
        "            fill_opacity=0.7,\n",
        "            tooltip=f\"{row['회사명']} ({row['단지명']})\"\n",
        "        ).add_to(fg_comp)\n",
        "\n",
        "    fg_comp.add_to(m)"
      ],
      "metadata": {
        "id": "nalhSOo01z5C"
      },
      "execution_count": null,
      "outputs": []
    },
    {
      "cell_type": "code",
      "source": [
        "# =========================\n",
        "# 5) 상단 요약 박스 + 등급 범례\n",
        "# =========================\n",
        "mean_score = pts[\"청년캠퍼스모빌리티지수\"].mean()\n",
        "top5 = pts.sort_values(\"청년캠퍼스모빌리티지수\", ascending=False).head(5)[[\"행정동명\",\"청년캠퍼스모빌리티지수\"]]\n",
        "top_html = \"<br>\".join([f\"{i+1}. {r['행정동명']} ({r['청년캠퍼스모빌리티지수']:.2f})\" for i, r in top5.reset_index(drop=True).iterrows()])\n",
        "\n",
        "summary_html = f\"\"\"\n",
        "<div style=\"position: fixed; top: 10px; left: 10px; z-index: 9999;\n",
        "            background: rgba(255,255,255,0.95); padding: 10px 12px;\n",
        "            border: 1px solid #ccc; border-radius: 8px; font-size: 12px;\">\n",
        "  <b>천안시 예측지수 요약</b><br>\n",
        "  평균 지수: <b>{mean_score:.3f}</b><br>\n",
        "  상위 TOP5<br>{top_html}\n",
        "</div>\n",
        "\"\"\"\n",
        "legend_html = \"\"\"\n",
        "<div style=\"position: fixed; top: 450px; right: 10px; z-index: 9999;\n",
        "             background: rgba(255,255,255,0.95); padding: 10px 12px;\n",
        "             border: 1px solid #ccc; border-radius: 8px; font-size: 12px;\">\n",
        "  <b>등급(색상)</b><br>\n",
        "  <div><span style=\"display:inline-block;width:12px;height:12px;background:#f46d43;border:1px solid #999;margin-right:6px\"></span>주의</div>\n",
        "  <div><span style=\"display:inline-block;width:12px;height:12px;background:#fee08b;border:1px solid #999;margin-right:6px\"></span>보통</div>\n",
        "  <div><span style=\"display:inline-block;width:12px;height:12px;background:#1a9850;border:1px solid #999;margin-right:6px\"></span>우수</div>\n",
        "  <div style=\"margin-top:6px;color:#777;\">※ 원 크기 = 지수 크기</div>\n",
        "</div>\n",
        "\"\"\"\n",
        "m.get_root().html.add_child(folium.Element(summary_html))\n",
        "m.get_root().html.add_child(folium.Element(legend_html))"
      ],
      "metadata": {
        "id": "cVKYvTBF2FOa"
      },
      "execution_count": null,
      "outputs": []
    },
    {
      "cell_type": "code",
      "source": [
        "# =========================\n",
        "# 6) 저장\n",
        "# =========================\n",
        "folium.LayerControl(collapsed=False).add_to(m)\n",
        "out_name = \"천안_예측지도_동점_멀티레이어.html\"\n",
        "m.save(out_name)\n",
        "print(\"✅ 저장:\", out_name)"
      ],
      "metadata": {
        "id": "_bLm_dGF2qWP"
      },
      "execution_count": null,
      "outputs": []
    },
    {
      "cell_type": "code",
      "source": [
        "# 생성된 HTML 파일명\n",
        "file_name = '천안_예측지도_동점_멀티레이어.html'\n",
        "\n",
        "# 파일을 다운로드합니다.\n",
        "files.download(file_name)\n",
        "\n",
        "print(f\"'{file_name}' 파일 다운로드가 시작되었습니다.\")"
      ],
      "metadata": {
        "id": "iXNJn9miu4hq"
      },
      "execution_count": null,
      "outputs": []
    },
    {
      "cell_type": "code",
      "source": [],
      "metadata": {
        "id": "was8EL6-zbll"
      },
      "execution_count": null,
      "outputs": []
    }
  ],
  "metadata": {
    "colab": {
      "collapsed_sections": [
        "pqLwhafMEcHc",
        "iY6UFiDyL48E",
        "80XcxHmREAa-",
        "HTWF5EtbNMOM"
      ],
      "provenance": [],
      "include_colab_link": true
    },
    "kernelspec": {
      "display_name": "Python 3",
      "name": "python3"
    },
    "language_info": {
      "name": "python"
    }
  },
  "nbformat": 4,
  "nbformat_minor": 0
}